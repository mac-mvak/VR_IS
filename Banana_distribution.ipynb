{
 "cells": [
  {
   "cell_type": "code",
   "execution_count": 1,
   "id": "64e76fd7",
   "metadata": {
    "colab": {
     "base_uri": "https://localhost:8080/"
    },
    "id": "64e76fd7",
    "outputId": "aa6f845e-6f0e-4a63-a7df-fba63080d8d0"
   },
   "outputs": [
    {
     "name": "stderr",
     "output_type": "stream",
     "text": [
      "2023-05-29 19:44:13.076268: W tensorflow/compiler/tf2tensorrt/utils/py_utils.cc:38] TF-TRT Warning: Could not find TensorRT\n"
     ]
    }
   ],
   "source": [
    "import numpy as np\n",
    "\n",
    "import torch\n",
    "from torch import nn\n",
    "from torch import optim\n",
    "\n",
    "import time\n",
    "import tqdm\n",
    "\n",
    "import tkinter\n",
    "import pickle\n",
    "\n",
    "from IPython.display import clear_output\n",
    "\n",
    "import sys\n",
    "\n",
    "sys.path.append('..')\n",
    "\n",
    "import pyro\n",
    "from pyro.infer import HMC, MCMC, NUTS\n",
    "from samplers import mala, i_sir, ex2_mcmc\n",
    "import ot\n",
    "import jax\n",
    "import gc\n",
    "\n",
    "from cifar10_experiments.models import Generator, Discriminator\n",
    "\n",
    "from sampling_utils.adaptive_mc import CISIR, Ex2MCMC, FlowMCMC\n",
    "from sampling_utils.adaptive_sir_loss import MixKLLoss\n",
    "from sampling_utils.distributions import (\n",
    "    Banana,\n",
    "    CauchyMixture,\n",
    "    Distribution,\n",
    "    Funnel,\n",
    "    HalfBanana,\n",
    "    IndependentNormal,\n",
    ")\n",
    "from sampling_utils.ebm_sampling import MALA\n",
    "from sampling_utils.flows import RNVP\n",
    "from sampling_utils.metrics import ESS, acl_spectrum\n",
    "from sampling_utils.total_variation import (\n",
    "    average_total_variation,\n",
    ")"
   ]
  },
  {
   "cell_type": "code",
   "execution_count": null,
   "id": "ffe1873f-6a2c-45c9-b74f-fb8f18b477f1",
   "metadata": {},
   "outputs": [],
   "source": []
  },
  {
   "cell_type": "code",
   "execution_count": 2,
   "id": "i5-GbHgG5xm5",
   "metadata": {
    "colab": {
     "base_uri": "https://localhost:8080/"
    },
    "id": "i5-GbHgG5xm5",
    "outputId": "035b21ed-acc0-4277-c137-c4e66c6ea352"
   },
   "outputs": [],
   "source": [
    "#!pip install pyro-ppl easydict pot flax mlpaper\n",
    "#!pip3 install torch torchvision torchaudio --extra-index-url https://download.pytorch.org/whl/cu113"
   ]
  },
  {
   "cell_type": "code",
   "execution_count": 3,
   "id": "782aeab8",
   "metadata": {
    "id": "782aeab8"
   },
   "outputs": [],
   "source": [
    "import matplotlib\n",
    "import matplotlib.pyplot as plt\n",
    "%matplotlib inline"
   ]
  },
  {
   "cell_type": "code",
   "execution_count": 4,
   "id": "eefb8f1e",
   "metadata": {
    "id": "eefb8f1e"
   },
   "outputs": [],
   "source": [
    "def sample_nuts(target, proposal, device = 'cpu', num_samples=1000, burn_in=1000, batch_size=1, rand_seed = 42):\n",
    "    def true_target_energy(z):\n",
    "        return -target(z)\n",
    "\n",
    "    def energy(z):\n",
    "        z = z[\"points\"]\n",
    "        return true_target_energy(z).sum()\n",
    "    start_time = time.time()\n",
    "    # kernel = HMC(potential_fn=energy, step_size = 0.1, num_steps = K, full_mass = False)\n",
    "    kernel_true = NUTS(potential_fn=energy, full_mass=False)\n",
    "    #kernel_true = HMC(potential_fn=energy, full_mass=False)\n",
    "    pyro.set_rng_seed(rand_seed)\n",
    "    init_samples = proposal.sample((batch_size,)).to(device)\n",
    "    print(init_samples.shape) \n",
    "    #init_samples = torch.zeros_like(init_samples)\n",
    "    dim = init_samples.shape[-1]\n",
    "    init_params = {\"points\": init_samples}\n",
    "    mcmc_true = MCMC(\n",
    "        kernel=kernel_true,\n",
    "        num_samples=num_samples,\n",
    "        initial_params=init_params,\n",
    "        warmup_steps=burn_in,\n",
    "    )\n",
    "    mcmc_true.run()\n",
    "    q_true = mcmc_true.get_samples(group_by_chain=True)[\"points\"].cpu()\n",
    "    samples_true = np.array(q_true.view(-1, batch_size, dim))\n",
    "    end_time = time.time()\n",
    "    return end_time-start_time, samples_true"
   ]
  },
  {
   "cell_type": "code",
   "execution_count": 5,
   "id": "21ecc163",
   "metadata": {
    "id": "21ecc163"
   },
   "outputs": [],
   "source": [
    "def plot_learned_density(\n",
    "    flow,\n",
    "    proposal,\n",
    "    fig=None,\n",
    "    device=\"cpu\",\n",
    "    xlim=[-1, 1],\n",
    "    ylim=[-1, 1],\n",
    "    rest=0.0,\n",
    "):\n",
    "    if fig is None:\n",
    "        fig = plt.figure()\n",
    "    n_pts = 200\n",
    "    z = proposal.sample((n_pts**2,))\n",
    "    x = np.linspace(*xlim, n_pts)\n",
    "    y = np.linspace(*ylim, n_pts)\n",
    "    xx, yy = np.meshgrid(x, y)\n",
    "    zz = np.stack([xx, yy], -1)\n",
    "    z[:, :2] = torch.FloatTensor(zz).view(-1, 2).to(device)\n",
    "    z[:, 2:] = torch.FloatTensor([rest] * n_pts**2)[:, None]\n",
    "\n",
    "    inv, minus_log_jac = flow.inverse(z)\n",
    "    minus_log_jac = minus_log_jac.reshape(n_pts, n_pts)\n",
    "    inv = inv.reshape(n_pts, n_pts, -1)\n",
    "    vals = (proposal(inv) + minus_log_jac).exp().detach()\n",
    "\n",
    "    im = plt.contourf(xx, yy, vals.reshape(n_pts, n_pts), cmap=\"GnBu\")\n",
    "    fig.colorbar(im)\n",
    "    return fig\n",
    "\n",
    "def compute_metrics(\n",
    "    xs_true,\n",
    "    xs_pred,\n",
    "    name=None,\n",
    "    n_samples=1000,\n",
    "    scale=1.0,\n",
    "    trunc_chain_len=None,\n",
    "    ess_rar=1,\n",
    "):\n",
    "    metrics = dict()\n",
    "    key = jax.random.PRNGKey(0)\n",
    "    n_steps = 25\n",
    "    # n_samples = 100\n",
    "\n",
    "    ess = ESS(\n",
    "        acl_spectrum(\n",
    "            xs_pred[::ess_rar] - xs_pred[::ess_rar].mean(0)[None, ...],\n",
    "        ),\n",
    "    ).mean()\n",
    "    metrics[\"ess\"] = ess\n",
    "\n",
    "    xs_pred = xs_pred[-trunc_chain_len:]\n",
    "    print(xs_true.shape)\n",
    "    print(xs_pred.shape)\n",
    "\n",
    "    tracker = average_total_variation(\n",
    "        key,\n",
    "        xs_true,\n",
    "        xs_pred,\n",
    "        n_steps=n_steps,\n",
    "        n_samples=n_samples,\n",
    "    )\n",
    "\n",
    "    metrics[\"tv_mean\"] = tracker.mean()\n",
    "    metrics[\"tv_conf_sigma\"] = tracker.std_of_mean()\n",
    "\n",
    "    mean = tracker.mean()\n",
    "    std = tracker.std()\n",
    "\n",
    "    metrics[\"emd\"] = 0\n",
    "    #Cost_matr_isir = ot.dist(x1 = isir_res[j][i], x2=gt_samples[i], metric='sqeuclidean', p=2, w=None)\n",
    "    for b in range(xs_pred.shape[1]):\n",
    "        M = ot.dist(xs_true / scale, xs_pred[:, b,:] / scale)\n",
    "        emd = ot.lp.emd2([], [], M, numItermax = 1e6)\n",
    "        metrics[\"emd\"] += emd / xs_pred.shape[1]\n",
    "\n",
    "    if name is not None:\n",
    "        print(f\"===={name}====\")\n",
    "    print(\n",
    "        f\"TV distance. Mean: {mean:.3f}, Std: {std:.3f}. \\nESS: {ess:.3f} \\nEMD: {emd:.3f}\",\n",
    "    )\n",
    "\n",
    "    return metrics"
   ]
  },
  {
   "cell_type": "code",
   "execution_count": 6,
   "id": "e62fb19f",
   "metadata": {
    "id": "e62fb19f"
   },
   "outputs": [],
   "source": [
    "def plot_metrics(metrics, ndims, savepath=None, scale=1.0, colors=None):\n",
    "    axs_names = [\"Sliced TV\", \"ESS\", \"EMD ratio\"]  # (on scaled data)']\n",
    "    ncols = len(axs_names)\n",
    "\n",
    "    figs = []\n",
    "    axs = []\n",
    "    for _ in range(ncols):\n",
    "        fig, ax = plt.subplots(ncols=1, nrows=1, figsize=(6, 6))\n",
    "        figs.append(fig)\n",
    "        axs.append(ax)\n",
    "\n",
    "    mala_emd = metrics['MALA']['emd']\n",
    "    \n",
    "    for (name, res), color in zip(metrics.items(), colors):\n",
    "        for k, v in res.items():\n",
    "            res[k] = np.array(v)\n",
    "\n",
    "        arr = res[\"tv_mean\"]\n",
    "        axs[0].plot(ndims, arr, label=name, marker=\"o\", color=color)\n",
    "\n",
    "        axs[0].fill_between(\n",
    "            ndims,\n",
    "            res[\"tv_mean\"] - 1.96 * res[\"tv_conf_sigma\"],\n",
    "            res[\"tv_mean\"] + 1.96 * res[\"tv_conf_sigma\"],\n",
    "            alpha=0.2,\n",
    "        )\n",
    "\n",
    "        arr = res[\"ess\"]\n",
    "        axs[1].plot(ndims, arr, label=name, marker=\"o\", color=color)\n",
    "\n",
    "        if name != 'MALA':\n",
    "            arr = mala_emd / res[\"emd\"]\n",
    "            axs[2].plot(ndims, arr, label=name, marker=\"o\", color=color)\n",
    "        #axs[2].set_yscale(\"log\")\n",
    "\n",
    "    for ax, fig, name in zip(axs, figs, axs_names):\n",
    "        ax.grid()\n",
    "        ax.set_title(name.split(' ')[0])\n",
    "        ax.set_xlabel(\"dim\")\n",
    "        if name == \"EMD ratio\":\n",
    "            ax.legend()\n",
    "\n",
    "        fig.tight_layout()\n",
    "\n",
    "        if savepath is not None:\n",
    "            fig.savefig(Path(savepath, f\"{name}.pdf\"))"
   ]
  },
  {
   "cell_type": "code",
   "execution_count": 7,
   "id": "0451eea7",
   "metadata": {
    "id": "0451eea7"
   },
   "outputs": [],
   "source": [
    "n_steps = 1\n",
    "dist = \"banana\"\n",
    "dim = 80\n",
    "scale_proposal = 1.\n",
    "scale_isir = 5.\n",
    "dist_class = \"Banana\"\n",
    "dist_params = {\n",
    "    \"b\": 0.02,\n",
    "    \"sigma\":5.0,\n",
    "}\n",
    "sigma = 5.0\n",
    "b = 0.02"
   ]
  },
  {
   "cell_type": "code",
   "execution_count": 8,
   "id": "2e8ad069",
   "metadata": {
    "id": "2e8ad069"
   },
   "outputs": [],
   "source": [
    "device = \"cuda\"\n",
    "#method_metric_dict = defaultdict(lambda: defaultdict(list))"
   ]
  },
  {
   "cell_type": "code",
   "execution_count": 9,
   "id": "309bf3de",
   "metadata": {
    "id": "309bf3de"
   },
   "outputs": [],
   "source": [
    "target = Banana(\n",
    "                dim=dim,\n",
    "                device=device,\n",
    "                b = b,\n",
    "                sigma = sigma,\n",
    "                #b = b\n",
    "                #**dist_params.dict,\n",
    ")\n",
    "\n",
    "loc_proposal = torch.zeros(dim).to(device)\n",
    "scale_proposal = scale_proposal * torch.ones(dim).to(device)\n",
    "scale_isir = scale_isir * torch.ones(dim).to(device)\n",
    "\n",
    "proposal = IndependentNormal(\n",
    "    dim=dim,\n",
    "    loc=loc_proposal,\n",
    "    scale=scale_proposal,\n",
    "    device=device,\n",
    ")\n",
    "\n",
    "proposal_ex2 = IndependentNormal(\n",
    "    dim=dim,\n",
    "    loc=loc_proposal,\n",
    "    scale=scale_isir,\n",
    "    device=device,\n",
    ")"
   ]
  },
  {
   "cell_type": "code",
   "execution_count": 10,
   "id": "f062dfef",
   "metadata": {},
   "outputs": [
    {
     "data": {
      "text/plain": [
       "torch.Size([2, 80])"
      ]
     },
     "execution_count": 10,
     "metadata": {},
     "output_type": "execute_result"
    }
   ],
   "source": [
    "proposal.sample((2,)).shape"
   ]
  },
  {
   "cell_type": "code",
   "execution_count": 11,
   "id": "d6189378",
   "metadata": {},
   "outputs": [],
   "source": [
    "u = np.ones((2, 100))\n",
    "\n",
    "w = torch.tensor(u, requires_grad=True)"
   ]
  },
  {
   "cell_type": "code",
   "execution_count": 12,
   "id": "df771ea4",
   "metadata": {},
   "outputs": [
    {
     "data": {
      "text/plain": [
       "((2, 100), torch.Size([2, 100]))"
      ]
     },
     "execution_count": 12,
     "metadata": {},
     "output_type": "execute_result"
    }
   ],
   "source": [
    "u.shape, w.shape"
   ]
  },
  {
   "cell_type": "code",
   "execution_count": 13,
   "id": "cd89f290",
   "metadata": {},
   "outputs": [
    {
     "data": {
      "text/plain": [
       "array([-44.608, -44.608])"
      ]
     },
     "execution_count": 13,
     "metadata": {},
     "output_type": "execute_result"
    }
   ],
   "source": [
    "target(u)"
   ]
  },
  {
   "cell_type": "code",
   "execution_count": 14,
   "id": "a06772d3",
   "metadata": {},
   "outputs": [
    {
     "data": {
      "text/plain": [
       "tensor([[1., 1., 1., 1., 1., 1., 1., 1., 1., 1., 1., 1., 1., 1., 1., 1., 1., 1.,\n",
       "         1., 1., 1., 1., 1., 1., 1., 1., 1., 1., 1., 1., 1., 1., 1., 1., 1., 1.,\n",
       "         1., 1., 1., 1., 1., 1., 1., 1., 1., 1., 1., 1., 1., 1., 1., 1., 1., 1.,\n",
       "         1., 1., 1., 1., 1., 1., 1., 1., 1., 1., 1., 1., 1., 1., 1., 1., 1., 1.,\n",
       "         1., 1., 1., 1., 1., 1., 1., 1., 1., 1., 1., 1., 1., 1., 1., 1., 1., 1.,\n",
       "         1., 1., 1., 1., 1., 1., 1., 1., 1., 1.],\n",
       "        [1., 1., 1., 1., 1., 1., 1., 1., 1., 1., 1., 1., 1., 1., 1., 1., 1., 1.,\n",
       "         1., 1., 1., 1., 1., 1., 1., 1., 1., 1., 1., 1., 1., 1., 1., 1., 1., 1.,\n",
       "         1., 1., 1., 1., 1., 1., 1., 1., 1., 1., 1., 1., 1., 1., 1., 1., 1., 1.,\n",
       "         1., 1., 1., 1., 1., 1., 1., 1., 1., 1., 1., 1., 1., 1., 1., 1., 1., 1.,\n",
       "         1., 1., 1., 1., 1., 1., 1., 1., 1., 1., 1., 1., 1., 1., 1., 1., 1., 1.,\n",
       "         1., 1., 1., 1., 1., 1., 1., 1., 1., 1.]], dtype=torch.float64,\n",
       "       requires_grad=True)"
      ]
     },
     "execution_count": 14,
     "metadata": {},
     "output_type": "execute_result"
    }
   ],
   "source": [
    "w"
   ]
  },
  {
   "cell_type": "markdown",
   "id": "ccb93c3e",
   "metadata": {
    "id": "ccb93c3e"
   },
   "source": [
    "### Generate ground-truth samples"
   ]
  },
  {
   "cell_type": "code",
   "execution_count": 15,
   "id": "f6bf6e44",
   "metadata": {
    "id": "f6bf6e44",
    "tags": []
   },
   "outputs": [],
   "source": [
    "N_samples = 2*10**3\n",
    "np.random.seed(42)\n",
    "True_samples = np.random.randn(N_samples,dim)\n",
    "for i in range(dim):\n",
    "    if i % 2 == 0:\n",
    "      True_samples[:,i] *= sigma\n",
    "    else:\n",
    "      True_samples[:,i] += b*True_samples[:,i-1]**2 - (sigma**2)*b"
   ]
  },
  {
   "cell_type": "code",
   "execution_count": 16,
   "id": "4f23fb68",
   "metadata": {
    "colab": {
     "base_uri": "https://localhost:8080/",
     "height": 281
    },
    "id": "4f23fb68",
    "outputId": "b07c1f72-ff87-4d11-cca8-18007445e5d7"
   },
   "outputs": [
    {
     "data": {
      "image/png": "[encoded data removed]",
      "text/plain": [
       "<Figure size 640x480 with 1 Axes>"
      ]
     },
     "metadata": {},
     "output_type": "display_data"
    }
   ],
   "source": [
    "fig,ax=plt.subplots(1,1)\n",
    "#cp = ax.contourf(X, Y, dens_vals)\n",
    "#fig.colorbar(cp) # Add a colorbar to a plot\n",
    "ax.scatter(True_samples[:,2],True_samples[:,3])\n",
    "ax.set_title('Ground truth samples')\n",
    "#ax.set_xlabel('x (cm)')\n",
    "ax.set_ylabel('y (cm)')\n",
    "plt.show()"
   ]
  },
  {
   "cell_type": "markdown",
   "id": "2d7c4763",
   "metadata": {
    "id": "2d7c4763"
   },
   "source": [
    "### Sample with NUTS"
   ]
  },
  {
   "cell_type": "code",
   "execution_count": 17,
   "id": "b663fb4b",
   "metadata": {
    "id": "b663fb4b"
   },
   "outputs": [],
   "source": [
    "#samples to compute ground-truth metrics\n",
    "Nuts_samples_ground_truth = 2000\n",
    "#Nuts_samples_comparison\n",
    "trunc_chain_len = 1000\n",
    "#nuts samples burn_in\n",
    "nuts_burn_in = 500\n",
    "#nuts batch size\n",
    "nuts_batch = 1"
   ]
  },
  {
   "cell_type": "markdown",
   "id": "1f5f78d4",
   "metadata": {
    "id": "1f5f78d4"
   },
   "source": [
    "### Generate ground-truth samples (with NUTS)"
   ]
  },
  {
   "cell_type": "code",
   "execution_count": 18,
   "id": "d789c9e9",
   "metadata": {
    "id": "d789c9e9"
   },
   "outputs": [],
   "source": [
    "#samples_true = sample_nuts(\n",
    "#                target,\n",
    "#                proposal,\n",
    "#                num_samples=Nuts_samples_ground_truth,#config.trunc_chain_len,\n",
    "#                batch_size=nuts_batch, #config.batch_size\n",
    "#)[:, 0, :]\n",
    "#print(samples_true.shape)"
   ]
  },
  {
   "cell_type": "code",
   "execution_count": 19,
   "id": "bc757f25",
   "metadata": {
    "colab": {
     "base_uri": "https://localhost:8080/"
    },
    "id": "bc757f25",
    "outputId": "43a5d9da-bb5d-4f8a-d6b6-1bf6a0cb286e"
   },
   "outputs": [
    {
     "name": "stdout",
     "output_type": "stream",
     "text": [
      "torch.Size([1, 80])\n"
     ]
    },
    {
     "name": "stderr",
     "output_type": "stream",
     "text": [
      "Sample: 100%|█| 1500/1500 [00:32, 45.79it/s, step size=2.56e-01, acc. prob=0.894"
     ]
    },
    {
     "name": "stdout",
     "output_type": "stream",
     "text": [
      "(1000, 1, 80)\n"
     ]
    },
    {
     "name": "stderr",
     "output_type": "stream",
     "text": [
      "\n"
     ]
    }
   ],
   "source": [
    "rand_seed = 42\n",
    "time_nuts, sample_nuts_ref = sample_nuts(\n",
    "                target,\n",
    "                proposal,\n",
    "                device,\n",
    "                num_samples=trunc_chain_len,\n",
    "                batch_size=nuts_batch,\n",
    "                burn_in=nuts_burn_in,\n",
    "                rand_seed = rand_seed\n",
    ")\n",
    "print(sample_nuts_ref.shape)"
   ]
  },
  {
   "cell_type": "code",
   "execution_count": 20,
   "id": "5eb1168c",
   "metadata": {},
   "outputs": [
    {
     "data": {
      "text/plain": [
       "(1000, 1, 80)"
      ]
     },
     "execution_count": 20,
     "metadata": {},
     "output_type": "execute_result"
    }
   ],
   "source": [
    "sample_nuts_ref.shape"
   ]
  },
  {
   "cell_type": "code",
   "execution_count": 21,
   "id": "c25210ad",
   "metadata": {
    "colab": {
     "base_uri": "https://localhost:8080/",
     "height": 281
    },
    "id": "c25210ad",
    "outputId": "fe65e745-7764-4679-f98e-0c08d2922f5a"
   },
   "outputs": [
    {
     "data": {
      "image/png": "[encoded data removed]",
      "text/plain": [
       "<Figure size 640x480 with 1 Axes>"
      ]
     },
     "metadata": {},
     "output_type": "display_data"
    }
   ],
   "source": [
    "fig,ax=plt.subplots(1,1)\n",
    "ax.scatter(sample_nuts_ref[:,0,0],sample_nuts_ref[:,0,1])\n",
    "ax.set_title('NUTS samples')\n",
    "#ax.set_xlabel('x (cm)')\n",
    "ax.set_ylabel('y (cm)')\n",
    "plt.show()"
   ]
  },
  {
   "cell_type": "code",
   "execution_count": 22,
   "id": "6147e47f",
   "metadata": {
    "colab": {
     "base_uri": "https://localhost:8080/",
     "height": 124,
     "referenced_widgets": [
      "3d378aa54c2f436e8349470427419216",
      "31f91ee4cd7144f69412678d58b7bfa9",
      "f21fd4150ad749738bd242186235c311",
      "e8208311ee474331b02f15bcc90f0c95",
      "87d45eadfa274b00931d79166cb67592",
      "344fe94af8fd4ee2ad6706eb15c55a4e",
      "fa43cbec1f434b519b415de19d25fb8a",
      "d35e74085d554fda85c4ec486d9a8d72",
      "ad154756b47a4403a79ab13900096f44",
      "5646c4ee50ab4d2e95852cf29164bf92",
      "b7e31e870c754c29902752389de49ec1"
     ]
    },
    "id": "6147e47f",
    "outputId": "16cc3971-fb42-4604-9f4c-ed5d7877ebc0"
   },
   "outputs": [
    {
     "name": "stderr",
     "output_type": "stream",
     "text": [
      "No GPU/TPU found, falling back to CPU. (Set TF_CPP_MIN_LOG_LEVEL=0 and rerun for more info.)\n"
     ]
    },
    {
     "name": "stdout",
     "output_type": "stream",
     "text": [
      "(2000, 80)\n",
      "(1000, 1, 80)\n"
     ]
    },
    {
     "data": {
      "application/vnd.jupyter.widget-view+json": {
       "model_id": "",
       "version_major": 2,
       "version_minor": 0
      },
      "text/plain": [
       "  0%|          | 0/25 [00:00<?, ?it/s]"
      ]
     },
     "metadata": {},
     "output_type": "display_data"
    },
    {
     "name": "stdout",
     "output_type": "stream",
     "text": [
      "====NUTS====\n",
      "TV distance. Mean: 0.035, Std: 0.006. \n",
      "ESS: 0.411 \n",
      "EMD: 1170.984\n"
     ]
    }
   ],
   "source": [
    "metrics = compute_metrics(\n",
    "                    True_samples,\n",
    "                    sample_nuts_ref,\n",
    "                    name=\"NUTS\",\n",
    "                    trunc_chain_len=trunc_chain_len,\n",
    "                    ess_rar=1,\n",
    ")"
   ]
  },
  {
   "cell_type": "markdown",
   "id": "d4c58b7c",
   "metadata": {
    "id": "d4c58b7c"
   },
   "source": [
    "### Sample with Ex2MCMC"
   ]
  },
  {
   "cell_type": "code",
   "execution_count": 23,
   "id": "a6e1a1b7",
   "metadata": {
    "id": "a6e1a1b7"
   },
   "outputs": [],
   "source": [
    "params = {\n",
    "      \"N\": 200,\n",
    "      \"grad_step\": 0.1,\n",
    "      \"adapt_stepsize\": True, #True\n",
    "      \"corr_coef\": 0.0,\n",
    "      \"bernoulli_prob_corr\": 0.0, #0.75\n",
    "      \"mala_steps\": 3\n",
    "}\n",
    "        \n",
    "n_steps_ex2 = 5000\n",
    "batch_size = 1"
   ]
  },
  {
   "cell_type": "code",
   "execution_count": 24,
   "id": "68680fc4",
   "metadata": {
    "colab": {
     "base_uri": "https://localhost:8080/"
    },
    "id": "68680fc4",
    "outputId": "d4f90692-b4e4-4d3b-d6a4-a951e19dcd34"
   },
   "outputs": [
    {
     "name": "stdout",
     "output_type": "stream",
     "text": [
      "tensor([[  9.9913,   9.9050,   7.2289,   9.9065,   5.9921,   7.5368,   6.1781,\n",
      "         -10.9405,  -0.6787,   3.3785, -12.3315,  -1.9842,   1.5407,   0.2900,\n",
      "           1.1881,   1.2645,   8.2558,  -6.7373,  -4.7210,  -1.9920,  -1.2510,\n",
      "           3.2862,  -7.0136,   2.8805,  -6.3104,  -5.0820,   2.9485,   5.6374,\n",
      "          -4.9450,  -9.5301,   4.8711,   3.3871,  -3.0672,   5.4622,   0.1409,\n",
      "           3.1283,  -2.9928,  -7.0726,  -8.1188, -11.9510,  -1.1162,  -3.0334,\n",
      "          -6.6033,  -4.4382,  -5.9257,  -2.7591,   3.8157,   5.6175,   3.5981,\n",
      "          -7.4200,  -2.6217,   2.2143,   3.2860,  -4.3273,  -1.0528,   9.8987,\n",
      "           4.7667,  -3.9605,   2.4402,  -1.7367,  -2.4408,  -3.5202,   6.6920,\n",
      "           5.5682,  -1.5166,  -7.3930,  -0.7541,  -0.8745,  -4.1083,  -0.6844,\n",
      "           3.8512,  -7.9397,  -8.8802,   6.4396,   6.2308,   7.8404,  -1.9925,\n",
      "           3.9823,  -1.6386,   2.5123]], device='cuda:0')\n"
     ]
    },
    {
     "name": "stderr",
     "output_type": "stream",
     "text": [
      "100%|██████████████████████████████████████| 5000/5000 [00:39<00:00, 125.60it/s]"
     ]
    },
    {
     "name": "stdout",
     "output_type": "stream",
     "text": [
      "tensor([0.5008])\n",
      "(5000, 80)\n"
     ]
    },
    {
     "name": "stderr",
     "output_type": "stream",
     "text": [
      "\n"
     ]
    }
   ],
   "source": [
    "mcmc = Ex2MCMC(**params, dim=dim)\n",
    "pyro.set_rng_seed(43)\n",
    "start = proposal_ex2.sample((batch_size,)).to(device)\n",
    "print(start)\n",
    "# s = time.time()\n",
    "out = mcmc(start, target, proposal_ex2, n_steps = n_steps_ex2)\n",
    "print(out[1])\n",
    "if isinstance(out, tuple):\n",
    "    sample = out[0]\n",
    "else:\n",
    "    sample = out\n",
    "sample = np.array(\n",
    "    [_.detach().numpy() for _ in sample],\n",
    ").reshape(-1, batch_size, dim)\n",
    "sample_ex2_final = sample[:,0,:]\n",
    "print(sample_ex2_final.shape)"
   ]
  },
  {
   "cell_type": "code",
   "execution_count": 25,
   "id": "0b327d4b",
   "metadata": {
    "colab": {
     "base_uri": "https://localhost:8080/",
     "height": 281
    },
    "id": "0b327d4b",
    "outputId": "015d6fa8-1039-43e5-d1a9-4950767eff88"
   },
   "outputs": [
    {
     "data": {
      "image/png": "[encoded data removed]",
      "text/plain": [
       "<Figure size 640x480 with 1 Axes>"
      ]
     },
     "metadata": {},
     "output_type": "display_data"
    }
   ],
   "source": [
    "fig,ax=plt.subplots(1,1)\n",
    "ax.scatter(sample_ex2_final[:,0],sample_ex2_final[:,1])\n",
    "ax.set_title('Ex2 samples')\n",
    "#ax.set_xlabel('x (cm)')\n",
    "ax.set_ylabel('y (cm)')\n",
    "plt.show()"
   ]
  },
  {
   "cell_type": "markdown",
   "id": "0023c116",
   "metadata": {
    "id": "0023c116"
   },
   "source": [
    "### Sample with Flex2MCMC (adaptive version)"
   ]
  },
  {
   "cell_type": "code",
   "execution_count": 26,
   "id": "33583bca",
   "metadata": {
    "id": "33583bca"
   },
   "outputs": [],
   "source": [
    "params_flex = {\n",
    "      \"N\": 200,\n",
    "      \"grad_step\": 0.2,\n",
    "      \"adapt_stepsize\": True,\n",
    "      \"corr_coef\": 0.0,\n",
    "      \"bernoulli_prob_corr\": 0.0,\n",
    "      \"mala_steps\": 0,\n",
    "    \"flow\": {\n",
    "      \"num_flows\": 4, # number of normalizing layers \n",
    "      \"lr\": 1e-3, # learning rate \n",
    "      \"batch_size\": 100,\n",
    "      \"n_steps\": 800,\n",
    "    }\n",
    "}\n",
    "batch_size = 1\n",
    "torch.cuda.empty_cache()"
   ]
  },
  {
   "cell_type": "code",
   "execution_count": 27,
   "id": "6d5d2d67",
   "metadata": {
    "colab": {
     "base_uri": "https://localhost:8080/"
    },
    "id": "6d5d2d67",
    "outputId": "cda79eb5-f457-4d80-a92e-8b9560d8fd1a"
   },
   "outputs": [
    {
     "name": "stderr",
     "output_type": "stream",
     "text": [
      "100%|█████████████████████████████████████████| 800/800 [00:17<00:00, 46.05it/s]\n"
     ]
    }
   ],
   "source": [
    "pyro.set_rng_seed(47)\n",
    "mcmc = Ex2MCMC(**params_flex, dim=dim)\n",
    "verbose = mcmc.verbose\n",
    "mcmc.verbose = False\n",
    "flow = RNVP(params_flex[\"flow\"][\"num_flows\"], dim=dim, device = device)\n",
    "flow_mcmc = FlowMCMC(\n",
    "    target,\n",
    "    proposal,\n",
    "    device,\n",
    "    flow,\n",
    "    mcmc,\n",
    "    batch_size=params_flex[\"flow\"][\"batch_size\"],\n",
    "    lr=params_flex[\"flow\"][\"lr\"],\n",
    ")\n",
    "flow.train()\n",
    "out_samples, nll = flow_mcmc.train(\n",
    "    n_steps=params_flex[\"flow\"][\"n_steps\"],\n",
    ")\n",
    "assert not torch.isnan(\n",
    "    next(flow.parameters())[0, 0],\n",
    ").item()\n",
    "gc.collect()\n",
    "torch.cuda.empty_cache()\n",
    "flow.eval()\n",
    "mcmc.flow = flow\n",
    "mcmc.verbose = verbose"
   ]
  },
  {
   "cell_type": "code",
   "execution_count": 28,
   "id": "0952eff0",
   "metadata": {
    "colab": {
     "base_uri": "https://localhost:8080/"
    },
    "id": "0952eff0",
    "outputId": "ec8da191-4eed-4add-975c-66d936aefc4b"
   },
   "outputs": [
    {
     "name": "stderr",
     "output_type": "stream",
     "text": [
      "100%|██████████████████████████████████████| 2000/2000 [00:08<00:00, 240.23it/s]\n",
      "100%|███████████████████████████████████████| 2000/2000 [00:31<00:00, 63.64it/s]"
     ]
    },
    {
     "name": "stdout",
     "output_type": "stream",
     "text": [
      "tensor([0.5018])\n",
      "(2000, 1, 80)\n"
     ]
    },
    {
     "name": "stderr",
     "output_type": "stream",
     "text": [
      "\n"
     ]
    }
   ],
   "source": [
    "#sample from a normalizing flow\n",
    "n_steps_flex2 = 2000\n",
    "batch_size = 1\n",
    "pyro.set_rng_seed(42)\n",
    "start = proposal.sample((batch_size,))\n",
    "mcmc.N = 200\n",
    "mcmc.mala_steps = 0\n",
    "mcmc.grad_step = 0.1\n",
    "# s = time.time()\n",
    "out = mcmc(start, target, proposal, n_steps = n_steps_flex2)\n",
    "if isinstance(out, tuple):\n",
    "    sample = out[0]\n",
    "else:\n",
    "    sample = out\n",
    "sample = np.array(\n",
    "    [_.detach().numpy() for _ in sample],\n",
    ").reshape(-1, batch_size, dim)\n",
    "sample_flex2_new = sample\n",
    "#resample with 0 mala steps\n",
    "torch.cuda.empty_cache()\n",
    "mcmc.mala_steps = 5\n",
    "out_new = mcmc(start, target, proposal, n_steps = n_steps_flex2)\n",
    "print(out_new[1])\n",
    "out_new = out_new[0]\n",
    "out_new = np.array(\n",
    "    [_.detach().numpy() for _ in out_new],\n",
    ").reshape(-1, batch_size, dim)\n",
    "sample_flex2_final = out_new\n",
    "print(sample_flex2_final.shape)"
   ]
  },
  {
   "cell_type": "code",
   "execution_count": null,
   "id": "NIGQIiKht2X_",
   "metadata": {
    "id": "NIGQIiKht2X_"
   },
   "outputs": [],
   "source": []
  },
  {
   "cell_type": "code",
   "execution_count": 29,
   "id": "Ims3ko1EQ4Zq",
   "metadata": {
    "colab": {
     "base_uri": "https://localhost:8080/",
     "height": 281
    },
    "id": "Ims3ko1EQ4Zq",
    "outputId": "f86d42cf-16be-4105-a77b-5df412539dad"
   },
   "outputs": [
    {
     "data": {
      "image/png": "[encoded data removed]",
      "text/plain": [
       "<Figure size 640x480 with 1 Axes>"
      ]
     },
     "metadata": {},
     "output_type": "display_data"
    }
   ],
   "source": [
    "fig,ax=plt.subplots(1,1)\n",
    "ax.scatter(sample_flex2_new[:,0,0],sample_flex2_new[:,0,1],alpha = 0.5)\n",
    "ax.set_title('Adaptive i-sir samples')\n",
    "#ax.set_xlabel('x (cm)')\n",
    "ax.set_ylabel('y (cm)')\n",
    "#ax.set_yscale('log')\n",
    "plt.show()"
   ]
  },
  {
   "cell_type": "code",
   "execution_count": 30,
   "id": "i4zBGThWRZSH",
   "metadata": {
    "colab": {
     "base_uri": "https://localhost:8080/",
     "height": 124,
     "referenced_widgets": [
      "1262e18fdc3a4f96a711269dbce7f199",
      "2681eab477c54d249a6d3a5e761a9db6",
      "780acb05cd904f39b8ca5fb99dc2fb2b",
      "2b38bac228b845178abd9e02e2edc3ba",
      "df4b27f8635c44468407f48616ebf7e3",
      "ffda0162e55b4624ac91ecfecfe41108",
      "30f0bd911d674dbab39a522c991bc413",
      "ab6cefbcc52645189a1edce615f83f44",
      "b579311d2ef74f3eb9b8597c275659ed",
      "974e2bafadd24096b46f16b47cf645cd",
      "e1d97ffc33394585b5119b7fe89e013f"
     ]
    },
    "id": "i4zBGThWRZSH",
    "outputId": "2a085f5d-dd2e-4ae4-a139-d7e28c156ec8"
   },
   "outputs": [
    {
     "name": "stdout",
     "output_type": "stream",
     "text": [
      "(2000, 80)\n",
      "(1000, 1, 80)\n"
     ]
    },
    {
     "data": {
      "application/vnd.jupyter.widget-view+json": {
       "model_id": "",
       "version_major": 2,
       "version_minor": 0
      },
      "text/plain": [
       "  0%|          | 0/25 [00:00<?, ?it/s]"
      ]
     },
     "metadata": {},
     "output_type": "display_data"
    },
    {
     "name": "stdout",
     "output_type": "stream",
     "text": [
      "====Adaptive i-sir====\n",
      "TV distance. Mean: 0.886, Std: 0.024. \n",
      "ESS: 0.069 \n",
      "EMD: 2352.994\n"
     ]
    }
   ],
   "source": [
    "trunc_chain_len = 1000\n",
    "metrics = compute_metrics(\n",
    "                    True_samples,\n",
    "                    sample_flex2_new,\n",
    "                    name=\"Adaptive i-sir\",\n",
    "                    trunc_chain_len=trunc_chain_len,\n",
    "                    ess_rar=1,\n",
    ")"
   ]
  },
  {
   "cell_type": "code",
   "execution_count": 31,
   "id": "18619667",
   "metadata": {
    "colab": {
     "base_uri": "https://localhost:8080/",
     "height": 281
    },
    "id": "18619667",
    "outputId": "e5a91f1d-2380-47e7-9e5b-5d4f524466ff"
   },
   "outputs": [
    {
     "data": {
      "image/png": "[encoded data removed]",
      "text/plain": [
       "<Figure size 640x480 with 1 Axes>"
      ]
     },
     "metadata": {},
     "output_type": "display_data"
    }
   ],
   "source": [
    "fig,ax=plt.subplots(1,1)\n",
    "ax.scatter(sample_flex2_final[:,0,0],sample_flex2_final[:,0,1],alpha = 0.5)\n",
    "ax.set_title('Flex2 samples')\n",
    "#ax.set_xlabel('x (cm)')\n",
    "ax.set_ylabel('y (cm)')\n",
    "#ax.set_yscale('log')\n",
    "plt.show()"
   ]
  },
  {
   "cell_type": "code",
   "execution_count": 32,
   "id": "e4f33400",
   "metadata": {
    "colab": {
     "base_uri": "https://localhost:8080/",
     "height": 124,
     "referenced_widgets": [
      "3b4e03ceb73a4cee8c77b55abb8619bb",
      "83935cecc9174e3fbe1e7a2df040f64d",
      "d8a11bd9066145339abc00491ddf5f02",
      "b388fe25f3ef4860b018261820705ee8",
      "35f5ba7dcd1340de912cfcd7f9c4398e",
      "23468f17c2bc473baaa6b25ba1e0c883",
      "6a821807170d4c099ab034938b632ff1",
      "17a25dfbc5304849928043f937542891",
      "34817fa9d4094fc482c5394e9dd166e3",
      "80e7ed0d2fb64da4a41ba940d2ad6ba7",
      "ec86e118988448c99e97785a2f8a675d"
     ]
    },
    "id": "e4f33400",
    "outputId": "91c42ad3-244d-4b28-8642-88affe9918ff"
   },
   "outputs": [
    {
     "name": "stdout",
     "output_type": "stream",
     "text": [
      "(2000, 80)\n",
      "(1000, 1, 80)\n"
     ]
    },
    {
     "data": {
      "application/vnd.jupyter.widget-view+json": {
       "model_id": "",
       "version_major": 2,
       "version_minor": 0
      },
      "text/plain": [
       "  0%|          | 0/25 [00:00<?, ?it/s]"
      ]
     },
     "metadata": {},
     "output_type": "display_data"
    },
    {
     "name": "stdout",
     "output_type": "stream",
     "text": [
      "====Flex2====\n",
      "TV distance. Mean: 0.046, Std: 0.014. \n",
      "ESS: 0.305 \n",
      "EMD: 1203.439\n"
     ]
    }
   ],
   "source": [
    "metrics = compute_metrics(\n",
    "                    True_samples,\n",
    "                    sample_flex2_final,\n",
    "                    name=\"Flex2\",\n",
    "                    trunc_chain_len=trunc_chain_len,\n",
    "                    ess_rar=1,\n",
    ")"
   ]
  },
  {
   "cell_type": "code",
   "execution_count": 33,
   "id": "b0b7c146",
   "metadata": {
    "colab": {
     "base_uri": "https://localhost:8080/",
     "height": 246
    },
    "id": "b0b7c146",
    "outputId": "0c8b9fc1-c924-4f27-f62d-f34404308c3a"
   },
   "outputs": [
    {
     "data": {
      "image/png": "[encoded data removed]",
      "text/plain": [
       "<Figure size 1200x400 with 2 Axes>"
      ]
     },
     "metadata": {},
     "output_type": "display_data"
    }
   ],
   "source": [
    "fig,ax=plt.subplots(1,2,figsize=(12,4))\n",
    "ax[0].scatter(True_samples[:,0],True_samples[:,1],c='#ff7f0e', alpha = 0.7, label = \"True samples\")\n",
    "ax[0].scatter(sample_flex2_final[:,0,0],sample_flex2_final[:,0,1],c='#1f77b4', alpha = 0.7, label = \"Flex$^2$MCMC, 5 MALA steps\")\n",
    "#ax.scatter(sample_ex2_final[:,0],sample_ex2_final[:,1],c='#ff7f0e',label = \"Ex2 samples\")\n",
    "#ax[0].set_title('All samples')\n",
    "ax[0].set_xlabel('x_1')\n",
    "ax[0].set_ylabel('x_2')\n",
    "ax[0].legend(fontsize=14)\n",
    "#ax.set_yscale('log')\n",
    "#plt.legend()\n",
    "#plt.show()\n",
    "#ax.scatter(sample_flex2_final[:,0,0],sample_flex2_final[:,0,1],c='#1f77b4',label = \"Flex samples\")\n",
    "#ax.scatter(sample_ex2_final[:,0],sample_ex2_final[:,1],c='#ff7f0e',label = \"Ex2 samples\")\n",
    "ax[1].scatter(True_samples[:,0],True_samples[:,1],c='#ff7f0e', alpha = 0.7, label = \"True samples\")\n",
    "ax[1].scatter(sample_flex2_new[:,0,0],sample_flex2_new[:,0,1],c='#1f77b4', alpha = 0.7, label = \"Adaptive i-SIR algorithm\")\n",
    "#ax[1].set_title('All samples')\n",
    "ax[1].set_xlabel('x_1')\n",
    "ax[1].set_ylabel('x_2')\n",
    "#ax.set_yscale('log')\n",
    "plt.legend(fontsize=14)\n",
    "#plt.savefig(Path(\n",
    "#        \"./\",\n",
    "#        f\"flow_funnel_samples_dim_{dim}_var_2_N_{mcmc.N}_mala_{mcmc.mala_steps}.pdf\",\n",
    "#        ), format=\"pdf\", bbox_inches=\"tight\") \n",
    "plt.savefig(\"banana_visualize_d_100.png\",format=\"png\", bbox_inches=\"tight\")\n",
    "plt.show()"
   ]
  },
  {
   "cell_type": "code",
   "execution_count": 34,
   "id": "e475a9b2-3394-48c2-8b24-d303a5160309",
   "metadata": {},
   "outputs": [
    {
     "ename": "NameError",
     "evalue": "name 'ans' is not defined",
     "output_type": "error",
     "traceback": [
      "\u001b[0;31m---------------------------------------------------------------------------\u001b[0m",
      "\u001b[0;31mNameError\u001b[0m                                 Traceback (most recent call last)",
      "Cell \u001b[0;32mIn[34], line 3\u001b[0m\n\u001b[1;32m      1\u001b[0m fig,ax\u001b[38;5;241m=\u001b[39mplt\u001b[38;5;241m.\u001b[39msubplots(\u001b[38;5;241m1\u001b[39m,\u001b[38;5;241m2\u001b[39m,figsize\u001b[38;5;241m=\u001b[39m(\u001b[38;5;241m12\u001b[39m,\u001b[38;5;241m4\u001b[39m))\n\u001b[1;32m      2\u001b[0m ax[\u001b[38;5;241m0\u001b[39m]\u001b[38;5;241m.\u001b[39mscatter(True_samples[:,\u001b[38;5;241m0\u001b[39m],True_samples[:,\u001b[38;5;241m1\u001b[39m],c\u001b[38;5;241m=\u001b[39m\u001b[38;5;124m'\u001b[39m\u001b[38;5;124m#ff7f0e\u001b[39m\u001b[38;5;124m'\u001b[39m, alpha \u001b[38;5;241m=\u001b[39m \u001b[38;5;241m0.7\u001b[39m, label \u001b[38;5;241m=\u001b[39m \u001b[38;5;124m\"\u001b[39m\u001b[38;5;124mTrue samples\u001b[39m\u001b[38;5;124m\"\u001b[39m)\n\u001b[0;32m----> 3\u001b[0m ax[\u001b[38;5;241m0\u001b[39m]\u001b[38;5;241m.\u001b[39mscatter(\u001b[43mans\u001b[49m[:,\u001b[38;5;241m0\u001b[39m],ans[:,\u001b[38;5;241m1\u001b[39m],c\u001b[38;5;241m=\u001b[39m\u001b[38;5;124m'\u001b[39m\u001b[38;5;124m#1f77b4\u001b[39m\u001b[38;5;124m'\u001b[39m, alpha \u001b[38;5;241m=\u001b[39m \u001b[38;5;241m0.7\u001b[39m, label \u001b[38;5;241m=\u001b[39m \u001b[38;5;124m\"\u001b[39m\u001b[38;5;124mTT\u001b[39m\u001b[38;5;124m\"\u001b[39m)\n\u001b[1;32m      4\u001b[0m \u001b[38;5;66;03m#ax.scatter(sample_ex2_final[:,0],sample_ex2_final[:,1],c='#ff7f0e',label = \"Ex2 samples\")\u001b[39;00m\n\u001b[1;32m      5\u001b[0m \u001b[38;5;66;03m#ax[0].set_title('All samples')\u001b[39;00m\n\u001b[1;32m      6\u001b[0m ax[\u001b[38;5;241m0\u001b[39m]\u001b[38;5;241m.\u001b[39mset_xlabel(\u001b[38;5;124m'\u001b[39m\u001b[38;5;124mx_1\u001b[39m\u001b[38;5;124m'\u001b[39m)\n",
      "\u001b[0;31mNameError\u001b[0m: name 'ans' is not defined"
     ]
    },
    {
     "data": {
      "image/png": "[encoded data removed]",
      "text/plain": [
       "<Figure size 1200x400 with 2 Axes>"
      ]
     },
     "metadata": {},
     "output_type": "display_data"
    }
   ],
   "source": [
    "fig,ax=plt.subplots(1,2,figsize=(12,4))\n",
    "ax[0].scatter(True_samples[:,0],True_samples[:,1],c='#ff7f0e', alpha = 0.7, label = \"True samples\")\n",
    "ax[0].scatter(ans[:,0],ans[:,1],c='#1f77b4', alpha = 0.7, label = \"TT\")\n",
    "#ax.scatter(sample_ex2_final[:,0],sample_ex2_final[:,1],c='#ff7f0e',label = \"Ex2 samples\")\n",
    "#ax[0].set_title('All samples')\n",
    "ax[0].set_xlabel('x_1')\n",
    "ax[0].set_ylabel('x_2')\n",
    "ax[0].legend(fontsize=14)\n",
    "#ax.set_yscale('log')\n",
    "#plt.legend()\n",
    "#plt.show()\n",
    "#ax.scatter(sample_flex2_final[:,0,0],sample_flex2_final[:,0,1],c='#1f77b4',label = \"Flex samples\")\n",
    "#ax.scatter(sample_ex2_final[:,0],sample_ex2_final[:,1],c='#ff7f0e',label = \"Ex2 samples\")\n",
    "ax[1].scatter(True_samples[:,0],True_samples[:,1],c='#ff7f0e', alpha = 0.7, label = \"True samples\")\n",
    "ax[1].scatter(sample_nuts_ref[:,0,0],sample_nuts_ref[:,0,1],c='#1f77b4', alpha = 0.7, label = \"NUTS\")\n",
    "#ax[1].set_title('All samples')\n",
    "ax[1].set_xlabel('x_1')\n",
    "ax[1].set_ylabel('x_2')\n",
    "#ax.set_yscale('log')\n",
    "plt.legend(fontsize=14)\n",
    "#plt.savefig(Path(\n",
    "#        \"./\",\n",
    "#        f\"flow_funnel_samples_dim_{dim}_var_2_N_{mcmc.N}_mala_{mcmc.mala_steps}.pdf\",\n",
    "#        ), format=\"pdf\", bbox_inches=\"tight\") \n",
    "plt.savefig(\"banana_visualize_d_100.png\",format=\"png\", bbox_inches=\"tight\")\n",
    "plt.show()"
   ]
  },
  {
   "cell_type": "code",
   "execution_count": null,
   "id": "0801a863",
   "metadata": {
    "id": "0801a863"
   },
   "outputs": [],
   "source": [
    "sample_nuts_ref.shape"
   ]
  },
  {
   "cell_type": "code",
   "execution_count": 35,
   "id": "11d20779-4851-4362-ab10-7751d746bdb9",
   "metadata": {},
   "outputs": [],
   "source": [
    "def Banana1(a, b):\n",
    "    def density(z):\n",
    "        # n = self.dim/2\n",
    "        d = z.shape[1]\n",
    "        even = np.arange(0, d, 2)\n",
    "        odd = np.arange(1, d, 2)\n",
    "\n",
    "        ll = (\n",
    "                -0.5 * (z[..., odd] - b * z[..., even] ** 2 + (a**2)*b) ** 2\n",
    "                - ((z[..., even]) ** 2) / (2 * a**2)\n",
    "        )\n",
    "        return np.exp(ll.sum(-1)/2)\n",
    "\n",
    "    return density"
   ]
  },
  {
   "cell_type": "code",
   "execution_count": 36,
   "id": "a9ab8027-0a93-4627-868f-c1b03cf5f97f",
   "metadata": {},
   "outputs": [],
   "source": [
    "def banana(a, b):\n",
    "    def density(z):\n",
    "        # n = self.dim/2\n",
    "        d = z.shape[1]\n",
    "        even = np.arange(0, d, 2)\n",
    "        odd = np.arange(1, d, 2)\n",
    "\n",
    "        ll = (\n",
    "                -0.5 * (z[..., odd] - b * z[..., even] ** 2 + (a**2)*b) ** 2\n",
    "                - ((z[..., even]) ** 2) / (2 * a**2)\n",
    "        )\n",
    "        return np.exp(ll.sum(-1))\n",
    "\n",
    "    return density\n",
    "\n",
    "def log_grad_banana(a, b):\n",
    "    def density(z):\n",
    "        # n = self.dim/2\n",
    "        d = z.shape[1]\n",
    "        ans = np.empty_like(z)\n",
    "        even = np.arange(0, d, 2)\n",
    "        odd = np.arange(1, d, 2)\n",
    "        ans[..., even] = -z[..., even]/a**2 + (z[..., odd] - b * z[..., even]**2 + a**2 * b) * 2 * b * z[..., even]\n",
    "        ans[..., odd] = -(z[..., odd] - b * z[..., even]**2 + a**2 * b)\n",
    "        return ans\n",
    "\n",
    "    return density"
   ]
  },
  {
   "cell_type": "code",
   "execution_count": null,
   "id": "acd81373-c280-4f40-9c3b-d0b064bce30e",
   "metadata": {},
   "outputs": [],
   "source": [
    "def log_banana(a, b):\n",
    "    def density(z):\n",
    "        # n = self.dim/2\n",
    "        d = z.shape[1]\n",
    "        even = torch.arange(0, d, 2)\n",
    "        odd = torch.arange(1, d, 2)\n",
    "\n",
    "        ll = (\n",
    "                -0.5 * (z[..., odd] - b * z[..., even] ** 2 + (a**2)*b) ** 2\n",
    "                - ((z[..., even]) ** 2) / (2 * a**2)\n",
    "        )\n",
    "        return ll.sum(-1)\n",
    "\n",
    "    return density\n",
    "\n",
    "def log_grad_banana(a, b):\n",
    "    def density(z):\n",
    "        # n = self.dim/2\n",
    "        d = z.shape[1]\n",
    "        ans = torch.empty_like(z)\n",
    "        even = torch.arange(0, d, 2)\n",
    "        odd = torch.arange(1, d, 2)\n",
    "        ans[..., even] = -z[..., even]/a**2 + (z[..., odd] - b * z[..., even]**2 + a**2 * b) * 2 * b * z[..., even]\n",
    "        ans[..., odd] = -(z[..., odd] - b * z[..., even]**2 + a**2 * b)\n",
    "        return ans\n",
    "\n",
    "    return density"
   ]
  },
  {
   "cell_type": "code",
   "execution_count": 37,
   "id": "31627f91-3859-4ece-a450-d3e03456eafd",
   "metadata": {},
   "outputs": [],
   "source": [
    "x = torch.randn(1, 10, requires_grad=True)"
   ]
  },
  {
   "cell_type": "code",
   "execution_count": 38,
   "id": "51bd20b9-1759-4860-9032-5646b74fff2b",
   "metadata": {},
   "outputs": [
    {
     "ename": "AttributeError",
     "evalue": "'NoneType' object has no attribute 'data'",
     "output_type": "error",
     "traceback": [
      "\u001b[0;31m---------------------------------------------------------------------------\u001b[0m",
      "\u001b[0;31mAttributeError\u001b[0m                            Traceback (most recent call last)",
      "Cell \u001b[0;32mIn[38], line 3\u001b[0m\n\u001b[1;32m      1\u001b[0m a \u001b[38;5;241m=\u001b[39m \u001b[38;5;241m5.0\u001b[39m\n\u001b[1;32m      2\u001b[0m b \u001b[38;5;241m=\u001b[39m \u001b[38;5;241m0.02\u001b[39m\n\u001b[0;32m----> 3\u001b[0m \u001b[43mx\u001b[49m\u001b[38;5;241;43m.\u001b[39;49m\u001b[43mgrad\u001b[49m\u001b[38;5;241;43m.\u001b[39;49m\u001b[43mdata\u001b[49m\u001b[38;5;241m.\u001b[39mzero_()\n\u001b[1;32m      4\u001b[0m f \u001b[38;5;241m=\u001b[39m log_banana(a, b)\n\u001b[1;32m      5\u001b[0m u \u001b[38;5;241m=\u001b[39m log_grad_banana(a, b)\n",
      "\u001b[0;31mAttributeError\u001b[0m: 'NoneType' object has no attribute 'data'"
     ]
    }
   ],
   "source": [
    "a = 5.0\n",
    "b = 0.02\n",
    "x.grad.data.zero_()\n",
    "f = log_banana(a, b)\n",
    "u = log_grad_banana(a, b)\n",
    "v = f(x)\n",
    "v.backward()"
   ]
  },
  {
   "cell_type": "code",
   "execution_count": 39,
   "id": "28e3ed09-e784-4fc8-ba04-fb501e9eb1de",
   "metadata": {},
   "outputs": [],
   "source": [
    "x.grad"
   ]
  },
  {
   "cell_type": "code",
   "execution_count": 40,
   "id": "f6bd7436-addf-47ea-8374-9573efe7526c",
   "metadata": {},
   "outputs": [
    {
     "ename": "TypeError",
     "evalue": "'numpy.ndarray' object is not callable",
     "output_type": "error",
     "traceback": [
      "\u001b[0;31m---------------------------------------------------------------------------\u001b[0m",
      "\u001b[0;31mTypeError\u001b[0m                                 Traceback (most recent call last)",
      "Cell \u001b[0;32mIn[40], line 1\u001b[0m\n\u001b[0;32m----> 1\u001b[0m \u001b[43mu\u001b[49m\u001b[43m(\u001b[49m\u001b[43mx\u001b[49m\u001b[43m)\u001b[49m\n",
      "\u001b[0;31mTypeError\u001b[0m: 'numpy.ndarray' object is not callable"
     ]
    }
   ],
   "source": [
    "u(x)"
   ]
  },
  {
   "cell_type": "code",
   "execution_count": 41,
   "id": "5b83a0e8-0be2-4b5b-8475-e33730677162",
   "metadata": {},
   "outputs": [
    {
     "ename": "NameError",
     "evalue": "name 'log_banana' is not defined",
     "output_type": "error",
     "traceback": [
      "\u001b[0;31m---------------------------------------------------------------------------\u001b[0m",
      "\u001b[0;31mNameError\u001b[0m                                 Traceback (most recent call last)",
      "Cell \u001b[0;32mIn[41], line 7\u001b[0m\n\u001b[1;32m      5\u001b[0m d\u001b[38;5;241m=\u001b[39m\u001b[38;5;241m6\u001b[39m\n\u001b[1;32m      6\u001b[0m z \u001b[38;5;241m=\u001b[39m np\u001b[38;5;241m.\u001b[39mrandom\u001b[38;5;241m.\u001b[39mrandn(d)\n\u001b[0;32m----> 7\u001b[0m ap_gr \u001b[38;5;241m=\u001b[39m approx_fprime(z, \u001b[43mlog_banana\u001b[49m(a, b))\n\u001b[1;32m      8\u001b[0m gr \u001b[38;5;241m=\u001b[39m log_grad_bananaa(a, b)(z)\n",
      "\u001b[0;31mNameError\u001b[0m: name 'log_banana' is not defined"
     ]
    }
   ],
   "source": [
    "from scipy.optimize import approx_fprime\n",
    "\n",
    "a = 5.0\n",
    "b = 0.02\n",
    "d=6\n",
    "z = np.random.randn(d)\n",
    "ap_gr = approx_fprime(z, log_banana(a, b))\n",
    "gr = log_grad_bananaa(a, b)(z)"
   ]
  },
  {
   "cell_type": "code",
   "execution_count": 42,
   "id": "bf6b7552-046f-4bee-9529-0a3392f4856d",
   "metadata": {},
   "outputs": [
    {
     "ename": "NameError",
     "evalue": "name 'ap_gr' is not defined",
     "output_type": "error",
     "traceback": [
      "\u001b[0;31m---------------------------------------------------------------------------\u001b[0m",
      "\u001b[0;31mNameError\u001b[0m                                 Traceback (most recent call last)",
      "Cell \u001b[0;32mIn[42], line 1\u001b[0m\n\u001b[0;32m----> 1\u001b[0m \u001b[43map_gr\u001b[49m, gr\n",
      "\u001b[0;31mNameError\u001b[0m: name 'ap_gr' is not defined"
     ]
    }
   ],
   "source": [
    "ap_gr, gr"
   ]
  },
  {
   "cell_type": "code",
   "execution_count": 43,
   "id": "ae14b4bf-4db0-401b-a3b6-cef40c0bfb47",
   "metadata": {},
   "outputs": [],
   "source": [
    "import tensors.sirt2 as sirt"
   ]
  },
  {
   "cell_type": "code",
   "execution_count": 44,
   "id": "90d2cece-5783-4943-90a0-632e954c19fa",
   "metadata": {},
   "outputs": [],
   "source": [
    "n_steps = 1\n",
    "dist = \"Funnel\"\n",
    "d = 80\n",
    "a = 5.0\n",
    "b = 0.02\n",
    "num_centers = 50\n",
    "sigma = 0.2\n",
    "target = sirt.Banana(a, b) # normal_density_general(np.zeros(d), Sigma) #\n",
    "dots = [(-15., 15.)] * d\n",
    "dots[0] = (-15., 15.)\n",
    "steps = [100] *d"
   ]
  },
  {
   "cell_type": "code",
   "execution_count": 45,
   "id": "03482153-58ee-40f2-a88b-5b9a0b6f89ac",
   "metadata": {},
   "outputs": [
    {
     "name": "stdout",
     "output_type": "stream",
     "text": [
      "None\n"
     ]
    },
    {
     "name": "stderr",
     "output_type": "stream",
     "text": [
      "/home/hdilab/miniconda3/lib/python3.10/site-packages/tt/multifuncrs2.py:179: RuntimeWarning: invalid value encountered in double_scalars\n",
      "  dy = np.linalg.norm(newy - oldy) / np.linalg.norm(newy)\n"
     ]
    },
    {
     "name": "stdout",
     "output_type": "stream",
     "text": [
      "=multifuncrs= sweep 1{2}, max_dy: inf, erank: 5.93717\n",
      "=multifuncrs= sweep 2{1}, max_dy: 7.886e-01, erank: 7.7039\n",
      "=multifuncrs= sweep 2{2}, max_dy: 7.886e-01, erank: 9.17265\n",
      "=multifuncrs= sweep 3{1}, max_dy: 5.584e-04, erank: 10.5795\n",
      "=multifuncrs= sweep 3{2}, max_dy: 5.584e-04, erank: 11.0939\n",
      "=multifuncrs= sweep 4{1}, max_dy: 9.037e-12, erank: 11.1074\n"
     ]
    }
   ],
   "source": [
    "cross, grids = sirt.TT_cross_density(target, dots, steps, d, sirt.make_meshgrids_lin)\n",
    "lists = cross.to_list(cross)\n",
    "ans, pdfs = sirt.SIRT_sampling(cross.to_list(cross), np.random.uniform(size=(2000, d)),\n",
    "                            grids)"
   ]
  },
  {
   "cell_type": "code",
   "execution_count": 46,
   "id": "9cfe2058-b6fc-4f59-ad18-0b1b1a46fa72",
   "metadata": {},
   "outputs": [
    {
     "data": {
      "text/plain": [
       "<matplotlib.collections.PathCollection at 0x7f08301180a0>"
      ]
     },
     "execution_count": 46,
     "metadata": {},
     "output_type": "execute_result"
    },
    {
     "data": {
      "image/png": "[encoded data removed]",
      "text/plain": [
       "<Figure size 640x480 with 1 Axes>"
      ]
     },
     "metadata": {},
     "output_type": "display_data"
    }
   ],
   "source": [
    "plt.scatter(ans[:,5],ans[:,6])"
   ]
  },
  {
   "cell_type": "code",
   "execution_count": 47,
   "id": "748db917-fac6-4347-9f94-9f1711b5e24d",
   "metadata": {},
   "outputs": [
    {
     "data": {
      "text/plain": [
       "<matplotlib.collections.PathCollection at 0x7f083c7e78b0>"
      ]
     },
     "execution_count": 47,
     "metadata": {},
     "output_type": "execute_result"
    },
    {
     "data": {
      "image/png": "[encoded data removed]",
      "text/plain": [
       "<Figure size 640x480 with 1 Axes>"
      ]
     },
     "metadata": {},
     "output_type": "display_data"
    }
   ],
   "source": [
    "plt.scatter(True_samples[:,5],True_samples[:,6])"
   ]
  },
  {
   "cell_type": "code",
   "execution_count": 48,
   "id": "6c1cd38c-ca22-4a46-a759-93aec539f900",
   "metadata": {},
   "outputs": [
    {
     "name": "stdout",
     "output_type": "stream",
     "text": [
      "(2000, 80)\n",
      "(1000, 1, 80)\n"
     ]
    },
    {
     "data": {
      "application/vnd.jupyter.widget-view+json": {
       "model_id": "",
       "version_major": 2,
       "version_minor": 0
      },
      "text/plain": [
       "  0%|          | 0/25 [00:00<?, ?it/s]"
      ]
     },
     "metadata": {},
     "output_type": "display_data"
    },
    {
     "name": "stdout",
     "output_type": "stream",
     "text": [
      "====NUTS====\n",
      "TV distance. Mean: 0.035, Std: 0.006. \n",
      "ESS: 0.411 \n",
      "EMD: 1170.984\n"
     ]
    }
   ],
   "source": [
    "metrics = compute_metrics(\n",
    "                    True_samples,\n",
    "                    sample_nuts_ref,\n",
    "                    name=\"NUTS\",\n",
    "                    trunc_chain_len=trunc_chain_len,\n",
    "                    ess_rar=1,\n",
    ")"
   ]
  },
  {
   "cell_type": "code",
   "execution_count": null,
   "id": "14909914-6f68-439b-8ba7-64c5d461e0f1",
   "metadata": {},
   "outputs": [],
   "source": []
  },
  {
   "cell_type": "code",
   "execution_count": 51,
   "id": "a485edd5-67bf-4b06-8e46-682b604193cf",
   "metadata": {
    "tags": []
   },
   "outputs": [
    {
     "data": {
      "application/vnd.jupyter.widget-view+json": {
       "model_id": "2d88febcad68485699199ff30cca2405",
       "version_major": 2,
       "version_minor": 0
      },
      "text/plain": [
       "  0%|          | 0/7 [00:00<?, ?it/s]"
      ]
     },
     "metadata": {},
     "output_type": "display_data"
    },
    {
     "name": "stdout",
     "output_type": "stream",
     "text": [
      "None\n",
      "=multifuncrs= sweep 1{2}, max_dy: 1.473e+24, erank: 5.47723\n",
      "=multifuncrs= sweep 2{1}, max_dy: 9.890e-01, erank: 7.20417\n",
      "=multifuncrs= sweep 2{2}, max_dy: 9.890e-01, erank: 8.52056\n",
      "=multifuncrs= sweep 3{1}, max_dy: 1.126e-05, erank: 9.80816\n",
      "=multifuncrs= sweep 3{2}, max_dy: 1.126e-05, erank: 10.247\n",
      "=multifuncrs= sweep 4{1}, max_dy: 8.876e-12, erank: 10.247\n",
      "None\n",
      "=multifuncrs= sweep 1{2}, max_dy: 1.763e+127, erank: 5.74456\n",
      "=multifuncrs= sweep 2{1}, max_dy: 1.047e-01, erank: 7.59934\n",
      "=multifuncrs= sweep 2{2}, max_dy: 1.047e-01, erank: 9.03604\n",
      "=multifuncrs= sweep 3{1}, max_dy: 1.610e-06, erank: 10.2274\n",
      "=multifuncrs= sweep 3{2}, max_dy: 1.610e-06, erank: 10.7471\n",
      "=multifuncrs= sweep 4{1}, max_dy: 8.926e-12, erank: 10.7471\n",
      "None\n",
      "=multifuncrs= sweep 1{2}, max_dy: 1.271e+127, erank: 5.83095\n",
      "=multifuncrs= sweep 2{1}, max_dy: 9.733e-01, erank: 7.59605\n",
      "=multifuncrs= sweep 2{2}, max_dy: 9.733e-01, erank: 9.08479\n",
      "=multifuncrs= sweep 3{1}, max_dy: 1.110e-04, erank: 10.3843\n",
      "=multifuncrs= sweep 3{2}, max_dy: 1.110e-04, erank: 10.9087\n",
      "=multifuncrs= sweep 4{1}, max_dy: 1.068e-11, erank: 10.9087\n",
      "None\n",
      "=multifuncrs= sweep 1{2}, max_dy: 6.524e+132, erank: 5.87367\n",
      "=multifuncrs= sweep 2{1}, max_dy: 9.841e-01, erank: 7.673\n",
      "=multifuncrs= sweep 2{2}, max_dy: 9.841e-01, erank: 8.99166\n",
      "=multifuncrs= sweep 3{1}, max_dy: 3.057e-05, erank: 10.4115\n",
      "=multifuncrs= sweep 3{2}, max_dy: 3.057e-05, erank: 10.9886\n",
      "=multifuncrs= sweep 4{1}, max_dy: 9.010e-12, erank: 10.9886\n",
      "None\n",
      "=multifuncrs= sweep 1{2}, max_dy: inf, erank: 5.89915\n",
      "=multifuncrs= sweep 2{1}, max_dy: 9.821e-01, erank: 7.67203\n",
      "=multifuncrs= sweep 2{2}, max_dy: 9.821e-01, erank: 9.10604\n",
      "=multifuncrs= sweep 3{1}, max_dy: 1.836e-04, erank: 10.424\n",
      "=multifuncrs= sweep 3{2}, max_dy: 1.836e-04, erank: 11.0254\n",
      "=multifuncrs= sweep 4{1}, max_dy: 9.827e-12, erank: 11.0363\n",
      "None\n",
      "=multifuncrs= sweep 1{2}, max_dy: inf, erank: 5.91608\n",
      "=multifuncrs= sweep 2{1}, max_dy: 2.390e-01, erank: 7.70281\n",
      "=multifuncrs= sweep 2{2}, max_dy: 2.390e-01, erank: 9.22316\n",
      "=multifuncrs= sweep 3{1}, max_dy: 4.365e-06, erank: 10.6317\n",
      "=multifuncrs= sweep 3{2}, max_dy: 4.365e-06, erank: 11.068\n",
      "=multifuncrs= sweep 4{1}, max_dy: 8.878e-12, erank: 11.068\n",
      "None\n",
      "=multifuncrs= sweep 1{2}, max_dy: inf, erank: 5.92814\n",
      "=multifuncrs= sweep 2{1}, max_dy: 9.819e-01, erank: 7.78185\n",
      "=multifuncrs= sweep 2{2}, max_dy: 9.819e-01, erank: 9.23116\n",
      "=multifuncrs= sweep 3{1}, max_dy: 1.816e-05, erank: 10.5992\n",
      "=multifuncrs= sweep 3{2}, max_dy: 1.816e-05, erank: 11.0905\n",
      "=multifuncrs= sweep 4{1}, max_dy: 9.201e-12, erank: 11.0905\n"
     ]
    }
   ],
   "source": [
    "ds = np.arange(10, 80, 10)\n",
    "anses = []\n",
    "a = 5.0\n",
    "b = 0.02\n",
    "for d in tqdm.notebook.tqdm(ds):\n",
    "    target = sirt.Banana(a, b)\n",
    "    dots = [(-15., 15.)] * d\n",
    "    dots[0] = (-15., 15.)\n",
    "    steps = [100] *d\n",
    "    cross, grids = sirt.TT_cross_density(target, dots, steps, d, sirt.make_meshgrids_lin)\n",
    "    lists = cross.to_list(cross)\n",
    "    ans, pdfs = sirt.SIRT_sampling(cross.to_list(cross), np.random.uniform(size=(1000, d)),\n",
    "                            grids)\n",
    "    anses.append(ans)"
   ]
  },
  {
   "cell_type": "code",
   "execution_count": 52,
   "id": "3b23fbf5-3a12-4e2d-95e3-14d0d648b35b",
   "metadata": {},
   "outputs": [
    {
     "data": {
      "application/vnd.jupyter.widget-view+json": {
       "model_id": "20e2917a48484008a845e96f11097505",
       "version_major": 2,
       "version_minor": 0
      },
      "text/plain": [
       "  0%|          | 0/7 [00:00<?, ?it/s]"
      ]
     },
     "metadata": {},
     "output_type": "display_data"
    },
    {
     "name": "stdout",
     "output_type": "stream",
     "text": [
      "torch.Size([1, 10])\n"
     ]
    },
    {
     "name": "stderr",
     "output_type": "stream",
     "text": [
      "Sample: 100%|█| 1500/1500 [00:22, 67.87it/s, step size=3.44e-01, acc. prob=0.933\n"
     ]
    },
    {
     "name": "stdout",
     "output_type": "stream",
     "text": [
      "torch.Size([1, 20])\n"
     ]
    },
    {
     "name": "stderr",
     "output_type": "stream",
     "text": [
      "Sample: 100%|█| 1500/1500 [00:27, 54.93it/s, step size=3.27e-01, acc. prob=0.915\n"
     ]
    },
    {
     "name": "stdout",
     "output_type": "stream",
     "text": [
      "torch.Size([1, 30])\n"
     ]
    },
    {
     "name": "stderr",
     "output_type": "stream",
     "text": [
      "Sample: 100%|█| 1500/1500 [00:29, 50.44it/s, step size=3.03e-01, acc. prob=0.908\n"
     ]
    },
    {
     "name": "stdout",
     "output_type": "stream",
     "text": [
      "torch.Size([1, 40])\n"
     ]
    },
    {
     "name": "stderr",
     "output_type": "stream",
     "text": [
      "Sample: 100%|█| 1500/1500 [00:31, 47.33it/s, step size=3.09e-01, acc. prob=0.890\n"
     ]
    },
    {
     "name": "stdout",
     "output_type": "stream",
     "text": [
      "torch.Size([1, 50])\n"
     ]
    },
    {
     "name": "stderr",
     "output_type": "stream",
     "text": [
      "Sample: 100%|█| 1500/1500 [00:32, 46.50it/s, step size=2.93e-01, acc. prob=0.891\n"
     ]
    },
    {
     "name": "stdout",
     "output_type": "stream",
     "text": [
      "torch.Size([1, 60])\n"
     ]
    },
    {
     "name": "stderr",
     "output_type": "stream",
     "text": [
      "Sample: 100%|█| 1500/1500 [00:33, 45.10it/s, step size=2.87e-01, acc. prob=0.883\n"
     ]
    },
    {
     "name": "stdout",
     "output_type": "stream",
     "text": [
      "torch.Size([1, 70])\n"
     ]
    },
    {
     "name": "stderr",
     "output_type": "stream",
     "text": [
      "Sample: 100%|█| 1500/1500 [00:33, 45.43it/s, step size=2.87e-01, acc. prob=0.874\n"
     ]
    }
   ],
   "source": [
    "nutses = []\n",
    "sigma = 5.0\n",
    "b = 0.02\n",
    "for dim in tqdm.notebook.tqdm(ds):\n",
    "    target = Banana(\n",
    "                dim=dim,\n",
    "                device=device,\n",
    "                b = b,\n",
    "                sigma = sigma,\n",
    "                #b = b\n",
    "                #**dist_params.dict,\n",
    "    )\n",
    "\n",
    "    loc_proposal = torch.zeros(dim).to(device)\n",
    "    scale_proposal = 1.\n",
    "    scale_proposal = scale_proposal * torch.ones(dim).to(device)\n",
    "    \n",
    "    proposal = IndependentNormal(\n",
    "        dim=dim,\n",
    "        loc=loc_proposal,\n",
    "        scale=scale_proposal,\n",
    "        device=device,\n",
    "    )\n",
    "    time_nuts, sample_nuts_ref = sample_nuts(\n",
    "                target,\n",
    "                proposal,\n",
    "                device,\n",
    "                num_samples=trunc_chain_len,\n",
    "                batch_size=nuts_batch,\n",
    "                burn_in=nuts_burn_in,\n",
    "                rand_seed = rand_seed\n",
    "    )\n",
    "    nutses.append(sample_nuts_ref)"
   ]
  },
  {
   "cell_type": "code",
   "execution_count": 53,
   "id": "e9f1db9e-7d64-4a81-a12e-5da6b3c26a7b",
   "metadata": {},
   "outputs": [
    {
     "data": {
      "application/vnd.jupyter.widget-view+json": {
       "model_id": "8ef9da3b039540469ba91d57eb9a8191",
       "version_major": 2,
       "version_minor": 0
      },
      "text/plain": [
       "  0%|          | 0/7 [00:00<?, ?it/s]"
      ]
     },
     "metadata": {},
     "output_type": "display_data"
    }
   ],
   "source": [
    "trues = []\n",
    "\n",
    "for dim in tqdm.notebook.tqdm(ds):\n",
    "    N_samples = 2*10**3\n",
    "    np.random.seed(42)\n",
    "    True_samples = np.random.randn(N_samples,dim)\n",
    "    for i in range(dim):\n",
    "        if i % 2 == 0:\n",
    "          True_samples[:,i] *= sigma\n",
    "        else:\n",
    "          True_samples[:,i] += b*True_samples[:,i-1]**2 - (sigma**2)*b\n",
    "    trues.append(True_samples)\n"
   ]
  },
  {
   "cell_type": "code",
   "execution_count": 54,
   "id": "f33e23ab-7be2-461d-9543-c3fea66c7d68",
   "metadata": {},
   "outputs": [
    {
     "data": {
      "text/plain": [
       "(1000, 70)"
      ]
     },
     "execution_count": 54,
     "metadata": {},
     "output_type": "execute_result"
    }
   ],
   "source": [
    "anses[-1].shape"
   ]
  },
  {
   "cell_type": "code",
   "execution_count": 57,
   "id": "783259e2-c349-466a-9b34-4fe2a6cc5c40",
   "metadata": {},
   "outputs": [
    {
     "name": "stdout",
     "output_type": "stream",
     "text": [
      "(2000, 70)\n",
      "(1000, 1, 70)\n"
     ]
    },
    {
     "data": {
      "application/vnd.jupyter.widget-view+json": {
       "model_id": "",
       "version_major": 2,
       "version_minor": 0
      },
      "text/plain": [
       "  0%|          | 0/25 [00:00<?, ?it/s]"
      ]
     },
     "metadata": {},
     "output_type": "display_data"
    },
    {
     "name": "stdout",
     "output_type": "stream",
     "text": [
      "====NUTS====\n",
      "TV distance. Mean: 0.035, Std: 0.009. \n",
      "ESS: 0.484 \n",
      "EMD: 964.999\n"
     ]
    }
   ],
   "source": [
    "metrics = compute_metrics(\n",
    "                    trues[-1],\n",
    "                    anses[-1].reshape(1000, 1, 70),\n",
    "                    name=\"NUTS\",\n",
    "                    trunc_chain_len=trunc_chain_len,\n",
    "                    ess_rar=1,\n",
    ")"
   ]
  },
  {
   "cell_type": "code",
   "execution_count": 58,
   "id": "5415be65-0458-4d35-9271-d5047caa8830",
   "metadata": {
    "tags": []
   },
   "outputs": [
    {
     "name": "stdout",
     "output_type": "stream",
     "text": [
      "(2000, 10)\n",
      "(1000, 1, 10)\n"
     ]
    },
    {
     "data": {
      "application/vnd.jupyter.widget-view+json": {
       "model_id": "",
       "version_major": 2,
       "version_minor": 0
      },
      "text/plain": [
       "  0%|          | 0/25 [00:00<?, ?it/s]"
      ]
     },
     "metadata": {},
     "output_type": "display_data"
    },
    {
     "name": "stdout",
     "output_type": "stream",
     "text": [
      "====TT====\n",
      "TV distance. Mean: 0.037, Std: 0.011. \n",
      "ESS: 0.516 \n",
      "EMD: 27.375\n",
      "(2000, 10)\n",
      "(1000, 1, 10)\n"
     ]
    },
    {
     "data": {
      "application/vnd.jupyter.widget-view+json": {
       "model_id": "",
       "version_major": 2,
       "version_minor": 0
      },
      "text/plain": [
       "  0%|          | 0/25 [00:00<?, ?it/s]"
      ]
     },
     "metadata": {},
     "output_type": "display_data"
    },
    {
     "name": "stdout",
     "output_type": "stream",
     "text": [
      "====NUTS====\n",
      "TV distance. Mean: 0.038, Std: 0.010. \n",
      "ESS: 0.330 \n",
      "EMD: 28.788\n",
      "(2000, 20)\n",
      "(1000, 1, 20)\n"
     ]
    },
    {
     "data": {
      "application/vnd.jupyter.widget-view+json": {
       "model_id": "",
       "version_major": 2,
       "version_minor": 0
      },
      "text/plain": [
       "  0%|          | 0/25 [00:00<?, ?it/s]"
      ]
     },
     "metadata": {},
     "output_type": "display_data"
    },
    {
     "name": "stdout",
     "output_type": "stream",
     "text": [
      "====TT====\n",
      "TV distance. Mean: 0.033, Std: 0.009. \n",
      "ESS: 0.471 \n",
      "EMD: 123.697\n",
      "(2000, 20)\n",
      "(1000, 1, 20)\n"
     ]
    },
    {
     "data": {
      "application/vnd.jupyter.widget-view+json": {
       "model_id": "",
       "version_major": 2,
       "version_minor": 0
      },
      "text/plain": [
       "  0%|          | 0/25 [00:00<?, ?it/s]"
      ]
     },
     "metadata": {},
     "output_type": "display_data"
    },
    {
     "name": "stdout",
     "output_type": "stream",
     "text": [
      "====NUTS====\n",
      "TV distance. Mean: 0.033, Std: 0.006. \n",
      "ESS: 0.387 \n",
      "EMD: 122.413\n",
      "(2000, 30)\n",
      "(1000, 1, 30)\n"
     ]
    },
    {
     "data": {
      "application/vnd.jupyter.widget-view+json": {
       "model_id": "",
       "version_major": 2,
       "version_minor": 0
      },
      "text/plain": [
       "  0%|          | 0/25 [00:00<?, ?it/s]"
      ]
     },
     "metadata": {},
     "output_type": "display_data"
    },
    {
     "name": "stdout",
     "output_type": "stream",
     "text": [
      "====TT====\n",
      "TV distance. Mean: 0.030, Std: 0.008. \n",
      "ESS: 0.502 \n",
      "EMD: 257.873\n",
      "(2000, 30)\n",
      "(1000, 1, 30)\n"
     ]
    },
    {
     "data": {
      "application/vnd.jupyter.widget-view+json": {
       "model_id": "",
       "version_major": 2,
       "version_minor": 0
      },
      "text/plain": [
       "  0%|          | 0/25 [00:00<?, ?it/s]"
      ]
     },
     "metadata": {},
     "output_type": "display_data"
    },
    {
     "name": "stdout",
     "output_type": "stream",
     "text": [
      "====NUTS====\n",
      "TV distance. Mean: 0.038, Std: 0.009. \n",
      "ESS: 0.413 \n",
      "EMD: 264.553\n",
      "(2000, 40)\n",
      "(1000, 1, 40)\n"
     ]
    },
    {
     "data": {
      "application/vnd.jupyter.widget-view+json": {
       "model_id": "",
       "version_major": 2,
       "version_minor": 0
      },
      "text/plain": [
       "  0%|          | 0/25 [00:00<?, ?it/s]"
      ]
     },
     "metadata": {},
     "output_type": "display_data"
    },
    {
     "name": "stdout",
     "output_type": "stream",
     "text": [
      "====TT====\n",
      "TV distance. Mean: 0.033, Std: 0.008. \n",
      "ESS: 0.466 \n",
      "EMD: 415.172\n",
      "(2000, 40)\n",
      "(1000, 1, 40)\n"
     ]
    },
    {
     "data": {
      "application/vnd.jupyter.widget-view+json": {
       "model_id": "",
       "version_major": 2,
       "version_minor": 0
      },
      "text/plain": [
       "  0%|          | 0/25 [00:00<?, ?it/s]"
      ]
     },
     "metadata": {},
     "output_type": "display_data"
    },
    {
     "name": "stdout",
     "output_type": "stream",
     "text": [
      "====NUTS====\n",
      "TV distance. Mean: 0.033, Std: 0.011. \n",
      "ESS: 0.415 \n",
      "EMD: 426.147\n",
      "(2000, 50)\n",
      "(1000, 1, 50)\n"
     ]
    },
    {
     "data": {
      "application/vnd.jupyter.widget-view+json": {
       "model_id": "",
       "version_major": 2,
       "version_minor": 0
      },
      "text/plain": [
       "  0%|          | 0/25 [00:00<?, ?it/s]"
      ]
     },
     "metadata": {},
     "output_type": "display_data"
    },
    {
     "name": "stdout",
     "output_type": "stream",
     "text": [
      "====TT====\n",
      "TV distance. Mean: 0.037, Std: 0.008. \n",
      "ESS: 0.484 \n",
      "EMD: 590.289\n",
      "(2000, 50)\n",
      "(1000, 1, 50)\n"
     ]
    },
    {
     "data": {
      "application/vnd.jupyter.widget-view+json": {
       "model_id": "",
       "version_major": 2,
       "version_minor": 0
      },
      "text/plain": [
       "  0%|          | 0/25 [00:00<?, ?it/s]"
      ]
     },
     "metadata": {},
     "output_type": "display_data"
    },
    {
     "name": "stdout",
     "output_type": "stream",
     "text": [
      "====NUTS====\n",
      "TV distance. Mean: 0.038, Std: 0.010. \n",
      "ESS: 0.402 \n",
      "EMD: 600.065\n",
      "(2000, 60)\n",
      "(1000, 1, 60)\n"
     ]
    },
    {
     "data": {
      "application/vnd.jupyter.widget-view+json": {
       "model_id": "",
       "version_major": 2,
       "version_minor": 0
      },
      "text/plain": [
       "  0%|          | 0/25 [00:00<?, ?it/s]"
      ]
     },
     "metadata": {},
     "output_type": "display_data"
    },
    {
     "name": "stdout",
     "output_type": "stream",
     "text": [
      "====TT====\n",
      "TV distance. Mean: 0.033, Std: 0.009. \n",
      "ESS: 0.493 \n",
      "EMD: 773.387\n",
      "(2000, 60)\n",
      "(1000, 1, 60)\n"
     ]
    },
    {
     "data": {
      "application/vnd.jupyter.widget-view+json": {
       "model_id": "",
       "version_major": 2,
       "version_minor": 0
      },
      "text/plain": [
       "  0%|          | 0/25 [00:00<?, ?it/s]"
      ]
     },
     "metadata": {},
     "output_type": "display_data"
    },
    {
     "name": "stdout",
     "output_type": "stream",
     "text": [
      "====NUTS====\n",
      "TV distance. Mean: 0.032, Std: 0.009. \n",
      "ESS: 0.410 \n",
      "EMD: 784.535\n",
      "(2000, 70)\n",
      "(1000, 1, 70)\n"
     ]
    },
    {
     "data": {
      "application/vnd.jupyter.widget-view+json": {
       "model_id": "",
       "version_major": 2,
       "version_minor": 0
      },
      "text/plain": [
       "  0%|          | 0/25 [00:00<?, ?it/s]"
      ]
     },
     "metadata": {},
     "output_type": "display_data"
    },
    {
     "name": "stdout",
     "output_type": "stream",
     "text": [
      "====TT====\n",
      "TV distance. Mean: 0.035, Std: 0.009. \n",
      "ESS: 0.484 \n",
      "EMD: 964.999\n",
      "(2000, 70)\n",
      "(1000, 1, 70)\n"
     ]
    },
    {
     "data": {
      "application/vnd.jupyter.widget-view+json": {
       "model_id": "",
       "version_major": 2,
       "version_minor": 0
      },
      "text/plain": [
       "  0%|          | 0/25 [00:00<?, ?it/s]"
      ]
     },
     "metadata": {},
     "output_type": "display_data"
    },
    {
     "name": "stdout",
     "output_type": "stream",
     "text": [
      "====NUTS====\n",
      "TV distance. Mean: 0.035, Std: 0.009. \n",
      "ESS: 0.401 \n",
      "EMD: 977.532\n"
     ]
    }
   ],
   "source": [
    "nuts_tv, tt_tv = [], []\n",
    "for i in range(len(ds)):\n",
    "    metrics_tt = compute_metrics(\n",
    "                    trues[i],\n",
    "                    anses[i].reshape(1000, 1, ds[i]),\n",
    "                    name=\"TT\",\n",
    "                    trunc_chain_len=trunc_chain_len,\n",
    "                    ess_rar=1,\n",
    "    )\n",
    "    tt_tv.append(metrics_tt['tv_mean'].item())\n",
    "    metrics_nuts = compute_metrics(\n",
    "                    trues[i],\n",
    "                    nutses[i],\n",
    "                    name=\"NUTS\",\n",
    "                    trunc_chain_len=trunc_chain_len,\n",
    "                    ess_rar=1,\n",
    "    )\n",
    "    nuts_tv.append(metrics_nuts['tv_mean'].item())"
   ]
  },
  {
   "cell_type": "code",
   "execution_count": 59,
   "id": "664a1357-3278-423a-ad77-dbaee4cf0390",
   "metadata": {},
   "outputs": [
    {
     "data": {
      "image/png": "[encoded data removed]",
      "text/plain": [
       "<Figure size 640x480 with 1 Axes>"
      ]
     },
     "metadata": {},
     "output_type": "display_data"
    }
   ],
   "source": [
    "plt.plot(ds, nuts_tv, label='NUTS')\n",
    "plt.plot(ds, tt_tv, label='TT')\n",
    "plt.legend()\n",
    "plt.title(\"TV distance\")\n",
    "plt.xlabel(\"ds\")\n",
    "plt.ylabel(\"TV distance\")\n",
    "plt.show()"
   ]
  },
  {
   "cell_type": "code",
   "execution_count": 60,
   "id": "d24b0c12-23ab-4883-9930-abf804dcd869",
   "metadata": {},
   "outputs": [],
   "source": [
    "from tensors.MALA import mala\n",
    "malas = [0] * 8\n"
   ]
  },
  {
   "cell_type": "code",
   "execution_count": null,
   "id": "f3f70dd3-3e99-4814-b50b-f2b69df5b7f1",
   "metadata": {},
   "outputs": [],
   "source": []
  },
  {
   "cell_type": "code",
   "execution_count": 130,
   "id": "13db1fda-16c3-4326-8fad-b3acc2fe930b",
   "metadata": {},
   "outputs": [],
   "source": [
    "a = 5.0\n",
    "b = 0.02\n",
    "k = 6\n",
    "x, accs = mala(anses[k], log_grad_banana(a, b), banana(a, b), 0.4, k=10)"
   ]
  },
  {
   "cell_type": "code",
   "execution_count": 131,
   "id": "79bab700-dd6e-4268-968d-cc52ca524001",
   "metadata": {},
   "outputs": [
    {
     "data": {
      "text/plain": [
       "([0.61, 0.552, 0.586, 0.581, 0.603, 0.608, 0.556, 0.586, 0.571, 0.57],\n",
       " (1000, 70))"
      ]
     },
     "execution_count": 131,
     "metadata": {},
     "output_type": "execute_result"
    }
   ],
   "source": [
    "accs, x.shape"
   ]
  },
  {
   "cell_type": "code",
   "execution_count": 132,
   "id": "0a090573-7960-4edc-aace-edd27bb08a27",
   "metadata": {},
   "outputs": [],
   "source": [
    "malas[k] = x"
   ]
  },
  {
   "cell_type": "code",
   "execution_count": 133,
   "id": "5c083dcf-5803-4c85-986e-073e84ade82d",
   "metadata": {},
   "outputs": [
    {
     "name": "stdout",
     "output_type": "stream",
     "text": [
      "(2000, 70)\n",
      "(1000, 1, 70)\n"
     ]
    },
    {
     "data": {
      "application/vnd.jupyter.widget-view+json": {
       "model_id": "",
       "version_major": 2,
       "version_minor": 0
      },
      "text/plain": [
       "  0%|          | 0/25 [00:00<?, ?it/s]"
      ]
     },
     "metadata": {},
     "output_type": "display_data"
    },
    {
     "name": "stdout",
     "output_type": "stream",
     "text": [
      "====MALA TT====\n",
      "TV distance. Mean: 0.034, Std: 0.010. \n",
      "ESS: 0.481 \n",
      "EMD: 964.909\n"
     ]
    }
   ],
   "source": [
    "metrics = compute_metrics(\n",
    "                    trues[k],\n",
    "                    malas[k].reshape(1000, 1, -1),\n",
    "                    name=\"MALA TT\",\n",
    "                    trunc_chain_len=trunc_chain_len,\n",
    "                    ess_rar=1,\n",
    ")"
   ]
  },
  {
   "cell_type": "code",
   "execution_count": 134,
   "id": "73427f56-a8fd-444e-8532-b9e6fbca7f56",
   "metadata": {},
   "outputs": [],
   "source": [
    "#malas"
   ]
  },
  {
   "cell_type": "code",
   "execution_count": 135,
   "id": "211f5d26-ac25-4c13-9abd-e23716b1c157",
   "metadata": {},
   "outputs": [
    {
     "name": "stdout",
     "output_type": "stream",
     "text": [
      "(2000, 10)\n",
      "(1000, 1, 10)\n"
     ]
    },
    {
     "data": {
      "application/vnd.jupyter.widget-view+json": {
       "model_id": "",
       "version_major": 2,
       "version_minor": 0
      },
      "text/plain": [
       "  0%|          | 0/25 [00:00<?, ?it/s]"
      ]
     },
     "metadata": {},
     "output_type": "display_data"
    },
    {
     "name": "stdout",
     "output_type": "stream",
     "text": [
      "====TT====\n",
      "TV distance. Mean: 0.036, Std: 0.012. \n",
      "ESS: 0.460 \n",
      "EMD: 27.715\n",
      "(2000, 20)\n",
      "(1000, 1, 20)\n"
     ]
    },
    {
     "data": {
      "application/vnd.jupyter.widget-view+json": {
       "model_id": "",
       "version_major": 2,
       "version_minor": 0
      },
      "text/plain": [
       "  0%|          | 0/25 [00:00<?, ?it/s]"
      ]
     },
     "metadata": {},
     "output_type": "display_data"
    },
    {
     "name": "stdout",
     "output_type": "stream",
     "text": [
      "====TT====\n",
      "TV distance. Mean: 0.033, Std: 0.006. \n",
      "ESS: 0.525 \n",
      "EMD: 123.752\n",
      "(2000, 30)\n",
      "(1000, 1, 30)\n"
     ]
    },
    {
     "data": {
      "application/vnd.jupyter.widget-view+json": {
       "model_id": "",
       "version_major": 2,
       "version_minor": 0
      },
      "text/plain": [
       "  0%|          | 0/25 [00:00<?, ?it/s]"
      ]
     },
     "metadata": {},
     "output_type": "display_data"
    },
    {
     "name": "stdout",
     "output_type": "stream",
     "text": [
      "====TT====\n",
      "TV distance. Mean: 0.028, Std: 0.009. \n",
      "ESS: 0.467 \n",
      "EMD: 258.117\n",
      "(2000, 40)\n",
      "(1000, 1, 40)\n"
     ]
    },
    {
     "data": {
      "application/vnd.jupyter.widget-view+json": {
       "model_id": "",
       "version_major": 2,
       "version_minor": 0
      },
      "text/plain": [
       "  0%|          | 0/25 [00:00<?, ?it/s]"
      ]
     },
     "metadata": {},
     "output_type": "display_data"
    },
    {
     "name": "stdout",
     "output_type": "stream",
     "text": [
      "====TT====\n",
      "TV distance. Mean: 0.033, Std: 0.010. \n",
      "ESS: 0.474 \n",
      "EMD: 417.778\n",
      "(2000, 50)\n",
      "(1000, 1, 50)\n"
     ]
    },
    {
     "data": {
      "application/vnd.jupyter.widget-view+json": {
       "model_id": "",
       "version_major": 2,
       "version_minor": 0
      },
      "text/plain": [
       "  0%|          | 0/25 [00:00<?, ?it/s]"
      ]
     },
     "metadata": {},
     "output_type": "display_data"
    },
    {
     "name": "stdout",
     "output_type": "stream",
     "text": [
      "====TT====\n",
      "TV distance. Mean: 0.033, Std: 0.006. \n",
      "ESS: 0.484 \n",
      "EMD: 597.910\n",
      "(2000, 60)\n",
      "(1000, 1, 60)\n"
     ]
    },
    {
     "data": {
      "application/vnd.jupyter.widget-view+json": {
       "model_id": "",
       "version_major": 2,
       "version_minor": 0
      },
      "text/plain": [
       "  0%|          | 0/25 [00:00<?, ?it/s]"
      ]
     },
     "metadata": {},
     "output_type": "display_data"
    },
    {
     "name": "stdout",
     "output_type": "stream",
     "text": [
      "====TT====\n",
      "TV distance. Mean: 0.035, Std: 0.009. \n",
      "ESS: 0.497 \n",
      "EMD: 777.338\n",
      "(2000, 70)\n",
      "(1000, 1, 70)\n"
     ]
    },
    {
     "data": {
      "application/vnd.jupyter.widget-view+json": {
       "model_id": "",
       "version_major": 2,
       "version_minor": 0
      },
      "text/plain": [
       "  0%|          | 0/25 [00:00<?, ?it/s]"
      ]
     },
     "metadata": {},
     "output_type": "display_data"
    },
    {
     "name": "stdout",
     "output_type": "stream",
     "text": [
      "====TT====\n",
      "TV distance. Mean: 0.034, Std: 0.010. \n",
      "ESS: 0.481 \n",
      "EMD: 964.909\n"
     ]
    }
   ],
   "source": [
    "mala_tv = []\n",
    "for i in range(len(ds)):\n",
    "    metrics_mala = compute_metrics(\n",
    "                    trues[i],\n",
    "                    malas[i].reshape(1000, 1, ds[i]),\n",
    "                    name=\"TT\",\n",
    "                    trunc_chain_len=trunc_chain_len,\n",
    "                    ess_rar=1,\n",
    "    )\n",
    "   \n",
    "    mala_tv.append(metrics_mala['tv_mean'].item())"
   ]
  },
  {
   "cell_type": "code",
   "execution_count": 139,
   "id": "770910dd-c558-45c9-bf3b-383c7b1cfa9a",
   "metadata": {},
   "outputs": [
    {
     "data": {
      "image/png": "[encoded data removed]",
      "text/plain": [
       "<Figure size 640x480 with 1 Axes>"
      ]
     },
     "metadata": {},
     "output_type": "display_data"
    }
   ],
   "source": [
    "plt.plot(ds, nuts_tv, label='NUTS')\n",
    "plt.plot(ds, tt_tv, label='TT')\n",
    "plt.plot(ds, mala_tv, label='TT + MALA')\n",
    "\n",
    "plt.legend()\n",
    "plt.title(\"TV distance\", fontdict={'fontsize':15})\n",
    "plt.xlabel(\"dimension\", fontdict={'fontsize':15})\n",
    "plt.ylabel(\"TV distance\", fontdict={'fontsize':15})\n",
    "plt.show()"
   ]
  },
  {
   "cell_type": "code",
   "execution_count": 387,
   "id": "20fb7013-1bed-4743-a24a-86a6098058bd",
   "metadata": {},
   "outputs": [],
   "source": [
    "def sample_nuts_samples(target, proposal, samples, device = 'cpu', num_samples=1,\n",
    "                        burn_in=2, rand_seed = 42):\n",
    "    def true_target_energy(z):\n",
    "        return -target(z)\n",
    "\n",
    "    def energy(z):\n",
    "        z = z[\"points\"]\n",
    "        return true_target_energy(z).sum()\n",
    "    start_time = time.time()\n",
    "    # kernel = HMC(potential_fn=energy, step_size = 0.1, num_steps = K, full_mass = False)\n",
    "    kernel_true = NUTS(potential_fn=energy, full_mass=False)\n",
    "    #kernel_true = HMC(potential_fn=energy, full_mass=False)\n",
    "    pyro.set_rng_seed(rand_seed)\n",
    "    init_samples = torch.tensor(samples, device=device)\n",
    "    print(init_samples.shape) \n",
    "    #init_samples = torch.zeros_like(init_samples)\n",
    "    dim = init_samples.shape[-1]\n",
    "    init_params = {\"points\": init_samples}\n",
    "    mcmc_true = MCMC(\n",
    "        kernel=kernel_true,\n",
    "        num_samples=num_samples,\n",
    "        initial_params=init_params,\n",
    "        warmup_steps=burn_in,\n",
    "    )\n",
    "    mcmc_true.run()\n",
    "    q_true = mcmc_true.get_samples(group_by_chain=True)[\"points\"].cpu()\n",
    "    samples_true = np.array(q_true.view(-1, batch_size, dim))\n",
    "    end_time = time.time()\n",
    "    return end_time-start_time, samples_true"
   ]
  },
  {
   "cell_type": "code",
   "execution_count": 392,
   "id": "682dcef6-a6c1-4721-aa65-9a6edf38ecb9",
   "metadata": {},
   "outputs": [],
   "source": [
    "k=3\n",
    "dim=ds[k]\n",
    "sigma = 5.0\n",
    "b = 0.02\n",
    "target = Banana(\n",
    "                dim=dim,\n",
    "                device=device,\n",
    "                b = b,\n",
    "                sigma = sigma,\n",
    "                #b = b\n",
    "                #**dist_params.dict,\n",
    ")\n",
    "loc_proposal = torch.zeros(dim).to(device)\n",
    "scale_proposal = 1.\n",
    "scale_proposal = scale_proposal * torch.ones(dim).to(device)\n",
    "\n",
    "proposal = IndependentNormal(\n",
    "    dim=dim,\n",
    "    loc=loc_proposal,\n",
    "    scale=scale_proposal,\n",
    "    device=device,\n",
    ")"
   ]
  },
  {
   "cell_type": "code",
   "execution_count": 393,
   "id": "d6cdb99d-c349-49a4-acb3-ba63155471a0",
   "metadata": {},
   "outputs": [
    {
     "name": "stdout",
     "output_type": "stream",
     "text": [
      "torch.Size([1000, 40])\n"
     ]
    },
    {
     "name": "stderr",
     "output_type": "stream",
     "text": [
      "Sample: 100%|██████| 3/3 [00:00, 27.04it/s, step size=1.67e+00, acc. prob=0.000]\n"
     ]
    }
   ],
   "source": [
    "w = sample_nuts_samples(\n",
    "                target,\n",
    "                proposal,\n",
    "                samples=malas[k]\n",
    ")"
   ]
  },
  {
   "cell_type": "code",
   "execution_count": 394,
   "id": "77e417ac-94c5-4368-9eb7-085b2a653737",
   "metadata": {},
   "outputs": [
    {
     "data": {
      "text/plain": [
       "(1000, 1, 40)"
      ]
     },
     "execution_count": 394,
     "metadata": {},
     "output_type": "execute_result"
    }
   ],
   "source": [
    "w[1].shape"
   ]
  },
  {
   "cell_type": "code",
   "execution_count": null,
   "id": "7fe669dc-141f-4919-a823-697e6a00c215",
   "metadata": {},
   "outputs": [],
   "source": []
  },
  {
   "cell_type": "code",
   "execution_count": 395,
   "id": "1bc3c675-0065-48c9-8a40-630587dbbdf0",
   "metadata": {},
   "outputs": [
    {
     "name": "stdout",
     "output_type": "stream",
     "text": [
      "(2000, 40)\n",
      "(1000, 1, 40)\n"
     ]
    },
    {
     "data": {
      "application/vnd.jupyter.widget-view+json": {
       "model_id": "",
       "version_major": 2,
       "version_minor": 0
      },
      "text/plain": [
       "  0%|          | 0/25 [00:00<?, ?it/s]"
      ]
     },
     "metadata": {},
     "output_type": "display_data"
    },
    {
     "name": "stdout",
     "output_type": "stream",
     "text": [
      "====MALA TT====\n",
      "TV distance. Mean: 0.033, Std: 0.009. \n",
      "ESS: 0.485 \n",
      "EMD: 427.952\n"
     ]
    }
   ],
   "source": [
    "metrics = compute_metrics(\n",
    "                    trues[k],\n",
    "                    w[1],\n",
    "                    name=\"MALA TT\",\n",
    "                    trunc_chain_len=trunc_chain_len,\n",
    "                    ess_rar=1,\n",
    ")"
   ]
  },
  {
   "cell_type": "code",
   "execution_count": null,
   "id": "d5284016-2469-43c9-991b-2333c5682ea1",
   "metadata": {},
   "outputs": [],
   "source": []
  }
 ],
 "metadata": {
  "accelerator": "GPU",
  "colab": {
   "collapsed_sections": [],
   "name": "Копия блокнота \"Копия блокнота \"sample_funnel_distribution.ipynb\"\"",
   "provenance": []
  },
  "kernelspec": {
   "display_name": "Python 3 (ipykernel)",
   "language": "python",
   "name": "python3"
  },
  "language_info": {
   "codemirror_mode": {
    "name": "ipython",
    "version": 3
   },
   "file_extension": ".py",
   "mimetype": "text/x-python",
   "name": "python",
   "nbconvert_exporter": "python",
   "pygments_lexer": "ipython3",
   "version": "3.10.10"
  },
  "widgets": {
   "application/vnd.jupyter.widget-state+json": {
    "1262e18fdc3a4f96a711269dbce7f199": {
     "model_module": "@jupyter-widgets/controls",
     "model_module_version": "1.5.0",
     "model_name": "HBoxModel",
     "state": {
      "_dom_classes": [],
      "_model_module": "@jupyter-widgets/controls",
      "_model_module_version": "1.5.0",
      "_model_name": "HBoxModel",
      "_view_count": null,
      "_view_module": "@jupyter-widgets/controls",
      "_view_module_version": "1.5.0",
      "_view_name": "HBoxView",
      "box_style": "",
      "children": [
       "IPY_MODEL_2681eab477c54d249a6d3a5e761a9db6",
       "IPY_MODEL_780acb05cd904f39b8ca5fb99dc2fb2b",
       "IPY_MODEL_2b38bac228b845178abd9e02e2edc3ba"
      ],
      "layout": "IPY_MODEL_df4b27f8635c44468407f48616ebf7e3"
     }
    },
    "17a25dfbc5304849928043f937542891": {
     "model_module": "@jupyter-widgets/base",
     "model_module_version": "1.2.0",
     "model_name": "LayoutModel",
     "state": {
      "_model_module": "@jupyter-widgets/base",
      "_model_module_version": "1.2.0",
      "_model_name": "LayoutModel",
      "_view_count": null,
      "_view_module": "@jupyter-widgets/base",
      "_view_module_version": "1.2.0",
      "_view_name": "LayoutView",
      "align_content": null,
      "align_items": null,
      "align_self": null,
      "border": null,
      "bottom": null,
      "display": null,
      "flex": null,
      "flex_flow": null,
      "grid_area": null,
      "grid_auto_columns": null,
      "grid_auto_flow": null,
      "grid_auto_rows": null,
      "grid_column": null,
      "grid_gap": null,
      "grid_row": null,
      "grid_template_areas": null,
      "grid_template_columns": null,
      "grid_template_rows": null,
      "height": null,
      "justify_content": null,
      "justify_items": null,
      "left": null,
      "margin": null,
      "max_height": null,
      "max_width": null,
      "min_height": null,
      "min_width": null,
      "object_fit": null,
      "object_position": null,
      "order": null,
      "overflow": null,
      "overflow_x": null,
      "overflow_y": null,
      "padding": null,
      "right": null,
      "top": null,
      "visibility": null,
      "width": null
     }
    },
    "23468f17c2bc473baaa6b25ba1e0c883": {
     "model_module": "@jupyter-widgets/base",
     "model_module_version": "1.2.0",
     "model_name": "LayoutModel",
     "state": {
      "_model_module": "@jupyter-widgets/base",
      "_model_module_version": "1.2.0",
      "_model_name": "LayoutModel",
      "_view_count": null,
      "_view_module": "@jupyter-widgets/base",
      "_view_module_version": "1.2.0",
      "_view_name": "LayoutView",
      "align_content": null,
      "align_items": null,
      "align_self": null,
      "border": null,
      "bottom": null,
      "display": null,
      "flex": null,
      "flex_flow": null,
      "grid_area": null,
      "grid_auto_columns": null,
      "grid_auto_flow": null,
      "grid_auto_rows": null,
      "grid_column": null,
      "grid_gap": null,
      "grid_row": null,
      "grid_template_areas": null,
      "grid_template_columns": null,
      "grid_template_rows": null,
      "height": null,
      "justify_content": null,
      "justify_items": null,
      "left": null,
      "margin": null,
      "max_height": null,
      "max_width": null,
      "min_height": null,
      "min_width": null,
      "object_fit": null,
      "object_position": null,
      "order": null,
      "overflow": null,
      "overflow_x": null,
      "overflow_y": null,
      "padding": null,
      "right": null,
      "top": null,
      "visibility": null,
      "width": null
     }
    },
    "2681eab477c54d249a6d3a5e761a9db6": {
     "model_module": "@jupyter-widgets/controls",
     "model_module_version": "1.5.0",
     "model_name": "HTMLModel",
     "state": {
      "_dom_classes": [],
      "_model_module": "@jupyter-widgets/controls",
      "_model_module_version": "1.5.0",
      "_model_name": "HTMLModel",
      "_view_count": null,
      "_view_module": "@jupyter-widgets/controls",
      "_view_module_version": "1.5.0",
      "_view_name": "HTMLView",
      "description": "",
      "description_tooltip": null,
      "layout": "IPY_MODEL_ffda0162e55b4624ac91ecfecfe41108",
      "placeholder": "​",
      "style": "IPY_MODEL_30f0bd911d674dbab39a522c991bc413",
      "value": " 96%"
     }
    },
    "2b38bac228b845178abd9e02e2edc3ba": {
     "model_module": "@jupyter-widgets/controls",
     "model_module_version": "1.5.0",
     "model_name": "HTMLModel",
     "state": {
      "_dom_classes": [],
      "_model_module": "@jupyter-widgets/controls",
      "_model_module_version": "1.5.0",
      "_model_name": "HTMLModel",
      "_view_count": null,
      "_view_module": "@jupyter-widgets/controls",
      "_view_module_version": "1.5.0",
      "_view_name": "HTMLView",
      "description": "",
      "description_tooltip": null,
      "layout": "IPY_MODEL_974e2bafadd24096b46f16b47cf645cd",
      "placeholder": "​",
      "style": "IPY_MODEL_e1d97ffc33394585b5119b7fe89e013f",
      "value": " 24/25 [00:02&lt;00:00, 10.43it/s]"
     }
    },
    "30f0bd911d674dbab39a522c991bc413": {
     "model_module": "@jupyter-widgets/controls",
     "model_module_version": "1.5.0",
     "model_name": "DescriptionStyleModel",
     "state": {
      "_model_module": "@jupyter-widgets/controls",
      "_model_module_version": "1.5.0",
      "_model_name": "DescriptionStyleModel",
      "_view_count": null,
      "_view_module": "@jupyter-widgets/base",
      "_view_module_version": "1.2.0",
      "_view_name": "StyleView",
      "description_width": ""
     }
    },
    "31f91ee4cd7144f69412678d58b7bfa9": {
     "model_module": "@jupyter-widgets/controls",
     "model_module_version": "1.5.0",
     "model_name": "HTMLModel",
     "state": {
      "_dom_classes": [],
      "_model_module": "@jupyter-widgets/controls",
      "_model_module_version": "1.5.0",
      "_model_name": "HTMLModel",
      "_view_count": null,
      "_view_module": "@jupyter-widgets/controls",
      "_view_module_version": "1.5.0",
      "_view_name": "HTMLView",
      "description": "",
      "description_tooltip": null,
      "layout": "IPY_MODEL_344fe94af8fd4ee2ad6706eb15c55a4e",
      "placeholder": "​",
      "style": "IPY_MODEL_fa43cbec1f434b519b415de19d25fb8a",
      "value": "100%"
     }
    },
    "344fe94af8fd4ee2ad6706eb15c55a4e": {
     "model_module": "@jupyter-widgets/base",
     "model_module_version": "1.2.0",
     "model_name": "LayoutModel",
     "state": {
      "_model_module": "@jupyter-widgets/base",
      "_model_module_version": "1.2.0",
      "_model_name": "LayoutModel",
      "_view_count": null,
      "_view_module": "@jupyter-widgets/base",
      "_view_module_version": "1.2.0",
      "_view_name": "LayoutView",
      "align_content": null,
      "align_items": null,
      "align_self": null,
      "border": null,
      "bottom": null,
      "display": null,
      "flex": null,
      "flex_flow": null,
      "grid_area": null,
      "grid_auto_columns": null,
      "grid_auto_flow": null,
      "grid_auto_rows": null,
      "grid_column": null,
      "grid_gap": null,
      "grid_row": null,
      "grid_template_areas": null,
      "grid_template_columns": null,
      "grid_template_rows": null,
      "height": null,
      "justify_content": null,
      "justify_items": null,
      "left": null,
      "margin": null,
      "max_height": null,
      "max_width": null,
      "min_height": null,
      "min_width": null,
      "object_fit": null,
      "object_position": null,
      "order": null,
      "overflow": null,
      "overflow_x": null,
      "overflow_y": null,
      "padding": null,
      "right": null,
      "top": null,
      "visibility": null,
      "width": null
     }
    },
    "34817fa9d4094fc482c5394e9dd166e3": {
     "model_module": "@jupyter-widgets/controls",
     "model_module_version": "1.5.0",
     "model_name": "ProgressStyleModel",
     "state": {
      "_model_module": "@jupyter-widgets/controls",
      "_model_module_version": "1.5.0",
      "_model_name": "ProgressStyleModel",
      "_view_count": null,
      "_view_module": "@jupyter-widgets/base",
      "_view_module_version": "1.2.0",
      "_view_name": "StyleView",
      "bar_color": null,
      "description_width": ""
     }
    },
    "35f5ba7dcd1340de912cfcd7f9c4398e": {
     "model_module": "@jupyter-widgets/base",
     "model_module_version": "1.2.0",
     "model_name": "LayoutModel",
     "state": {
      "_model_module": "@jupyter-widgets/base",
      "_model_module_version": "1.2.0",
      "_model_name": "LayoutModel",
      "_view_count": null,
      "_view_module": "@jupyter-widgets/base",
      "_view_module_version": "1.2.0",
      "_view_name": "LayoutView",
      "align_content": null,
      "align_items": null,
      "align_self": null,
      "border": null,
      "bottom": null,
      "display": null,
      "flex": null,
      "flex_flow": null,
      "grid_area": null,
      "grid_auto_columns": null,
      "grid_auto_flow": null,
      "grid_auto_rows": null,
      "grid_column": null,
      "grid_gap": null,
      "grid_row": null,
      "grid_template_areas": null,
      "grid_template_columns": null,
      "grid_template_rows": null,
      "height": null,
      "justify_content": null,
      "justify_items": null,
      "left": null,
      "margin": null,
      "max_height": null,
      "max_width": null,
      "min_height": null,
      "min_width": null,
      "object_fit": null,
      "object_position": null,
      "order": null,
      "overflow": null,
      "overflow_x": null,
      "overflow_y": null,
      "padding": null,
      "right": null,
      "top": null,
      "visibility": null,
      "width": null
     }
    },
    "3b4e03ceb73a4cee8c77b55abb8619bb": {
     "model_module": "@jupyter-widgets/controls",
     "model_module_version": "1.5.0",
     "model_name": "HBoxModel",
     "state": {
      "_dom_classes": [],
      "_model_module": "@jupyter-widgets/controls",
      "_model_module_version": "1.5.0",
      "_model_name": "HBoxModel",
      "_view_count": null,
      "_view_module": "@jupyter-widgets/controls",
      "_view_module_version": "1.5.0",
      "_view_name": "HBoxView",
      "box_style": "",
      "children": [
       "IPY_MODEL_83935cecc9174e3fbe1e7a2df040f64d",
       "IPY_MODEL_d8a11bd9066145339abc00491ddf5f02",
       "IPY_MODEL_b388fe25f3ef4860b018261820705ee8"
      ],
      "layout": "IPY_MODEL_35f5ba7dcd1340de912cfcd7f9c4398e"
     }
    },
    "3d378aa54c2f436e8349470427419216": {
     "model_module": "@jupyter-widgets/controls",
     "model_module_version": "1.5.0",
     "model_name": "HBoxModel",
     "state": {
      "_dom_classes": [],
      "_model_module": "@jupyter-widgets/controls",
      "_model_module_version": "1.5.0",
      "_model_name": "HBoxModel",
      "_view_count": null,
      "_view_module": "@jupyter-widgets/controls",
      "_view_module_version": "1.5.0",
      "_view_name": "HBoxView",
      "box_style": "",
      "children": [
       "IPY_MODEL_31f91ee4cd7144f69412678d58b7bfa9",
       "IPY_MODEL_f21fd4150ad749738bd242186235c311",
       "IPY_MODEL_e8208311ee474331b02f15bcc90f0c95"
      ],
      "layout": "IPY_MODEL_87d45eadfa274b00931d79166cb67592"
     }
    },
    "5646c4ee50ab4d2e95852cf29164bf92": {
     "model_module": "@jupyter-widgets/base",
     "model_module_version": "1.2.0",
     "model_name": "LayoutModel",
     "state": {
      "_model_module": "@jupyter-widgets/base",
      "_model_module_version": "1.2.0",
      "_model_name": "LayoutModel",
      "_view_count": null,
      "_view_module": "@jupyter-widgets/base",
      "_view_module_version": "1.2.0",
      "_view_name": "LayoutView",
      "align_content": null,
      "align_items": null,
      "align_self": null,
      "border": null,
      "bottom": null,
      "display": null,
      "flex": null,
      "flex_flow": null,
      "grid_area": null,
      "grid_auto_columns": null,
      "grid_auto_flow": null,
      "grid_auto_rows": null,
      "grid_column": null,
      "grid_gap": null,
      "grid_row": null,
      "grid_template_areas": null,
      "grid_template_columns": null,
      "grid_template_rows": null,
      "height": null,
      "justify_content": null,
      "justify_items": null,
      "left": null,
      "margin": null,
      "max_height": null,
      "max_width": null,
      "min_height": null,
      "min_width": null,
      "object_fit": null,
      "object_position": null,
      "order": null,
      "overflow": null,
      "overflow_x": null,
      "overflow_y": null,
      "padding": null,
      "right": null,
      "top": null,
      "visibility": null,
      "width": null
     }
    },
    "6a821807170d4c099ab034938b632ff1": {
     "model_module": "@jupyter-widgets/controls",
     "model_module_version": "1.5.0",
     "model_name": "DescriptionStyleModel",
     "state": {
      "_model_module": "@jupyter-widgets/controls",
      "_model_module_version": "1.5.0",
      "_model_name": "DescriptionStyleModel",
      "_view_count": null,
      "_view_module": "@jupyter-widgets/base",
      "_view_module_version": "1.2.0",
      "_view_name": "StyleView",
      "description_width": ""
     }
    },
    "780acb05cd904f39b8ca5fb99dc2fb2b": {
     "model_module": "@jupyter-widgets/controls",
     "model_module_version": "1.5.0",
     "model_name": "FloatProgressModel",
     "state": {
      "_dom_classes": [],
      "_model_module": "@jupyter-widgets/controls",
      "_model_module_version": "1.5.0",
      "_model_name": "FloatProgressModel",
      "_view_count": null,
      "_view_module": "@jupyter-widgets/controls",
      "_view_module_version": "1.5.0",
      "_view_name": "ProgressView",
      "bar_style": "",
      "description": "",
      "description_tooltip": null,
      "layout": "IPY_MODEL_ab6cefbcc52645189a1edce615f83f44",
      "max": 25,
      "min": 0,
      "orientation": "horizontal",
      "style": "IPY_MODEL_b579311d2ef74f3eb9b8597c275659ed",
      "value": 25
     }
    },
    "80e7ed0d2fb64da4a41ba940d2ad6ba7": {
     "model_module": "@jupyter-widgets/base",
     "model_module_version": "1.2.0",
     "model_name": "LayoutModel",
     "state": {
      "_model_module": "@jupyter-widgets/base",
      "_model_module_version": "1.2.0",
      "_model_name": "LayoutModel",
      "_view_count": null,
      "_view_module": "@jupyter-widgets/base",
      "_view_module_version": "1.2.0",
      "_view_name": "LayoutView",
      "align_content": null,
      "align_items": null,
      "align_self": null,
      "border": null,
      "bottom": null,
      "display": null,
      "flex": null,
      "flex_flow": null,
      "grid_area": null,
      "grid_auto_columns": null,
      "grid_auto_flow": null,
      "grid_auto_rows": null,
      "grid_column": null,
      "grid_gap": null,
      "grid_row": null,
      "grid_template_areas": null,
      "grid_template_columns": null,
      "grid_template_rows": null,
      "height": null,
      "justify_content": null,
      "justify_items": null,
      "left": null,
      "margin": null,
      "max_height": null,
      "max_width": null,
      "min_height": null,
      "min_width": null,
      "object_fit": null,
      "object_position": null,
      "order": null,
      "overflow": null,
      "overflow_x": null,
      "overflow_y": null,
      "padding": null,
      "right": null,
      "top": null,
      "visibility": null,
      "width": null
     }
    },
    "83935cecc9174e3fbe1e7a2df040f64d": {
     "model_module": "@jupyter-widgets/controls",
     "model_module_version": "1.5.0",
     "model_name": "HTMLModel",
     "state": {
      "_dom_classes": [],
      "_model_module": "@jupyter-widgets/controls",
      "_model_module_version": "1.5.0",
      "_model_name": "HTMLModel",
      "_view_count": null,
      "_view_module": "@jupyter-widgets/controls",
      "_view_module_version": "1.5.0",
      "_view_name": "HTMLView",
      "description": "",
      "description_tooltip": null,
      "layout": "IPY_MODEL_23468f17c2bc473baaa6b25ba1e0c883",
      "placeholder": "​",
      "style": "IPY_MODEL_6a821807170d4c099ab034938b632ff1",
      "value": "100%"
     }
    },
    "87d45eadfa274b00931d79166cb67592": {
     "model_module": "@jupyter-widgets/base",
     "model_module_version": "1.2.0",
     "model_name": "LayoutModel",
     "state": {
      "_model_module": "@jupyter-widgets/base",
      "_model_module_version": "1.2.0",
      "_model_name": "LayoutModel",
      "_view_count": null,
      "_view_module": "@jupyter-widgets/base",
      "_view_module_version": "1.2.0",
      "_view_name": "LayoutView",
      "align_content": null,
      "align_items": null,
      "align_self": null,
      "border": null,
      "bottom": null,
      "display": null,
      "flex": null,
      "flex_flow": null,
      "grid_area": null,
      "grid_auto_columns": null,
      "grid_auto_flow": null,
      "grid_auto_rows": null,
      "grid_column": null,
      "grid_gap": null,
      "grid_row": null,
      "grid_template_areas": null,
      "grid_template_columns": null,
      "grid_template_rows": null,
      "height": null,
      "justify_content": null,
      "justify_items": null,
      "left": null,
      "margin": null,
      "max_height": null,
      "max_width": null,
      "min_height": null,
      "min_width": null,
      "object_fit": null,
      "object_position": null,
      "order": null,
      "overflow": null,
      "overflow_x": null,
      "overflow_y": null,
      "padding": null,
      "right": null,
      "top": null,
      "visibility": null,
      "width": null
     }
    },
    "974e2bafadd24096b46f16b47cf645cd": {
     "model_module": "@jupyter-widgets/base",
     "model_module_version": "1.2.0",
     "model_name": "LayoutModel",
     "state": {
      "_model_module": "@jupyter-widgets/base",
      "_model_module_version": "1.2.0",
      "_model_name": "LayoutModel",
      "_view_count": null,
      "_view_module": "@jupyter-widgets/base",
      "_view_module_version": "1.2.0",
      "_view_name": "LayoutView",
      "align_content": null,
      "align_items": null,
      "align_self": null,
      "border": null,
      "bottom": null,
      "display": null,
      "flex": null,
      "flex_flow": null,
      "grid_area": null,
      "grid_auto_columns": null,
      "grid_auto_flow": null,
      "grid_auto_rows": null,
      "grid_column": null,
      "grid_gap": null,
      "grid_row": null,
      "grid_template_areas": null,
      "grid_template_columns": null,
      "grid_template_rows": null,
      "height": null,
      "justify_content": null,
      "justify_items": null,
      "left": null,
      "margin": null,
      "max_height": null,
      "max_width": null,
      "min_height": null,
      "min_width": null,
      "object_fit": null,
      "object_position": null,
      "order": null,
      "overflow": null,
      "overflow_x": null,
      "overflow_y": null,
      "padding": null,
      "right": null,
      "top": null,
      "visibility": null,
      "width": null
     }
    },
    "ab6cefbcc52645189a1edce615f83f44": {
     "model_module": "@jupyter-widgets/base",
     "model_module_version": "1.2.0",
     "model_name": "LayoutModel",
     "state": {
      "_model_module": "@jupyter-widgets/base",
      "_model_module_version": "1.2.0",
      "_model_name": "LayoutModel",
      "_view_count": null,
      "_view_module": "@jupyter-widgets/base",
      "_view_module_version": "1.2.0",
      "_view_name": "LayoutView",
      "align_content": null,
      "align_items": null,
      "align_self": null,
      "border": null,
      "bottom": null,
      "display": null,
      "flex": null,
      "flex_flow": null,
      "grid_area": null,
      "grid_auto_columns": null,
      "grid_auto_flow": null,
      "grid_auto_rows": null,
      "grid_column": null,
      "grid_gap": null,
      "grid_row": null,
      "grid_template_areas": null,
      "grid_template_columns": null,
      "grid_template_rows": null,
      "height": null,
      "justify_content": null,
      "justify_items": null,
      "left": null,
      "margin": null,
      "max_height": null,
      "max_width": null,
      "min_height": null,
      "min_width": null,
      "object_fit": null,
      "object_position": null,
      "order": null,
      "overflow": null,
      "overflow_x": null,
      "overflow_y": null,
      "padding": null,
      "right": null,
      "top": null,
      "visibility": null,
      "width": null
     }
    },
    "ad154756b47a4403a79ab13900096f44": {
     "model_module": "@jupyter-widgets/controls",
     "model_module_version": "1.5.0",
     "model_name": "ProgressStyleModel",
     "state": {
      "_model_module": "@jupyter-widgets/controls",
      "_model_module_version": "1.5.0",
      "_model_name": "ProgressStyleModel",
      "_view_count": null,
      "_view_module": "@jupyter-widgets/base",
      "_view_module_version": "1.2.0",
      "_view_name": "StyleView",
      "bar_color": null,
      "description_width": ""
     }
    },
    "b388fe25f3ef4860b018261820705ee8": {
     "model_module": "@jupyter-widgets/controls",
     "model_module_version": "1.5.0",
     "model_name": "HTMLModel",
     "state": {
      "_dom_classes": [],
      "_model_module": "@jupyter-widgets/controls",
      "_model_module_version": "1.5.0",
      "_model_name": "HTMLModel",
      "_view_count": null,
      "_view_module": "@jupyter-widgets/controls",
      "_view_module_version": "1.5.0",
      "_view_name": "HTMLView",
      "description": "",
      "description_tooltip": null,
      "layout": "IPY_MODEL_80e7ed0d2fb64da4a41ba940d2ad6ba7",
      "placeholder": "​",
      "style": "IPY_MODEL_ec86e118988448c99e97785a2f8a675d",
      "value": " 25/25 [00:02&lt;00:00, 10.03it/s]"
     }
    },
    "b579311d2ef74f3eb9b8597c275659ed": {
     "model_module": "@jupyter-widgets/controls",
     "model_module_version": "1.5.0",
     "model_name": "ProgressStyleModel",
     "state": {
      "_model_module": "@jupyter-widgets/controls",
      "_model_module_version": "1.5.0",
      "_model_name": "ProgressStyleModel",
      "_view_count": null,
      "_view_module": "@jupyter-widgets/base",
      "_view_module_version": "1.2.0",
      "_view_name": "StyleView",
      "bar_color": null,
      "description_width": ""
     }
    },
    "b7e31e870c754c29902752389de49ec1": {
     "model_module": "@jupyter-widgets/controls",
     "model_module_version": "1.5.0",
     "model_name": "DescriptionStyleModel",
     "state": {
      "_model_module": "@jupyter-widgets/controls",
      "_model_module_version": "1.5.0",
      "_model_name": "DescriptionStyleModel",
      "_view_count": null,
      "_view_module": "@jupyter-widgets/base",
      "_view_module_version": "1.2.0",
      "_view_name": "StyleView",
      "description_width": ""
     }
    },
    "d35e74085d554fda85c4ec486d9a8d72": {
     "model_module": "@jupyter-widgets/base",
     "model_module_version": "1.2.0",
     "model_name": "LayoutModel",
     "state": {
      "_model_module": "@jupyter-widgets/base",
      "_model_module_version": "1.2.0",
      "_model_name": "LayoutModel",
      "_view_count": null,
      "_view_module": "@jupyter-widgets/base",
      "_view_module_version": "1.2.0",
      "_view_name": "LayoutView",
      "align_content": null,
      "align_items": null,
      "align_self": null,
      "border": null,
      "bottom": null,
      "display": null,
      "flex": null,
      "flex_flow": null,
      "grid_area": null,
      "grid_auto_columns": null,
      "grid_auto_flow": null,
      "grid_auto_rows": null,
      "grid_column": null,
      "grid_gap": null,
      "grid_row": null,
      "grid_template_areas": null,
      "grid_template_columns": null,
      "grid_template_rows": null,
      "height": null,
      "justify_content": null,
      "justify_items": null,
      "left": null,
      "margin": null,
      "max_height": null,
      "max_width": null,
      "min_height": null,
      "min_width": null,
      "object_fit": null,
      "object_position": null,
      "order": null,
      "overflow": null,
      "overflow_x": null,
      "overflow_y": null,
      "padding": null,
      "right": null,
      "top": null,
      "visibility": null,
      "width": null
     }
    },
    "d8a11bd9066145339abc00491ddf5f02": {
     "model_module": "@jupyter-widgets/controls",
     "model_module_version": "1.5.0",
     "model_name": "FloatProgressModel",
     "state": {
      "_dom_classes": [],
      "_model_module": "@jupyter-widgets/controls",
      "_model_module_version": "1.5.0",
      "_model_name": "FloatProgressModel",
      "_view_count": null,
      "_view_module": "@jupyter-widgets/controls",
      "_view_module_version": "1.5.0",
      "_view_name": "ProgressView",
      "bar_style": "",
      "description": "",
      "description_tooltip": null,
      "layout": "IPY_MODEL_17a25dfbc5304849928043f937542891",
      "max": 25,
      "min": 0,
      "orientation": "horizontal",
      "style": "IPY_MODEL_34817fa9d4094fc482c5394e9dd166e3",
      "value": 25
     }
    },
    "df4b27f8635c44468407f48616ebf7e3": {
     "model_module": "@jupyter-widgets/base",
     "model_module_version": "1.2.0",
     "model_name": "LayoutModel",
     "state": {
      "_model_module": "@jupyter-widgets/base",
      "_model_module_version": "1.2.0",
      "_model_name": "LayoutModel",
      "_view_count": null,
      "_view_module": "@jupyter-widgets/base",
      "_view_module_version": "1.2.0",
      "_view_name": "LayoutView",
      "align_content": null,
      "align_items": null,
      "align_self": null,
      "border": null,
      "bottom": null,
      "display": null,
      "flex": null,
      "flex_flow": null,
      "grid_area": null,
      "grid_auto_columns": null,
      "grid_auto_flow": null,
      "grid_auto_rows": null,
      "grid_column": null,
      "grid_gap": null,
      "grid_row": null,
      "grid_template_areas": null,
      "grid_template_columns": null,
      "grid_template_rows": null,
      "height": null,
      "justify_content": null,
      "justify_items": null,
      "left": null,
      "margin": null,
      "max_height": null,
      "max_width": null,
      "min_height": null,
      "min_width": null,
      "object_fit": null,
      "object_position": null,
      "order": null,
      "overflow": null,
      "overflow_x": null,
      "overflow_y": null,
      "padding": null,
      "right": null,
      "top": null,
      "visibility": null,
      "width": null
     }
    },
    "e1d97ffc33394585b5119b7fe89e013f": {
     "model_module": "@jupyter-widgets/controls",
     "model_module_version": "1.5.0",
     "model_name": "DescriptionStyleModel",
     "state": {
      "_model_module": "@jupyter-widgets/controls",
      "_model_module_version": "1.5.0",
      "_model_name": "DescriptionStyleModel",
      "_view_count": null,
      "_view_module": "@jupyter-widgets/base",
      "_view_module_version": "1.2.0",
      "_view_name": "StyleView",
      "description_width": ""
     }
    },
    "e8208311ee474331b02f15bcc90f0c95": {
     "model_module": "@jupyter-widgets/controls",
     "model_module_version": "1.5.0",
     "model_name": "HTMLModel",
     "state": {
      "_dom_classes": [],
      "_model_module": "@jupyter-widgets/controls",
      "_model_module_version": "1.5.0",
      "_model_name": "HTMLModel",
      "_view_count": null,
      "_view_module": "@jupyter-widgets/controls",
      "_view_module_version": "1.5.0",
      "_view_name": "HTMLView",
      "description": "",
      "description_tooltip": null,
      "layout": "IPY_MODEL_5646c4ee50ab4d2e95852cf29164bf92",
      "placeholder": "​",
      "style": "IPY_MODEL_b7e31e870c754c29902752389de49ec1",
      "value": " 25/25 [00:03&lt;00:00,  6.22it/s]"
     }
    },
    "ec86e118988448c99e97785a2f8a675d": {
     "model_module": "@jupyter-widgets/controls",
     "model_module_version": "1.5.0",
     "model_name": "DescriptionStyleModel",
     "state": {
      "_model_module": "@jupyter-widgets/controls",
      "_model_module_version": "1.5.0",
      "_model_name": "DescriptionStyleModel",
      "_view_count": null,
      "_view_module": "@jupyter-widgets/base",
      "_view_module_version": "1.2.0",
      "_view_name": "StyleView",
      "description_width": ""
     }
    },
    "f21fd4150ad749738bd242186235c311": {
     "model_module": "@jupyter-widgets/controls",
     "model_module_version": "1.5.0",
     "model_name": "FloatProgressModel",
     "state": {
      "_dom_classes": [],
      "_model_module": "@jupyter-widgets/controls",
      "_model_module_version": "1.5.0",
      "_model_name": "FloatProgressModel",
      "_view_count": null,
      "_view_module": "@jupyter-widgets/controls",
      "_view_module_version": "1.5.0",
      "_view_name": "ProgressView",
      "bar_style": "",
      "description": "",
      "description_tooltip": null,
      "layout": "IPY_MODEL_d35e74085d554fda85c4ec486d9a8d72",
      "max": 25,
      "min": 0,
      "orientation": "horizontal",
      "style": "IPY_MODEL_ad154756b47a4403a79ab13900096f44",
      "value": 25
     }
    },
    "fa43cbec1f434b519b415de19d25fb8a": {
     "model_module": "@jupyter-widgets/controls",
     "model_module_version": "1.5.0",
     "model_name": "DescriptionStyleModel",
     "state": {
      "_model_module": "@jupyter-widgets/controls",
      "_model_module_version": "1.5.0",
      "_model_name": "DescriptionStyleModel",
      "_view_count": null,
      "_view_module": "@jupyter-widgets/base",
      "_view_module_version": "1.2.0",
      "_view_name": "StyleView",
      "description_width": ""
     }
    },
    "ffda0162e55b4624ac91ecfecfe41108": {
     "model_module": "@jupyter-widgets/base",
     "model_module_version": "1.2.0",
     "model_name": "LayoutModel",
     "state": {
      "_model_module": "@jupyter-widgets/base",
      "_model_module_version": "1.2.0",
      "_model_name": "LayoutModel",
      "_view_count": null,
      "_view_module": "@jupyter-widgets/base",
      "_view_module_version": "1.2.0",
      "_view_name": "LayoutView",
      "align_content": null,
      "align_items": null,
      "align_self": null,
      "border": null,
      "bottom": null,
      "display": null,
      "flex": null,
      "flex_flow": null,
      "grid_area": null,
      "grid_auto_columns": null,
      "grid_auto_flow": null,
      "grid_auto_rows": null,
      "grid_column": null,
      "grid_gap": null,
      "grid_row": null,
      "grid_template_areas": null,
      "grid_template_columns": null,
      "grid_template_rows": null,
      "height": null,
      "justify_content": null,
      "justify_items": null,
      "left": null,
      "margin": null,
      "max_height": null,
      "max_width": null,
      "min_height": null,
      "min_width": null,
      "object_fit": null,
      "object_position": null,
      "order": null,
      "overflow": null,
      "overflow_x": null,
      "overflow_y": null,
      "padding": null,
      "right": null,
      "top": null,
      "visibility": null,
      "width": null
     }
    }
   }
  }
 },
 "nbformat": 4,
 "nbformat_minor": 5
}
