{
 "cells": [
  {
   "cell_type": "code",
   "execution_count": 1,
   "id": "64e76fd7",
   "metadata": {
    "colab": {
     "base_uri": "https://localhost:8080/",
     "height": 383
    },
    "id": "64e76fd7",
    "outputId": "b928ccc9-3fb7-41ab-a7a6-ea9f7560fb60"
   },
   "outputs": [
    {
     "name": "stderr",
     "output_type": "stream",
     "text": [
      "2023-05-29 16:05:38.002025: W tensorflow/compiler/tf2tensorrt/utils/py_utils.cc:38] TF-TRT Warning: Could not find TensorRT\n"
     ]
    }
   ],
   "source": [
    "import numpy as np\n",
    "\n",
    "import torch\n",
    "from torch import nn\n",
    "from torch import optim\n",
    "\n",
    "import time\n",
    "import tqdm\n",
    "\n",
    "import tkinter\n",
    "import pickle\n",
    "\n",
    "from IPython.display import clear_output\n",
    "\n",
    "import sys\n",
    "sys.path.append('..')\n",
    "\n",
    "import pyro\n",
    "from pyro.infer import HMC, MCMC, NUTS\n",
    "from samplers_new import mala, i_sir, ex2_mcmc\n",
    "import ot\n",
    "import jax\n",
    "import gc\n",
    "\n",
    "from cifar10_experiments.models import Generator, Discriminator\n",
    "\n",
    "from sampling_utils.adaptive_mc import CISIR, Ex2MCMC, FlowMCMC\n",
    "from sampling_utils.adaptive_sir_loss import MixKLLoss\n",
    "from sampling_utils.distributions import (\n",
    "    Banana,\n",
    "    CauchyMixture,\n",
    "    Distribution,\n",
    "    Funnel,\n",
    "    HalfBanana,\n",
    "    IndependentNormal,\n",
    ")\n",
    "from sampling_utils.ebm_sampling import MALA\n",
    "from sampling_utils.flows import RNVP\n",
    "from sampling_utils.metrics import ESS, acl_spectrum\n",
    "from sampling_utils.total_variation import (\n",
    "    average_total_variation,\n",
    ")"
   ]
  },
  {
   "cell_type": "code",
   "execution_count": 2,
   "id": "i5-GbHgG5xm5",
   "metadata": {
    "colab": {
     "base_uri": "https://localhost:8080/"
    },
    "id": "i5-GbHgG5xm5",
    "outputId": "a04893c3-8f02-4373-e061-e3bda36f4b19"
   },
   "outputs": [],
   "source": [
    "#!pip install pyro-ppl easydict pot flax mlpaper\n",
    "#!pip3 install torch torchvision torchaudio --extra-index-url https://download.pytorch.org/whl/cu113"
   ]
  },
  {
   "cell_type": "code",
   "execution_count": 3,
   "id": "782aeab8",
   "metadata": {
    "id": "782aeab8"
   },
   "outputs": [],
   "source": [
    "import matplotlib\n",
    "import matplotlib.pyplot as plt\n",
    "%matplotlib inline"
   ]
  },
  {
   "cell_type": "code",
   "execution_count": 4,
   "id": "eefb8f1e",
   "metadata": {
    "id": "eefb8f1e"
   },
   "outputs": [],
   "source": [
    "def sample_nuts(target, proposal, device = 'cpu', num_samples=1000, burn_in=1000, batch_size=1, rand_seed = 42):\n",
    "    def true_target_energy(z):\n",
    "        return -target(z)\n",
    "\n",
    "    def energy(z):\n",
    "        z = z[\"points\"]\n",
    "        return true_target_energy(z).sum()\n",
    "    start_time = time.time()\n",
    "    # kernel = HMC(potential_fn=energy, step_size = 0.1, num_steps = K, full_mass = False)\n",
    "    kernel_true = NUTS(potential_fn=energy, full_mass=False)\n",
    "    #kernel_true = HMC(potential_fn=energy, full_mass=False)\n",
    "    pyro.set_rng_seed(rand_seed)\n",
    "    init_samples = proposal.sample((batch_size,)).to(device)\n",
    "    print(init_samples.shape) \n",
    "    #init_samples = torch.zeros_like(init_samples)\n",
    "    dim = init_samples.shape[-1]\n",
    "    init_params = {\"points\": init_samples}\n",
    "    mcmc_true = MCMC(\n",
    "        kernel=kernel_true,\n",
    "        num_samples=num_samples,\n",
    "        initial_params=init_params,\n",
    "        warmup_steps=burn_in,\n",
    "    )\n",
    "    mcmc_true.run()\n",
    "    q_true = mcmc_true.get_samples(group_by_chain=True)[\"points\"].cpu()\n",
    "    samples_true = np.array(q_true.view(-1, batch_size, dim))\n",
    "    end_time = time.time()\n",
    "    return end_time-start_time, samples_true"
   ]
  },
  {
   "cell_type": "code",
   "execution_count": 5,
   "id": "21ecc163",
   "metadata": {
    "id": "21ecc163"
   },
   "outputs": [],
   "source": [
    "def plot_learned_density(\n",
    "    flow,\n",
    "    proposal,\n",
    "    fig=None,\n",
    "    device=\"cpu\",\n",
    "    xlim=[-1, 1],\n",
    "    ylim=[-1, 1],\n",
    "    rest=0.0,\n",
    "):\n",
    "    if fig is None:\n",
    "        fig = plt.figure()\n",
    "    n_pts = 200\n",
    "    z = proposal.sample((n_pts**2,))\n",
    "    x = np.linspace(*xlim, n_pts)\n",
    "    y = np.linspace(*ylim, n_pts)\n",
    "    xx, yy = np.meshgrid(x, y)\n",
    "    zz = np.stack([xx, yy], -1)\n",
    "    z[:, :2] = torch.FloatTensor(zz).view(-1, 2).to(device)\n",
    "    z[:, 2:] = torch.FloatTensor([rest] * n_pts**2)[:, None]\n",
    "\n",
    "    inv, minus_log_jac = flow.inverse(z)\n",
    "    minus_log_jac = minus_log_jac.reshape(n_pts, n_pts)\n",
    "    inv = inv.reshape(n_pts, n_pts, -1)\n",
    "    vals = (proposal(inv) + minus_log_jac).exp().detach()\n",
    "\n",
    "    im = plt.contourf(xx, yy, vals.reshape(n_pts, n_pts), cmap=\"GnBu\")\n",
    "    fig.colorbar(im)\n",
    "    return fig\n",
    "\n",
    "def compute_metrics(\n",
    "    xs_true,\n",
    "    xs_pred,\n",
    "    name=None,\n",
    "    n_samples=1000,\n",
    "    scale=1.0,\n",
    "    trunc_chain_len=None,\n",
    "    ess_rar=1,\n",
    "):\n",
    "    metrics = dict()\n",
    "    key = jax.random.PRNGKey(0)\n",
    "    n_steps = 25\n",
    "    # n_samples = 100\n",
    "\n",
    "    ess = ESS(\n",
    "        acl_spectrum(\n",
    "            xs_pred[::ess_rar] - xs_pred[::ess_rar].mean(0)[None, ...],\n",
    "        ),\n",
    "    ).mean()\n",
    "    metrics[\"ess\"] = ess\n",
    "\n",
    "    xs_pred = xs_pred[-trunc_chain_len:]\n",
    "    print(xs_true.shape)\n",
    "    print(xs_pred.shape)\n",
    "\n",
    "    tracker = average_total_variation(\n",
    "        key,\n",
    "        xs_true,\n",
    "        xs_pred,\n",
    "        n_steps=n_steps,\n",
    "        n_samples=n_samples,\n",
    "    )\n",
    "\n",
    "    metrics[\"tv_mean\"] = tracker.mean()\n",
    "    metrics[\"tv_conf_sigma\"] = tracker.std_of_mean()\n",
    "\n",
    "    mean = tracker.mean()\n",
    "    std = tracker.std()\n",
    "\n",
    "    metrics[\"emd\"] = 0\n",
    "    #Cost_matr_isir = ot.dist(x1 = isir_res[j][i], x2=gt_samples[i], metric='sqeuclidean', p=2, w=None)\n",
    "    for b in range(xs_pred.shape[1]):\n",
    "        M = ot.dist(xs_true / scale, xs_pred[:, b,:] / scale)\n",
    "        emd = ot.lp.emd2([], [], M, numItermax = 1e6)\n",
    "        metrics[\"emd\"] += emd / xs_pred.shape[1]\n",
    "\n",
    "    if name is not None:\n",
    "        print(f\"===={name}====\")\n",
    "    print(\n",
    "        f\"TV distance. Mean: {mean:.3f}, Std: {std:.3f}. \\nESS: {ess:.3f} \\nEMD: {emd:.3f}\",\n",
    "    )\n",
    "\n",
    "    return metrics"
   ]
  },
  {
   "cell_type": "code",
   "execution_count": 6,
   "id": "e62fb19f",
   "metadata": {
    "id": "e62fb19f"
   },
   "outputs": [],
   "source": [
    "def plot_metrics(metrics, ndims, savepath=None, scale=1.0, colors=None):\n",
    "    axs_names = [\"Sliced TV\", \"ESS\", \"EMD ratio\"]  # (on scaled data)']\n",
    "    ncols = len(axs_names)\n",
    "\n",
    "    figs = []\n",
    "    axs = []\n",
    "    for _ in range(ncols):\n",
    "        fig, ax = plt.subplots(ncols=1, nrows=1, figsize=(6, 6))\n",
    "        figs.append(fig)\n",
    "        axs.append(ax)\n",
    "\n",
    "    mala_emd = metrics['MALA']['emd']\n",
    "    \n",
    "    for (name, res), color in zip(metrics.items(), colors):\n",
    "        for k, v in res.items():\n",
    "            res[k] = np.array(v)\n",
    "\n",
    "        arr = res[\"tv_mean\"]\n",
    "        axs[0].plot(ndims, arr, label=name, marker=\"o\", color=color)\n",
    "\n",
    "        axs[0].fill_between(\n",
    "            ndims,\n",
    "            res[\"tv_mean\"] - 1.96 * res[\"tv_conf_sigma\"],\n",
    "            res[\"tv_mean\"] + 1.96 * res[\"tv_conf_sigma\"],\n",
    "            alpha=0.2,\n",
    "        )\n",
    "\n",
    "        arr = res[\"ess\"]\n",
    "        axs[1].plot(ndims, arr, label=name, marker=\"o\", color=color)\n",
    "\n",
    "        if name != 'MALA':\n",
    "            arr = mala_emd / res[\"emd\"]\n",
    "            axs[2].plot(ndims, arr, label=name, marker=\"o\", color=color)\n",
    "        #axs[2].set_yscale(\"log\")\n",
    "\n",
    "    for ax, fig, name in zip(axs, figs, axs_names):\n",
    "        ax.grid()\n",
    "        ax.set_title(name.split(' ')[0])\n",
    "        ax.set_xlabel(\"dim\")\n",
    "        if name == \"EMD ratio\":\n",
    "            ax.legend()\n",
    "\n",
    "        fig.tight_layout()\n",
    "\n",
    "        if savepath is not None:\n",
    "            fig.savefig(Path(savepath, f\"{name}.pdf\"))"
   ]
  },
  {
   "cell_type": "code",
   "execution_count": 7,
   "id": "0451eea7",
   "metadata": {
    "id": "0451eea7"
   },
   "outputs": [],
   "source": [
    "n_steps = 1\n",
    "dist = \"Funnel\"\n",
    "dim = 30\n",
    "scale_proposal = 1.\n",
    "device='cpu'\n",
    "scale_isir = 3.\n",
    "dist_class = \"Funnel\"\n",
    "a = 2.0\n",
    "b = 0.5\n",
    "target = Funnel(\n",
    "                dim=dim,\n",
    "                device=device,\n",
    "                a = a,\n",
    "                b = b\n",
    "                #**dist_params.dict,\n",
    ")"
   ]
  },
  {
   "cell_type": "code",
   "execution_count": 8,
   "id": "2e8ad069",
   "metadata": {
    "id": "2e8ad069"
   },
   "outputs": [],
   "source": [
    "#device = \"cuda\"\n",
    "#method_metric_dict = defaultdict(lambda: defaultdict(list))"
   ]
  },
  {
   "cell_type": "code",
   "execution_count": 9,
   "id": "309bf3de",
   "metadata": {
    "id": "309bf3de"
   },
   "outputs": [],
   "source": [
    "loc_proposal = torch.zeros(dim).to(device)\n",
    "scale_proposal = scale_proposal * torch.ones(dim).to(device)\n",
    "scale_isir = scale_isir * torch.ones(dim).to(device)\n",
    "\n",
    "proposal = IndependentNormal(\n",
    "    dim=dim,\n",
    "    loc=loc_proposal,\n",
    "    scale=scale_proposal,\n",
    "    device=device,\n",
    ")\n",
    "\n",
    "proposal_ex2 = IndependentNormal(\n",
    "    dim=dim,\n",
    "    loc=loc_proposal,\n",
    "    scale=scale_isir,\n",
    "    device=device,\n",
    ")"
   ]
  },
  {
   "cell_type": "markdown",
   "id": "ccb93c3e",
   "metadata": {
    "id": "ccb93c3e"
   },
   "source": [
    "### Generate ground-truth samples"
   ]
  },
  {
   "cell_type": "code",
   "execution_count": 10,
   "id": "f6bf6e44",
   "metadata": {
    "id": "f6bf6e44"
   },
   "outputs": [],
   "source": [
    "N_samples = 1*10**3\n",
    "np.random.seed(43)\n",
    "True_samples = np.random.randn(N_samples,dim)\n",
    "True_samples[:,0] *= a \n",
    "for k in range(1,dim):\n",
    "    True_samples[:,k] *= np.exp(True_samples[:,0]/2) "
   ]
  },
  {
   "cell_type": "code",
   "execution_count": 11,
   "id": "4f23fb68",
   "metadata": {
    "colab": {
     "base_uri": "https://localhost:8080/",
     "height": 281
    },
    "id": "4f23fb68",
    "outputId": "7b652b6e-872b-4849-bc17-94fecb591200"
   },
   "outputs": [
    {
     "data": {
      "image/png": "[encoded data removed]",
      "text/plain": [
       "<Figure size 640x480 with 1 Axes>"
      ]
     },
     "metadata": {},
     "output_type": "display_data"
    }
   ],
   "source": [
    "fig,ax=plt.subplots(1,1)\n",
    "#cp = ax.contourf(X, Y, dens_vals)\n",
    "#fig.colorbar(cp) # Add a colorbar to a plot\n",
    "ax.scatter(True_samples[:,0],True_samples[:,1])\n",
    "ax.set_title('Ground truth samples')\n",
    "#ax.set_xlabel('x (cm)')\n",
    "ax.set_ylabel('y (cm)')\n",
    "plt.show()"
   ]
  },
  {
   "cell_type": "markdown",
   "id": "2d7c4763",
   "metadata": {
    "id": "2d7c4763"
   },
   "source": [
    "### Sample with NUTS"
   ]
  },
  {
   "cell_type": "code",
   "execution_count": 12,
   "id": "b663fb4b",
   "metadata": {
    "id": "b663fb4b"
   },
   "outputs": [],
   "source": [
    "#samples to compute ground-truth metrics\n",
    "Nuts_samples_ground_truth = 2000\n",
    "#Nuts_samples_comparison\n",
    "trunc_chain_len = 1000\n",
    "#nuts samples burn_in\n",
    "nuts_burn_in = 500\n",
    "#nuts batch size\n",
    "nuts_batch = 1"
   ]
  },
  {
   "cell_type": "markdown",
   "id": "1f5f78d4",
   "metadata": {
    "id": "1f5f78d4"
   },
   "source": [
    "### Generate ground-truth samples (with NUTS)"
   ]
  },
  {
   "cell_type": "code",
   "execution_count": 13,
   "id": "d789c9e9",
   "metadata": {
    "id": "d789c9e9"
   },
   "outputs": [],
   "source": [
    "#samples_true = sample_nuts(\n",
    "#                target,\n",
    "#                proposal,\n",
    "#                num_samples=Nuts_samples_ground_truth,#config.trunc_chain_len,\n",
    "#                batch_size=nuts_batch, #config.batch_size\n",
    "#)[:, 0, :]\n",
    "#print(samples_true.shape)"
   ]
  },
  {
   "cell_type": "code",
   "execution_count": 14,
   "id": "bc757f25",
   "metadata": {
    "colab": {
     "base_uri": "https://localhost:8080/"
    },
    "id": "bc757f25",
    "outputId": "86cb00ba-f30d-475a-ef78-67f9c68e3031"
   },
   "outputs": [
    {
     "name": "stdout",
     "output_type": "stream",
     "text": [
      "torch.Size([1, 30])\n"
     ]
    },
    {
     "name": "stderr",
     "output_type": "stream",
     "text": [
      "Sample: 100%|█| 1500/1500 [00:20, 71.48it/s, step size=1.80e-01, acc. prob=0.879"
     ]
    },
    {
     "name": "stdout",
     "output_type": "stream",
     "text": [
      "(1000, 1, 30)\n"
     ]
    },
    {
     "name": "stderr",
     "output_type": "stream",
     "text": [
      "\n"
     ]
    }
   ],
   "source": [
    "rand_seed = 45\n",
    "time_nuts, sample_nuts_ref = sample_nuts(\n",
    "                target,\n",
    "                proposal,\n",
    "                device,\n",
    "                num_samples=1000,\n",
    "                batch_size=nuts_batch,\n",
    "                burn_in=nuts_burn_in,\n",
    "                rand_seed = rand_seed\n",
    ")\n",
    "print(sample_nuts_ref.shape)"
   ]
  },
  {
   "cell_type": "code",
   "execution_count": 15,
   "id": "c25210ad",
   "metadata": {
    "colab": {
     "base_uri": "https://localhost:8080/",
     "height": 281
    },
    "id": "c25210ad",
    "outputId": "7a03e9f2-01d6-48f2-c453-2c5a99ac81bd"
   },
   "outputs": [
    {
     "data": {
      "image/png": "[encoded data removed]",
      "text/plain": [
       "<Figure size 640x480 with 1 Axes>"
      ]
     },
     "metadata": {},
     "output_type": "display_data"
    }
   ],
   "source": [
    "fig,ax=plt.subplots(1,1)\n",
    "ax.scatter(sample_nuts_ref[:,0,0],sample_nuts_ref[:,0,1])\n",
    "ax.set_title('NUTS samples')\n",
    "#ax.set_xlabel('x (cm)')\n",
    "ax.set_ylabel('y (cm)')\n",
    "plt.show()"
   ]
  },
  {
   "cell_type": "code",
   "execution_count": 16,
   "id": "6147e47f",
   "metadata": {
    "colab": {
     "base_uri": "https://localhost:8080/",
     "height": 124,
     "referenced_widgets": [
      "1ce1080c688a4d99b3b74213de62ff86",
      "8605fd14ffd64e1dbe051837d460ce1e",
      "4ecc02fdd870427e89170d0f5cce0e4f",
      "190f7afbb2b94a479b1bb81b06ac4dce",
      "562e3c94ef4a40e1a5544d3876cd2e5e",
      "8f8359f0b14a4de6aebbb430418165c5",
      "f39cede371a54a83ba53a5c477ec4f42",
      "ad76e1f16b6c4cb3b7fd68a0bd9748e1",
      "ad86f6bf15824a018b2193bbbe990001",
      "3733841a2779415c8c76ae3a4b4450a1",
      "c8f66e77cfcd4560b9fccf48f3eed9bc"
     ]
    },
    "id": "6147e47f",
    "outputId": "28a6523b-c58f-43ba-b5bd-944d920e154f"
   },
   "outputs": [
    {
     "name": "stderr",
     "output_type": "stream",
     "text": [
      "No GPU/TPU found, falling back to CPU. (Set TF_CPP_MIN_LOG_LEVEL=0 and rerun for more info.)\n"
     ]
    },
    {
     "name": "stdout",
     "output_type": "stream",
     "text": [
      "(1000, 30)\n",
      "(1000, 1, 30)\n"
     ]
    },
    {
     "data": {
      "application/vnd.jupyter.widget-view+json": {
       "model_id": "",
       "version_major": 2,
       "version_minor": 0
      },
      "text/plain": [
       "  0%|          | 0/25 [00:00<?, ?it/s]"
      ]
     },
     "metadata": {},
     "output_type": "display_data"
    },
    {
     "name": "stdout",
     "output_type": "stream",
     "text": [
      "====NUTS====\n",
      "TV distance. Mean: 0.106, Std: 0.024. \n",
      "ESS: 0.372 \n",
      "EMD: 264.833\n"
     ]
    }
   ],
   "source": [
    "metrics = compute_metrics(\n",
    "                    True_samples,\n",
    "                    sample_nuts_ref,\n",
    "                    name=\"NUTS\",\n",
    "                    trunc_chain_len=trunc_chain_len,\n",
    "                    ess_rar=1,\n",
    ")"
   ]
  },
  {
   "cell_type": "markdown",
   "id": "d4c58b7c",
   "metadata": {
    "id": "d4c58b7c"
   },
   "source": [
    "### Sample with Ex2MCMC"
   ]
  },
  {
   "cell_type": "code",
   "execution_count": 17,
   "id": "a6e1a1b7",
   "metadata": {
    "id": "a6e1a1b7"
   },
   "outputs": [],
   "source": [
    "params = {\n",
    "      \"N\": 2000,\n",
    "      \"grad_step\": 0.1,\n",
    "      \"adapt_stepsize\": True, #True\n",
    "      \"corr_coef\": 0.0,\n",
    "      \"bernoulli_prob_corr\": 0.0, #0.75\n",
    "      \"mala_steps\": 3\n",
    "}\n",
    "        \n",
    "n_steps_ex2 = 5000\n",
    "batch_size = 1"
   ]
  },
  {
   "cell_type": "code",
   "execution_count": 18,
   "id": "evLaDyzDLvqX",
   "metadata": {
    "colab": {
     "base_uri": "https://localhost:8080/"
    },
    "id": "evLaDyzDLvqX",
    "outputId": "ca7ebe2e-957a-418f-9060-3a01837b5ae1"
   },
   "outputs": [
    {
     "name": "stdout",
     "output_type": "stream",
     "text": [
      "tensor([-1.4189])\n"
     ]
    }
   ],
   "source": [
    "distr = torch.distributions.Normal(torch.zeros(1).to(device), torch.ones(1).to(device))\n",
    "logprob1 = distr.log_prob(torch.ones(1).to(device))\n",
    "print(logprob1)"
   ]
  },
  {
   "cell_type": "code",
   "execution_count": 19,
   "id": "Lhujwuu8Pxy-",
   "metadata": {
    "id": "Lhujwuu8Pxy-"
   },
   "outputs": [],
   "source": [
    "gc.collect()\n",
    "torch.cuda.empty_cache()"
   ]
  },
  {
   "cell_type": "code",
   "execution_count": 20,
   "id": "68680fc4",
   "metadata": {
    "colab": {
     "base_uri": "https://localhost:8080/"
    },
    "id": "68680fc4",
    "outputId": "d4f90692-b4e4-4d3b-d6a4-a951e19dcd34"
   },
   "outputs": [
    {
     "name": "stdout",
     "output_type": "stream",
     "text": [
      "tensor([[-0.0498, -1.4004,  6.2727,  1.8447, -1.6863, -1.2428, -3.9003, -0.3036,\n",
      "         -3.2998, -1.4060, -2.5201,  2.0605, -0.2033, -0.2658,  2.6353,  1.2985,\n",
      "         -2.1344,  3.1276, -2.2854, -1.4491, -2.3312, -1.3452, -2.9695,  2.3428,\n",
      "          3.9753, -3.4880, -6.3559,  1.6409, -3.5003, -3.0598]])\n"
     ]
    },
    {
     "name": "stderr",
     "output_type": "stream",
     "text": [
      "100%|██████████████████████████████████████| 5000/5000 [00:18<00:00, 265.99it/s]"
     ]
    },
    {
     "name": "stdout",
     "output_type": "stream",
     "text": [
      "tensor([0.4999])\n",
      "(5000, 30)\n"
     ]
    },
    {
     "name": "stderr",
     "output_type": "stream",
     "text": [
      "\n"
     ]
    }
   ],
   "source": [
    "mcmc = Ex2MCMC(**params, dim=dim)\n",
    "pyro.set_rng_seed(43)\n",
    "start = proposal_ex2.sample((batch_size,)).to(device)\n",
    "print(start)\n",
    "# s = time.time()\n",
    "out = mcmc(start, target, proposal_ex2, n_steps = n_steps_ex2)\n",
    "print(out[1])\n",
    "if isinstance(out, tuple):\n",
    "    sample = out[0]\n",
    "else:\n",
    "    sample = out\n",
    "sample = np.array(\n",
    "    [_.detach().numpy() for _ in sample],\n",
    ").reshape(-1, batch_size, dim)\n",
    "sample_ex2_final = sample[:,0,:]\n",
    "print(sample_ex2_final.shape)"
   ]
  },
  {
   "cell_type": "code",
   "execution_count": 21,
   "id": "0b327d4b",
   "metadata": {
    "colab": {
     "base_uri": "https://localhost:8080/",
     "height": 281
    },
    "id": "0b327d4b",
    "outputId": "015d6fa8-1039-43e5-d1a9-4950767eff88"
   },
   "outputs": [
    {
     "data": {
      "image/png": "[encoded data removed]",
      "text/plain": [
       "<Figure size 640x480 with 1 Axes>"
      ]
     },
     "metadata": {},
     "output_type": "display_data"
    }
   ],
   "source": [
    "fig,ax=plt.subplots(1,1)\n",
    "ax.scatter(sample_ex2_final[:,0],sample_ex2_final[:,1])\n",
    "ax.set_title('Ex2 samples')\n",
    "#ax.set_xlabel('x (cm)')\n",
    "ax.set_ylabel('y (cm)')\n",
    "plt.show()"
   ]
  },
  {
   "cell_type": "markdown",
   "id": "0023c116",
   "metadata": {
    "id": "0023c116"
   },
   "source": [
    "### Sample with Flex2MCMC (adaptive version)"
   ]
  },
  {
   "cell_type": "code",
   "execution_count": 22,
   "id": "33583bca",
   "metadata": {
    "id": "33583bca"
   },
   "outputs": [],
   "source": [
    "params_flex = {\n",
    "      \"N\": 200,\n",
    "      \"grad_step\": 0.2,\n",
    "      \"adapt_stepsize\": True,\n",
    "      \"corr_coef\": 0.0,\n",
    "      \"bernoulli_prob_corr\": 0.0,\n",
    "      \"mala_steps\": 0,\n",
    "    \"flow\": {\n",
    "      \"num_flows\": 4, # number of normalizing layers \n",
    "      \"lr\": 1e-3, # learning rate \n",
    "      \"batch_size\": 100,\n",
    "      \"n_steps\": 1000,\n",
    "    }\n",
    "}\n",
    "batch_size = 1\n",
    "torch.cuda.empty_cache()"
   ]
  },
  {
   "cell_type": "code",
   "execution_count": 23,
   "id": "6d5d2d67",
   "metadata": {
    "colab": {
     "base_uri": "https://localhost:8080/"
    },
    "id": "6d5d2d67",
    "outputId": "4dfcf0bb-748e-4573-a4c2-cca65e3b3564",
    "tags": []
   },
   "outputs": [
    {
     "name": "stderr",
     "output_type": "stream",
     "text": [
      "100%|███████████████████████████████████████| 1000/1000 [00:29<00:00, 34.32it/s]\n"
     ]
    }
   ],
   "source": [
    "pyro.set_rng_seed(42)\n",
    "mcmc = Ex2MCMC(**params_flex, dim=dim)\n",
    "verbose = mcmc.verbose\n",
    "mcmc.verbose = False\n",
    "flow = RNVP(params_flex[\"flow\"][\"num_flows\"], dim=dim, device = device)\n",
    "flow_mcmc = FlowMCMC(\n",
    "    target,\n",
    "    proposal,\n",
    "    device,\n",
    "    flow,\n",
    "    mcmc,\n",
    "    batch_size=params_flex[\"flow\"][\"batch_size\"],\n",
    "    lr=params_flex[\"flow\"][\"lr\"],\n",
    ")\n",
    "flow.train()\n",
    "out_samples, nll = flow_mcmc.train(\n",
    "    n_steps=params_flex[\"flow\"][\"n_steps\"],\n",
    ")\n",
    "assert not torch.isnan(\n",
    "    next(flow.parameters())[0, 0],\n",
    ").item()\n",
    "gc.collect()\n",
    "torch.cuda.empty_cache()\n",
    "flow.eval()\n",
    "mcmc.flow = flow\n",
    "mcmc.verbose = verbose"
   ]
  },
  {
   "cell_type": "code",
   "execution_count": 24,
   "id": "0952eff0",
   "metadata": {
    "colab": {
     "base_uri": "https://localhost:8080/"
    },
    "id": "0952eff0",
    "outputId": "2b880794-6ee7-4b4f-8fa5-65a8955836f5"
   },
   "outputs": [
    {
     "name": "stderr",
     "output_type": "stream",
     "text": [
      "100%|██████████████████████████████████████| 1000/1000 [00:03<00:00, 322.61it/s]\n",
      "100%|██████████████████████████████████████| 1000/1000 [00:06<00:00, 165.71it/s]"
     ]
    },
    {
     "name": "stdout",
     "output_type": "stream",
     "text": [
      "tensor([0.5000])\n",
      "(1000, 1, 30)\n"
     ]
    },
    {
     "name": "stderr",
     "output_type": "stream",
     "text": [
      "\n"
     ]
    }
   ],
   "source": [
    "#sample from a normalizing flow\n",
    "n_steps_flex2 = 1000\n",
    "batch_size = 1\n",
    "pyro.set_rng_seed(42)\n",
    "start = proposal.sample((batch_size,))\n",
    "mcmc.N = 200\n",
    "mcmc.mala_steps = 0\n",
    "mcmc.grad_step = 0.1\n",
    "# s = time.time()\n",
    "out = mcmc(start, target, proposal, n_steps = n_steps_flex2)\n",
    "if isinstance(out, tuple):\n",
    "    sample = out[0]\n",
    "else:\n",
    "    sample = out\n",
    "sample = np.array(\n",
    "    [_.detach().numpy() for _ in sample],\n",
    ").reshape(-1, batch_size, dim)\n",
    "sample_flex2_new = sample\n",
    "#resample with 0 mala steps\n",
    "torch.cuda.empty_cache()\n",
    "mcmc.mala_steps = 3\n",
    "out_new = mcmc(start, target, proposal, n_steps = n_steps_flex2)\n",
    "print(out_new[1])\n",
    "out_new = out_new[0]\n",
    "out_new = np.array(\n",
    "    [_.detach().numpy() for _ in out_new],\n",
    ").reshape(-1, batch_size, dim)\n",
    "sample_flex2_final = out_new\n",
    "print(sample_flex2_final.shape)"
   ]
  },
  {
   "cell_type": "code",
   "execution_count": 25,
   "id": "18619667",
   "metadata": {
    "colab": {
     "base_uri": "https://localhost:8080/",
     "height": 281
    },
    "id": "18619667",
    "outputId": "26cf77f1-7e53-4f6c-c13f-10d3c00364a3"
   },
   "outputs": [
    {
     "data": {
      "image/png": "[encoded data removed]",
      "text/plain": [
       "<Figure size 640x480 with 1 Axes>"
      ]
     },
     "metadata": {},
     "output_type": "display_data"
    }
   ],
   "source": [
    "fig,ax=plt.subplots(1,1)\n",
    "ax.scatter(sample_flex2_final[:,0,0],sample_flex2_final[:,0,1],alpha = 0.5)\n",
    "ax.set_title('Flex2 samples')\n",
    "#ax.set_xlabel('x (cm)')\n",
    "ax.set_ylabel('y (cm)')\n",
    "#ax.set_yscale('log')\n",
    "plt.show()"
   ]
  },
  {
   "cell_type": "code",
   "execution_count": 26,
   "id": "e4f33400",
   "metadata": {
    "colab": {
     "base_uri": "https://localhost:8080/",
     "height": 124,
     "referenced_widgets": [
      "482864453f6443a2ade10d43e54e4307",
      "39eb723490fa4a579f43c98ee0be6103",
      "d55f0d8ebce741a594cfd634894c57fe",
      "c694fe9d883949d39b4ddea13f81c0cf",
      "5286abafd77c493ab86275ae0288a773",
      "6e422439139b4ed3b063b97703f04ec7",
      "9664039d84644907a81f0eb71b50d321",
      "6fdc3d5d7db94780a2cfeffa1bdb0dda",
      "e530f320c4004443a02393c97d3133ad",
      "bb5742bbbe2b4a16ba934289013f480e",
      "9adf6c4e07b3444884e8b9e44c90599b"
     ]
    },
    "id": "e4f33400",
    "outputId": "13e0079e-1770-4be6-da3e-0fd99d32cead"
   },
   "outputs": [
    {
     "name": "stdout",
     "output_type": "stream",
     "text": [
      "(1000, 30)\n",
      "(1000, 1, 30)\n"
     ]
    },
    {
     "data": {
      "application/vnd.jupyter.widget-view+json": {
       "model_id": "",
       "version_major": 2,
       "version_minor": 0
      },
      "text/plain": [
       "  0%|          | 0/25 [00:00<?, ?it/s]"
      ]
     },
     "metadata": {},
     "output_type": "display_data"
    },
    {
     "name": "stdout",
     "output_type": "stream",
     "text": [
      "====Flex2====\n",
      "TV distance. Mean: 0.057, Std: 0.017. \n",
      "ESS: 0.438 \n",
      "EMD: 203.026\n"
     ]
    }
   ],
   "source": [
    "metrics = compute_metrics(\n",
    "                    True_samples,\n",
    "                    sample_flex2_final,\n",
    "                    name=\"Flex2\",\n",
    "                    trunc_chain_len=trunc_chain_len,\n",
    "                    ess_rar=1,\n",
    ")"
   ]
  },
  {
   "cell_type": "code",
   "execution_count": 27,
   "id": "0B7lsVJh5Xnl",
   "metadata": {
    "colab": {
     "base_uri": "https://localhost:8080/",
     "height": 142,
     "referenced_widgets": [
      "e07cdc5b251e412b8c5f7379426bd5d5",
      "ef563d44971b4b39b7c2ede3fce718bc",
      "59da96e3060444e2a69b91fb140f051c",
      "b554819dea774a48b84fcb5fd89fb984",
      "7208f2d1c36146f4b05eee298e80d932",
      "ce733334049d4a8b85c139f1553e2cd1",
      "c72281e815934a93904b83ae3788d817",
      "f910ea282d8b436b8ce0b544d3a0264a",
      "716d52d6df2b4860bdbce7f2392911bf",
      "46afcb48b5f84dfa95c985a5c212f1d1",
      "4b67eb1cfedf49b2aab57c53eb257af6"
     ]
    },
    "id": "0B7lsVJh5Xnl",
    "outputId": "13a75b96-c766-4457-f388-8542f29ea73b"
   },
   "outputs": [
    {
     "name": "stdout",
     "output_type": "stream",
     "text": [
      "(2000, 1, 200)\n",
      "(2000, 200)\n",
      "(1000, 1, 200)\n"
     ]
    },
    {
     "data": {
      "application/vnd.jupyter.widget-view+json": {
       "model_id": "",
       "version_major": 2,
       "version_minor": 0
      },
      "text/plain": [
       "  0%|          | 0/25 [00:00<?, ?it/s]"
      ]
     },
     "metadata": {},
     "output_type": "display_data"
    },
    {
     "name": "stdout",
     "output_type": "stream",
     "text": [
      "====Gaussian noise====\n",
      "TV distance. Mean: 0.035, Std: 0.009. \n",
      "ESS: 0.832 \n",
      "EMD: 311.477\n"
     ]
    }
   ],
   "source": [
    "dim = 200\n",
    "loc_proposal = torch.zeros(dim).to(device)\n",
    "scale_proposal = 1.0 * torch.ones(dim).to(device)\n",
    "#scale_isir = scale_isir * torch.ones(dim).to(device)\n",
    "\n",
    "proposal = IndependentNormal(\n",
    "        dim=dim,\n",
    "        loc=loc_proposal,\n",
    "        scale=scale_proposal,\n",
    "        device=device,\n",
    ")\n",
    "\n",
    "n_samples = 2000\n",
    "pyro.set_rng_seed(42)\n",
    "sample_2 = proposal.sample((n_samples,))\n",
    "sample_2 = sample_2.unsqueeze(1).cpu().numpy()\n",
    "print(sample_2.shape)\n",
    "sample_1 = proposal.sample((n_samples,)).cpu().numpy()\n",
    "metrics = compute_metrics(\n",
    "                    sample_1,\n",
    "                    sample_2,\n",
    "                    name=\"Gaussian noise\",\n",
    "                    trunc_chain_len=trunc_chain_len,\n",
    "                    ess_rar=1,\n",
    ")"
   ]
  },
  {
   "cell_type": "code",
   "execution_count": 28,
   "id": "341648eb",
   "metadata": {
    "colab": {
     "base_uri": "https://localhost:8080/"
    },
    "id": "341648eb",
    "outputId": "885286c2-3f74-40b5-cca0-9f5e9fd91493"
   },
   "outputs": [
    {
     "name": "stdout",
     "output_type": "stream",
     "text": [
      "153\n",
      "5\n",
      "162\n"
     ]
    }
   ],
   "source": [
    "print(np.sum(True_samples[:,0] < -2))\n",
    "print(np.sum(sample_nuts_ref[:,0,0] < -2))\n",
    "print(np.sum(sample_flex2_final[:,0,0] < -2))"
   ]
  },
  {
   "cell_type": "code",
   "execution_count": 29,
   "id": "b0b7c146",
   "metadata": {
    "colab": {
     "base_uri": "https://localhost:8080/",
     "height": 280
    },
    "id": "b0b7c146",
    "outputId": "24e95ab7-9f85-4a33-bf75-38c28455ed02"
   },
   "outputs": [
    {
     "data": {
      "image/png": "[encoded data removed]",
      "text/plain": [
       "<Figure size 1200x400 with 2 Axes>"
      ]
     },
     "metadata": {},
     "output_type": "display_data"
    }
   ],
   "source": [
    "fig,ax=plt.subplots(1,2,figsize=(12,4))\n",
    "ax[0].scatter(True_samples[:,0],True_samples[:,1],c='#ff7f0e', alpha = 0.7, label = \"True samples\")\n",
    "ax[0].scatter(sample_flex2_final[:,0,0],sample_flex2_final[:,0,1],c='#1f77b4', alpha = 0.7, label = \"Flex$^2$MCMC, 5 MALA steps\")\n",
    "#ax.scatter(sample_ex2_final[:,0],sample_ex2_final[:,1],c='#ff7f0e',label = \"Ex2 samples\")\n",
    "#ax[0].set_title('All samples')\n",
    "ax[0].set_xlabel('x_1')\n",
    "ax[0].set_ylabel('x_2')\n",
    "ax[0].legend(fontsize=14)\n",
    "#ax.set_yscale('log')\n",
    "#plt.legend()\n",
    "#plt.show()\n",
    "#ax.scatter(sample_flex2_final[:,0,0],sample_flex2_final[:,0,1],c='#1f77b4',label = \"Flex samples\")\n",
    "#ax.scatter(sample_ex2_final[:,0],sample_ex2_final[:,1],c='#ff7f0e',label = \"Ex2 samples\")\n",
    "ax[1].scatter(True_samples[:,0],True_samples[:,1],c='#ff7f0e', alpha = 0.7, label = \"True samples\")\n",
    "ax[1].scatter(sample_nuts_ref[:,0,0],sample_nuts_ref[:,0,1],c='#1f77b4', alpha = 0.7, label = \"NUTS samples\")\n",
    "#ax[1].set_title('All samples')\n",
    "ax[1].set_xlabel('x_1')\n",
    "ax[1].set_ylabel('x_2')\n",
    "#ax.set_yscale('log')\n",
    "plt.legend(fontsize=14)\n",
    "#plt.savefig(Path(\n",
    "#        \"./\",\n",
    "#        f\"flow_funnel_samples_dim_{dim}_var_2_N_{mcmc.N}_mala_{mcmc.mala_steps}.pdf\",\n",
    "#        ), format=\"pdf\", bbox_inches=\"tight\") \n",
    "plt.savefig(\"funnel_visualize_d_100.png\",format=\"png\", bbox_inches=\"tight\")\n",
    "plt.show()"
   ]
  },
  {
   "cell_type": "code",
   "execution_count": 30,
   "id": "50363064-4224-4767-a61a-0ede6ddfd0fd",
   "metadata": {},
   "outputs": [],
   "source": [
    "import tensors.sirt2 as sirt"
   ]
  },
  {
   "cell_type": "code",
   "execution_count": 33,
   "id": "bba9a92c-17d6-40ba-a0e3-9a29a9192a26",
   "metadata": {},
   "outputs": [],
   "source": [
    "n_steps = 1\n",
    "dist = \"Funnel\"\n",
    "d = 30\n",
    "a = 2.0\n",
    "b = 0.5\n",
    "num_centers = 50\n",
    "sigma = 0.2\n",
    "target = sirt.Funnel1(a, b) # normal_density_general(np.zeros(d), Sigma) #\n",
    "dots = [(-17., 17.)] * d\n",
    "dots[0] = (-6., 6.)\n",
    "steps = [100] *d"
   ]
  },
  {
   "cell_type": "code",
   "execution_count": 34,
   "id": "0801a863",
   "metadata": {
    "id": "0801a863"
   },
   "outputs": [
    {
     "name": "stdout",
     "output_type": "stream",
     "text": [
      "None\n"
     ]
    },
    {
     "name": "stderr",
     "output_type": "stream",
     "text": [
      "/home/hdilab/miniconda3/lib/python3.10/site-packages/tt/multifuncrs2.py:179: RuntimeWarning: invalid value encountered in double_scalars\n",
      "  dy = np.linalg.norm(newy - oldy) / np.linalg.norm(newy)\n"
     ]
    },
    {
     "name": "stdout",
     "output_type": "stream",
     "text": [
      "=multifuncrs= sweep 1{2}, max_dy: inf, erank: 5.83095\n",
      "=multifuncrs= sweep 2{1}, max_dy: 4.600e+00, erank: 8.78825\n",
      "=multifuncrs= sweep 2{2}, max_dy: 4.600e+00, erank: 11.128\n",
      "=multifuncrs= sweep 3{1}, max_dy: 1.955e+02, erank: 9.52365\n",
      "=multifuncrs= sweep 3{2}, max_dy: 1.955e+02, erank: 11.1056\n",
      "=multifuncrs= sweep 4{1}, max_dy: 1.588e+00, erank: 14.4291\n",
      "=multifuncrs= sweep 4{2}, max_dy: 1.588e+00, erank: 15.6918\n",
      "=multifuncrs= sweep 5{1}, max_dy: 2.840e-02, erank: 15.7956\n",
      "=multifuncrs= sweep 5{2}, max_dy: 5.799e-02, erank: 16.778\n",
      "=multifuncrs= sweep 6{1}, max_dy: 2.739e-02, erank: 17.7276\n",
      "=multifuncrs= sweep 6{2}, max_dy: 1.441e-01, erank: 20.4426\n",
      "=multifuncrs= sweep 7{1}, max_dy: 5.120e-02, erank: 21.8495\n",
      "=multifuncrs= sweep 7{2}, max_dy: 2.146e-01, erank: 24.6279\n",
      "=multifuncrs= sweep 8{1}, max_dy: 5.798e-02, erank: 26.1623\n",
      "=multifuncrs= sweep 8{2}, max_dy: 1.531e-01, erank: 29.9327\n",
      "=multifuncrs= sweep 9{1}, max_dy: 4.753e-02, erank: 32.5249\n",
      "=multifuncrs= sweep 9{2}, max_dy: 3.243e-01, erank: 36.0338\n",
      "=multifuncrs= sweep 10{1}, max_dy: 3.414e-01, erank: 38.9876\n",
      "=multifuncrs= sweep 10{2}, max_dy: 3.414e-01, erank: 42.1707\n",
      "=multifuncrs= sweep 11{1}, max_dy: 2.997e-01, erank: 44.8356\n"
     ]
    }
   ],
   "source": [
    "cross, grids = sirt.TT_cross_density(target, dots, steps, d, sirt.make_meshgrids_lin)\n",
    "lists = cross.to_list(cross)\n",
    "ans, pdfs = sirt.SIRT_sampling(cross.to_list(cross), np.random.uniform(size=(2000, d)),\n",
    "                            grids)"
   ]
  },
  {
   "cell_type": "code",
   "execution_count": 33,
   "id": "0c894f6a-4541-4277-a7b2-18427bd52075",
   "metadata": {},
   "outputs": [
    {
     "data": {
      "image/png": "[encoded data removed]",
      "text/plain": [
       "<Figure size 1200x400 with 2 Axes>"
      ]
     },
     "metadata": {},
     "output_type": "display_data"
    }
   ],
   "source": [
    "i, j = 0, 1\n",
    "fig,ax=plt.subplots(1,2,figsize=(12,4))\n",
    "ax[0].scatter(True_samples[:,i],True_samples[:,j],c='#ff7f0e', alpha = 0.7, label = \"True samples\")\n",
    "ax[0].scatter(ans[:,i],ans[:,j],c='#1f77b4', alpha = 0.7, label = \"TT\")\n",
    "#ax.scatter(sample_ex2_final[:,0],sample_ex2_final[:,1],c='#ff7f0e',label = \"Ex2 samples\")\n",
    "#ax[0].set_title('All samples')\n",
    "ax[0].set_xlabel(f'x_{i + 1}')\n",
    "ax[0].set_ylabel(f'x_{j + 1}')\n",
    "ax[0].legend(fontsize=14)\n",
    "#ax.set_yscale('log')\n",
    "#plt.legend()\n",
    "#plt.show()\n",
    "#ax.scatter(sample_flex2_final[:,0,0],sample_flex2_final[:,0,1],c='#1f77b4',label = \"Flex samples\")\n",
    "#ax.scatter(sample_ex2_final[:,0],sample_ex2_final[:,1],c='#ff7f0e',label = \"Ex2 samples\")\n",
    "ax[1].scatter(True_samples[:,i],True_samples[:,j],c='#ff7f0e', alpha = 0.7, label = \"True samples\")\n",
    "ax[1].scatter(sample_nuts_ref[:,0,i],sample_nuts_ref[:,0,j],c='#1f77b4', alpha = 0.7, label = \"NUTS samples\")\n",
    "#ax[1].set_title('All samples')\n",
    "ax[1].set_xlabel(f'x_{i+1}')\n",
    "ax[1].set_ylabel(f'x_{j+1}')\n",
    "#ax.set_yscale('log')\n",
    "plt.legend(fontsize=14)\n",
    "#plt.savefig(Path(\n",
    "#        \"./\",\n",
    "#        f\"flow_funnel_samples_dim_{dim}_var_2_N_{mcmc.N}_mala_{mcmc.mala_steps}.pdf\",\n",
    "#        ), format=\"pdf\", bbox_inches=\"tight\") \n",
    "plt.savefig(\"funnel_visualize_d_100.png\",format=\"png\", bbox_inches=\"tight\")\n",
    "plt.show()"
   ]
  },
  {
   "cell_type": "code",
   "execution_count": 34,
   "id": "43679588-a9a9-41a6-9a5e-f7e2531220cc",
   "metadata": {},
   "outputs": [
    {
     "data": {
      "text/plain": [
       "(1000, 1, 30)"
      ]
     },
     "execution_count": 34,
     "metadata": {},
     "output_type": "execute_result"
    }
   ],
   "source": [
    "sample_nuts_ref.shape"
   ]
  },
  {
   "cell_type": "code",
   "execution_count": 35,
   "id": "c5480ea6-675e-4d79-8d15-32e35cc9bb7f",
   "metadata": {},
   "outputs": [],
   "source": [
    "def log_grad_funnel(a, b):\n",
    "    def dens(z):\n",
    "        ans = np.empty_like(z)\n",
    "        d = z.shape[-1]\n",
    "        z0 = z[..., 0]\n",
    "        z1 = z[..., 1:]\n",
    "        ans[..., 0] = -z0/a**2 + b * np.exp(-2 * b * z0) * (z1**2).sum(-1) - (d-1) * b\n",
    "        ans[..., 1:] = -np.exp(-2*b*z0).reshape(-1, 1) * z1\n",
    "        return ans\n",
    "    \n",
    "    return dens\n",
    "\n",
    "\n",
    "def funnel(a, b):\n",
    "    def density(x):\n",
    "        x = x.reshape(1, -1)\n",
    "        d = x.shape[1]\n",
    "        part1 = x[:, 0]**2/(2 * a**2)\n",
    "        part2 = (x[:, 1:]**2).sum(axis=1)\n",
    "        part2 *= np.exp(-2 * b * x[:, 0])/2\n",
    "        part2 += (d-1) * b * x[:, 0]\n",
    "        ans = part1 + part2#  + d/10 * np.log(2 * np.pi) + d/10 * np.log(a)\n",
    "        ans = np.exp(-ans)\n",
    "        return ans\n",
    "\n",
    "    return density\n",
    "\n"
   ]
  },
  {
   "cell_type": "code",
   "execution_count": 36,
   "id": "e4d0508e-a8cc-49f2-8972-0506803d177e",
   "metadata": {},
   "outputs": [
    {
     "ename": "NameError",
     "evalue": "name 'log_funnel' is not defined",
     "output_type": "error",
     "traceback": [
      "\u001b[0;31m---------------------------------------------------------------------------\u001b[0m",
      "\u001b[0;31mNameError\u001b[0m                                 Traceback (most recent call last)",
      "Cell \u001b[0;32mIn[36], line 7\u001b[0m\n\u001b[1;32m      5\u001b[0m d\u001b[38;5;241m=\u001b[39m\u001b[38;5;241m6\u001b[39m\n\u001b[1;32m      6\u001b[0m z \u001b[38;5;241m=\u001b[39m np\u001b[38;5;241m.\u001b[39mrandom\u001b[38;5;241m.\u001b[39mrandn(d)\n\u001b[0;32m----> 7\u001b[0m ap_gr \u001b[38;5;241m=\u001b[39m approx_fprime(z, \u001b[43mlog_funnel\u001b[49m(a, b))\n\u001b[1;32m      8\u001b[0m gr \u001b[38;5;241m=\u001b[39m log_grad_funnel(a, b)(z\u001b[38;5;241m.\u001b[39mreshape(\u001b[38;5;241m1\u001b[39m, \u001b[38;5;241m-\u001b[39m\u001b[38;5;241m1\u001b[39m))\n",
      "\u001b[0;31mNameError\u001b[0m: name 'log_funnel' is not defined"
     ]
    }
   ],
   "source": [
    "from scipy.optimize import approx_fprime\n",
    "\n",
    "a = 2.0\n",
    "b = 0.5\n",
    "d=6\n",
    "z = np.random.randn(d)\n",
    "ap_gr = approx_fprime(z, log_funnel(a, b))\n",
    "gr = log_grad_funnel(a, b)(z.reshape(1, -1))"
   ]
  },
  {
   "cell_type": "code",
   "execution_count": 31,
   "id": "f850d667-7102-4ed0-8038-1f5a2a0d19fc",
   "metadata": {},
   "outputs": [
    {
     "ename": "NameError",
     "evalue": "name 'ap_gr' is not defined",
     "output_type": "error",
     "traceback": [
      "\u001b[0;31m---------------------------------------------------------------------------\u001b[0m",
      "\u001b[0;31mNameError\u001b[0m                                 Traceback (most recent call last)",
      "Cell \u001b[0;32mIn[31], line 1\u001b[0m\n\u001b[0;32m----> 1\u001b[0m \u001b[38;5;28mprint\u001b[39m(\u001b[43map_gr\u001b[49m)\n\u001b[1;32m      2\u001b[0m \u001b[38;5;28mprint\u001b[39m(gr)\n",
      "\u001b[0;31mNameError\u001b[0m: name 'ap_gr' is not defined"
     ]
    }
   ],
   "source": [
    "print(ap_gr)\n",
    "print(gr)"
   ]
  },
  {
   "cell_type": "code",
   "execution_count": 29,
   "id": "19f73f2e-2e08-47f0-a4e2-fe37fd1a807a",
   "metadata": {},
   "outputs": [
    {
     "name": "stdout",
     "output_type": "stream",
     "text": [
      "(1000, 30)\n",
      "(1000, 1, 30)\n"
     ]
    },
    {
     "data": {
      "application/vnd.jupyter.widget-view+json": {
       "model_id": "",
       "version_major": 2,
       "version_minor": 0
      },
      "text/plain": [
       "  0%|          | 0/25 [00:00<?, ?it/s]"
      ]
     },
     "metadata": {},
     "output_type": "display_data"
    },
    {
     "name": "stdout",
     "output_type": "stream",
     "text": [
      "====NUTS====\n",
      "TV distance. Mean: 0.106, Std: 0.024. \n",
      "ESS: 0.372 \n",
      "EMD: 264.833\n"
     ]
    }
   ],
   "source": [
    "metrics = compute_metrics(\n",
    "                    True_samples,\n",
    "                    sample_nuts_ref,\n",
    "                    name=\"NUTS\",\n",
    "                    trunc_chain_len=trunc_chain_len,\n",
    "                    ess_rar=1,\n",
    ")"
   ]
  },
  {
   "cell_type": "code",
   "execution_count": 30,
   "id": "5e2b6c6a-b11e-4898-80cf-39c23f6f8f14",
   "metadata": {},
   "outputs": [
    {
     "name": "stdout",
     "output_type": "stream",
     "text": [
      "(1000, 30)\n",
      "(1000, 1, 30)\n"
     ]
    },
    {
     "data": {
      "application/vnd.jupyter.widget-view+json": {
       "model_id": "",
       "version_major": 2,
       "version_minor": 0
      },
      "text/plain": [
       "  0%|          | 0/25 [00:00<?, ?it/s]"
      ]
     },
     "metadata": {},
     "output_type": "display_data"
    },
    {
     "name": "stdout",
     "output_type": "stream",
     "text": [
      "====TT====\n",
      "TV distance. Mean: 0.170, Std: 0.024. \n",
      "ESS: 0.819 \n",
      "EMD: 173.201\n"
     ]
    }
   ],
   "source": [
    "metrics = compute_metrics(\n",
    "                    True_samples,\n",
    "                    ans.reshape(2000, 1, -1),\n",
    "                    name=\"TT\",\n",
    "                    trunc_chain_len=trunc_chain_len,\n",
    "                    ess_rar=1,\n",
    ")"
   ]
  },
  {
   "cell_type": "code",
   "execution_count": 41,
   "id": "2f338b15-5af6-4405-882b-94c476cd157f",
   "metadata": {},
   "outputs": [],
   "source": [
    "from tensors.MALA import mala\n",
    "malas = [0] * 8\n",
    "a = 2.0\n",
    "b = 0.5\n",
    "k = 7\n",
    "x, accs = mala(ans, log_grad_funnel(a, b), funnel(a, b), 0.001, k=1)"
   ]
  },
  {
   "cell_type": "code",
   "execution_count": 42,
   "id": "9c4d96f5-ff77-4c41-ad96-8b6087ccacd5",
   "metadata": {},
   "outputs": [
    {
     "data": {
      "text/plain": [
       "[0.0]"
      ]
     },
     "execution_count": 42,
     "metadata": {},
     "output_type": "execute_result"
    }
   ],
   "source": [
    "accs"
   ]
  },
  {
   "cell_type": "code",
   "execution_count": 119,
   "id": "d1a7d314-f62b-4686-8771-15e348420685",
   "metadata": {},
   "outputs": [
    {
     "name": "stdout",
     "output_type": "stream",
     "text": [
      "(1000, 30)\n",
      "(1000, 1, 30)\n"
     ]
    },
    {
     "data": {
      "application/vnd.jupyter.widget-view+json": {
       "model_id": "",
       "version_major": 2,
       "version_minor": 0
      },
      "text/plain": [
       "  0%|          | 0/25 [00:00<?, ?it/s]"
      ]
     },
     "metadata": {},
     "output_type": "display_data"
    },
    {
     "name": "stdout",
     "output_type": "stream",
     "text": [
      "====TT====\n",
      "TV distance. Mean: 0.432, Std: 0.022. \n",
      "ESS: 0.799 \n",
      "EMD: 189.352\n"
     ]
    }
   ],
   "source": [
    "metrics = compute_metrics(\n",
    "                    True_samples,\n",
    "                    x.reshape(2000, 1, -1),\n",
    "                    name=\"TT\",\n",
    "                    trunc_chain_len=trunc_chain_len,\n",
    "                    ess_rar=1,\n",
    ")"
   ]
  },
  {
   "cell_type": "code",
   "execution_count": 46,
   "id": "1eb3696d-2202-4bad-af99-e1067045de90",
   "metadata": {
    "collapsed": true,
    "jupyter": {
     "outputs_hidden": true
    },
    "tags": []
   },
   "outputs": [
    {
     "data": {
      "application/vnd.jupyter.widget-view+json": {
       "model_id": "95199d0b3bc3409fa19af778925a90d9",
       "version_major": 2,
       "version_minor": 0
      },
      "text/plain": [
       "  0%|          | 0/8 [00:00<?, ?it/s]"
      ]
     },
     "metadata": {},
     "output_type": "display_data"
    },
    {
     "name": "stdout",
     "output_type": "stream",
     "text": [
      "None\n",
      "=multifuncrs= sweep 1{2}, max_dy: 7.079e+11, erank: 4.89898\n",
      "=multifuncrs= sweep 2{1}, max_dy: 1.647e+00, erank: 8.77496\n",
      "=multifuncrs= sweep 2{2}, max_dy: 1.647e+00, erank: 11.6276\n",
      "=multifuncrs= sweep 3{1}, max_dy: 1.627e-01, erank: 15.3688\n",
      "=multifuncrs= sweep 3{2}, max_dy: 1.627e-01, erank: 18.2373\n",
      "=multifuncrs= sweep 4{1}, max_dy: 6.476e-02, erank: 21.4709\n",
      "=multifuncrs= sweep 4{2}, max_dy: 6.476e-02, erank: 24.8435\n",
      "=multifuncrs= sweep 5{1}, max_dy: 2.020e-06, erank: 27.4117\n",
      "=multifuncrs= sweep 5{2}, max_dy: 2.020e-06, erank: 29.8731\n",
      "=multifuncrs= sweep 6{1}, max_dy: 2.492e-08, erank: 32.1652\n",
      "=multifuncrs= sweep 6{2}, max_dy: 2.492e-08, erank: 34.4964\n",
      "=multifuncrs= sweep 7{1}, max_dy: 7.902e-11, erank: 34.9056\n",
      "None\n",
      "=multifuncrs= sweep 1{2}, max_dy: inf, erank: 5.47723\n",
      "=multifuncrs= sweep 2{1}, max_dy: 1.724e+01, erank: 9.8387\n",
      "=multifuncrs= sweep 2{2}, max_dy: 1.724e+01, erank: 13.409\n",
      "=multifuncrs= sweep 3{1}, max_dy: 3.342e+00, erank: 15.6939\n",
      "=multifuncrs= sweep 3{2}, max_dy: 3.342e+00, erank: 18.5688\n",
      "=multifuncrs= sweep 4{1}, max_dy: 3.128e-02, erank: 21.4826\n",
      "=multifuncrs= sweep 4{2}, max_dy: 3.128e-02, erank: 23.5924\n",
      "=multifuncrs= sweep 5{1}, max_dy: 2.228e-02, erank: 25.1933\n",
      "=multifuncrs= sweep 5{2}, max_dy: 2.904e-02, erank: 28.592\n",
      "=multifuncrs= sweep 6{1}, max_dy: 2.035e-02, erank: 30.9338\n",
      "=multifuncrs= sweep 6{2}, max_dy: 2.035e-02, erank: 34.1614\n",
      "=multifuncrs= sweep 7{1}, max_dy: 8.652e-04, erank: 37.3229\n",
      "=multifuncrs= sweep 7{2}, max_dy: 8.652e-04, erank: 41.1825\n",
      "=multifuncrs= sweep 8{1}, max_dy: 1.065e-05, erank: 41.8521\n",
      "=multifuncrs= sweep 8{2}, max_dy: 1.065e-05, erank: 43.0442\n",
      "=multifuncrs= sweep 9{1}, max_dy: 3.888e-08, erank: 43.1532\n",
      "=multifuncrs= sweep 9{2}, max_dy: 3.888e-08, erank: 43.6658\n",
      "=multifuncrs= sweep 10{1}, max_dy: 2.383e-09, erank: 43.0012\n",
      "=multifuncrs= sweep 10{2}, max_dy: 1.124e-08, erank: 43.0012\n",
      "=multifuncrs= sweep 11{1}, max_dy: 7.797e-08, erank: 43.0627\n",
      "=multifuncrs= sweep 11{2}, max_dy: 7.797e-08, erank: 43.0627\n",
      "=multifuncrs= sweep 12{1}, max_dy: 1.483e-07, erank: 42.9558\n",
      "=multifuncrs= sweep 12{2}, max_dy: 1.483e-07, erank: 43.0627\n",
      "=multifuncrs= sweep 13{1}, max_dy: 1.568e-08, erank: 42.9604\n",
      "=multifuncrs= sweep 13{2}, max_dy: 1.046e-07, erank: 42.9604\n",
      "=multifuncrs= sweep 14{1}, max_dy: 2.784e-08, erank: 43.0744\n",
      "=multifuncrs= sweep 14{2}, max_dy: 2.784e-08, erank: 43.0744\n",
      "=multifuncrs= sweep 15{1}, max_dy: 1.024e-08, erank: 43.1706\n",
      "=multifuncrs= sweep 15{2}, max_dy: 1.024e-08, erank: 43.2793\n",
      "=multifuncrs= sweep 16{1}, max_dy: 2.850e-09, erank: 43.1706\n",
      "=multifuncrs= sweep 16{2}, max_dy: 2.850e-09, erank: 43.2227\n",
      "=multifuncrs= sweep 17{1}, max_dy: 1.825e-08, erank: 43.5683\n",
      "=multifuncrs= sweep 17{2}, max_dy: 1.949e-08, erank: 43.6658\n",
      "=multifuncrs= sweep 18{1}, max_dy: 1.871e-08, erank: 43.3728\n",
      "=multifuncrs= sweep 18{2}, max_dy: 1.940e-08, erank: 43.4707\n",
      "=multifuncrs= sweep 19{1}, max_dy: 4.010e-09, erank: 43.1764\n",
      "=multifuncrs= sweep 19{2}, max_dy: 6.741e-09, erank: 43.1764\n",
      "=multifuncrs= sweep 20{1}, max_dy: 6.984e-09, erank: 43.1254\n",
      "=multifuncrs= sweep 20{2}, max_dy: 6.984e-09, erank: 43.1254\n",
      "=multifuncrs= sweep 21{1}, max_dy: 6.587e-09, erank: 43.1254\n",
      "None\n",
      "=multifuncrs= sweep 1{2}, max_dy: 6.524e+02, erank: 5.65685\n",
      "=multifuncrs= sweep 2{1}, max_dy: 1.354e+01, erank: 9.15059\n",
      "=multifuncrs= sweep 2{2}, max_dy: 1.354e+01, erank: 11.4397\n",
      "=multifuncrs= sweep 3{1}, max_dy: 8.684e+00, erank: 14.6992\n",
      "=multifuncrs= sweep 3{2}, max_dy: 8.684e+00, erank: 17.125\n",
      "=multifuncrs= sweep 4{1}, max_dy: 9.663e-02, erank: 18.7617\n",
      "=multifuncrs= sweep 4{2}, max_dy: 9.663e-02, erank: 19.975\n",
      "=multifuncrs= sweep 5{1}, max_dy: 7.942e-02, erank: 22.3726\n",
      "=multifuncrs= sweep 5{2}, max_dy: 7.942e-02, erank: 25.2547\n",
      "=multifuncrs= sweep 6{1}, max_dy: 2.684e-02, erank: 27.4408\n",
      "=multifuncrs= sweep 6{2}, max_dy: 6.058e-02, erank: 31.0644\n",
      "=multifuncrs= sweep 7{1}, max_dy: 3.681e-02, erank: 33.6046\n",
      "=multifuncrs= sweep 7{2}, max_dy: 4.165e-02, erank: 37.4246\n",
      "=multifuncrs= sweep 8{1}, max_dy: 5.772e-02, erank: 39.0888\n",
      "=multifuncrs= sweep 8{2}, max_dy: 5.772e-02, erank: 42.1133\n",
      "=multifuncrs= sweep 9{1}, max_dy: 4.720e-03, erank: 43.5913\n",
      "=multifuncrs= sweep 9{2}, max_dy: 4.720e-03, erank: 45.0792\n",
      "=multifuncrs= sweep 10{1}, max_dy: 1.033e-04, erank: 45.785\n",
      "=multifuncrs= sweep 10{2}, max_dy: 1.033e-04, erank: 45.7508\n",
      "=multifuncrs= sweep 11{1}, max_dy: 8.920e-06, erank: 45.8214\n",
      "=multifuncrs= sweep 11{2}, max_dy: 8.920e-06, erank: 45.6786\n",
      "=multifuncrs= sweep 12{1}, max_dy: 4.077e-06, erank: 45.6158\n",
      "=multifuncrs= sweep 12{2}, max_dy: 5.689e-06, erank: 45.7493\n",
      "=multifuncrs= sweep 13{1}, max_dy: 8.066e-06, erank: 45.7391\n",
      "=multifuncrs= sweep 13{2}, max_dy: 8.066e-06, erank: 45.873\n",
      "=multifuncrs= sweep 14{1}, max_dy: 2.979e-06, erank: 45.6026\n",
      "=multifuncrs= sweep 14{2}, max_dy: 2.979e-06, erank: 45.6684\n",
      "=multifuncrs= sweep 15{1}, max_dy: 2.674e-06, erank: 45.8643\n",
      "=multifuncrs= sweep 15{2}, max_dy: 2.197e-05, erank: 45.8643\n",
      "=multifuncrs= sweep 16{1}, max_dy: 2.479e-05, erank: 45.8585\n",
      "=multifuncrs= sweep 16{2}, max_dy: 2.479e-05, erank: 45.8585\n",
      "=multifuncrs= sweep 17{1}, max_dy: 1.898e-05, erank: 45.6238\n",
      "=multifuncrs= sweep 17{2}, max_dy: 2.434e-05, erank: 45.6946\n",
      "=multifuncrs= sweep 18{1}, max_dy: 1.825e-06, erank: 45.9282\n",
      "=multifuncrs= sweep 18{2}, max_dy: 1.440e-05, erank: 45.9282\n",
      "=multifuncrs= sweep 19{1}, max_dy: 2.985e-06, erank: 46.2176\n",
      "=multifuncrs= sweep 19{2}, max_dy: 3.078e-06, erank: 46.1808\n",
      "=multifuncrs= sweep 20{1}, max_dy: 1.977e-06, erank: 45.5236\n",
      "=multifuncrs= sweep 20{2}, max_dy: 2.030e-05, erank: 45.5236\n",
      "=multifuncrs= sweep 21{1}, max_dy: 2.305e-05, erank: 45.7282\n",
      "None\n",
      "=multifuncrs= sweep 1{2}, max_dy: 6.545e+44, erank: 5.74456\n",
      "=multifuncrs= sweep 2{1}, max_dy: 3.272e+01, erank: 9.6902\n",
      "=multifuncrs= sweep 2{2}, max_dy: 3.272e+01, erank: 13.4406\n",
      "=multifuncrs= sweep 3{1}, max_dy: 1.997e+01, erank: 16.157\n",
      "=multifuncrs= sweep 3{2}, max_dy: 1.430e+04, erank: 18.8997\n",
      "=multifuncrs= sweep 4{1}, max_dy: 6.216e+00, erank: 20.101\n",
      "=multifuncrs= sweep 4{2}, max_dy: 6.216e+00, erank: 21.0832\n",
      "=multifuncrs= sweep 5{1}, max_dy: 5.851e-01, erank: 22.5555\n",
      "=multifuncrs= sweep 5{2}, max_dy: 5.851e-01, erank: 23.1538\n",
      "=multifuncrs= sweep 6{1}, max_dy: 4.248e-02, erank: 24.3197\n",
      "=multifuncrs= sweep 6{2}, max_dy: 7.348e-02, erank: 26.4055\n",
      "=multifuncrs= sweep 7{1}, max_dy: 2.186e-02, erank: 28.0125\n",
      "=multifuncrs= sweep 7{2}, max_dy: 8.068e-02, erank: 30.5598\n",
      "=multifuncrs= sweep 8{1}, max_dy: 6.678e-02, erank: 32.9112\n",
      "=multifuncrs= sweep 8{2}, max_dy: 1.148e-01, erank: 36.3882\n",
      "=multifuncrs= sweep 9{1}, max_dy: 1.717e-02, erank: 39.1587\n",
      "=multifuncrs= sweep 9{2}, max_dy: 4.494e-02, erank: 42.1201\n",
      "=multifuncrs= sweep 10{1}, max_dy: 2.670e-02, erank: 43.8184\n",
      "=multifuncrs= sweep 10{2}, max_dy: 2.670e-02, erank: 45.6645\n",
      "=multifuncrs= sweep 11{1}, max_dy: 1.677e-02, erank: 45.5873\n",
      "=multifuncrs= sweep 11{2}, max_dy: 1.677e-02, erank: 45.5708\n",
      "=multifuncrs= sweep 12{1}, max_dy: 7.510e-03, erank: 46.2526\n",
      "=multifuncrs= sweep 12{2}, max_dy: 1.110e-02, erank: 46.4613\n",
      "=multifuncrs= sweep 13{1}, max_dy: 7.265e-03, erank: 46.7809\n",
      "=multifuncrs= sweep 13{2}, max_dy: 7.265e-03, erank: 46.7809\n",
      "=multifuncrs= sweep 14{1}, max_dy: 4.526e-03, erank: 46.9212\n",
      "=multifuncrs= sweep 14{2}, max_dy: 9.028e-03, erank: 46.8252\n",
      "=multifuncrs= sweep 15{1}, max_dy: 1.136e-02, erank: 46.4123\n",
      "=multifuncrs= sweep 15{2}, max_dy: 1.136e-02, erank: 46.2066\n",
      "=multifuncrs= sweep 16{1}, max_dy: 1.048e-02, erank: 46.4214\n",
      "=multifuncrs= sweep 16{2}, max_dy: 1.048e-02, erank: 46.6187\n",
      "=multifuncrs= sweep 17{1}, max_dy: 2.463e-02, erank: 46.6621\n",
      "=multifuncrs= sweep 17{2}, max_dy: 2.463e-02, erank: 46.5355\n",
      "=multifuncrs= sweep 18{1}, max_dy: 5.085e-03, erank: 46.1839\n",
      "=multifuncrs= sweep 18{2}, max_dy: 9.958e-03, erank: 45.8438\n",
      "=multifuncrs= sweep 19{1}, max_dy: 1.601e-02, erank: 46.0918\n",
      "=multifuncrs= sweep 19{2}, max_dy: 1.601e-02, erank: 45.9815\n",
      "=multifuncrs= sweep 20{1}, max_dy: 3.234e-02, erank: 45.7728\n",
      "=multifuncrs= sweep 20{2}, max_dy: 3.234e-02, erank: 45.7706\n",
      "=multifuncrs= sweep 21{1}, max_dy: 4.443e-03, erank: 45.7143\n",
      "None\n",
      "=multifuncrs= sweep 1{2}, max_dy: 2.656e+44, erank: 5.79655\n",
      "=multifuncrs= sweep 2{1}, max_dy: 1.067e+02, erank: 9.93378\n",
      "=multifuncrs= sweep 2{2}, max_dy: 1.067e+02, erank: 12.9553\n",
      "=multifuncrs= sweep 3{1}, max_dy: 5.925e+01, erank: 10.1745\n",
      "=multifuncrs= sweep 3{2}, max_dy: 5.925e+01, erank: 11.6859\n",
      "=multifuncrs= sweep 4{1}, max_dy: 2.691e+00, erank: 12.7703\n",
      "=multifuncrs= sweep 4{2}, max_dy: 2.691e+00, erank: 13.891\n",
      "=multifuncrs= sweep 5{1}, max_dy: 6.956e-02, erank: 15.1816\n",
      "=multifuncrs= sweep 5{2}, max_dy: 1.308e-01, erank: 16.3267\n",
      "=multifuncrs= sweep 6{1}, max_dy: 6.522e-02, erank: 17.3563\n",
      "=multifuncrs= sweep 6{2}, max_dy: 1.457e-01, erank: 19.959\n",
      "=multifuncrs= sweep 7{1}, max_dy: 4.659e-02, erank: 21.7789\n",
      "=multifuncrs= sweep 7{2}, max_dy: 1.490e-01, erank: 25.024\n",
      "=multifuncrs= sweep 8{1}, max_dy: 5.344e-02, erank: 27.8094\n",
      "=multifuncrs= sweep 8{2}, max_dy: 8.944e-02, erank: 31.6183\n",
      "=multifuncrs= sweep 9{1}, max_dy: 4.576e-02, erank: 35.3038\n",
      "=multifuncrs= sweep 9{2}, max_dy: 4.626e-02, erank: 38.517\n",
      "=multifuncrs= sweep 10{1}, max_dy: 5.320e-02, erank: 40.6374\n",
      "=multifuncrs= sweep 10{2}, max_dy: 5.771e-02, erank: 42.7523\n",
      "=multifuncrs= sweep 11{1}, max_dy: 3.261e-02, erank: 44.5673\n",
      "=multifuncrs= sweep 11{2}, max_dy: 5.191e-02, erank: 45.7948\n",
      "=multifuncrs= sweep 12{1}, max_dy: 5.245e-02, erank: 46.4004\n",
      "=multifuncrs= sweep 12{2}, max_dy: 5.245e-02, erank: 46.337\n",
      "=multifuncrs= sweep 13{1}, max_dy: 3.519e-02, erank: 46.5025\n",
      "=multifuncrs= sweep 13{2}, max_dy: 7.704e-02, erank: 46.2653\n",
      "=multifuncrs= sweep 14{1}, max_dy: 7.716e-02, erank: 46.3094\n",
      "=multifuncrs= sweep 14{2}, max_dy: 7.716e-02, erank: 46.1974\n",
      "=multifuncrs= sweep 15{1}, max_dy: 2.318e-02, erank: 46.6021\n",
      "=multifuncrs= sweep 15{2}, max_dy: 2.580e-02, erank: 46.5459\n",
      "=multifuncrs= sweep 16{1}, max_dy: 3.738e-02, erank: 46.5016\n",
      "=multifuncrs= sweep 16{2}, max_dy: 3.738e-02, erank: 45.5961\n",
      "=multifuncrs= sweep 17{1}, max_dy: 1.810e-02, erank: 44.7799\n",
      "=multifuncrs= sweep 17{2}, max_dy: 1.810e-02, erank: 45.2955\n",
      "=multifuncrs= sweep 18{1}, max_dy: 2.485e-02, erank: 45.1548\n",
      "=multifuncrs= sweep 18{2}, max_dy: 2.485e-02, erank: 44.9987\n",
      "=multifuncrs= sweep 19{1}, max_dy: 4.818e-03, erank: 45.3846\n",
      "=multifuncrs= sweep 19{2}, max_dy: 4.818e-03, erank: 45.5851\n",
      "=multifuncrs= sweep 20{1}, max_dy: 1.156e-02, erank: 45.329\n",
      "=multifuncrs= sweep 20{2}, max_dy: 1.156e-02, erank: 44.7294\n",
      "=multifuncrs= sweep 21{1}, max_dy: 4.975e-03, erank: 45.1947\n",
      "None\n",
      "=multifuncrs= sweep 1{2}, max_dy: 3.591e+162, erank: 5.83095\n",
      "=multifuncrs= sweep 2{1}, max_dy: 2.362e+00, erank: 10.1882\n",
      "=multifuncrs= sweep 2{2}, max_dy: 2.362e+00, erank: 12.9692\n",
      "=multifuncrs= sweep 3{1}, max_dy: 1.702e+02, erank: 12.4231\n",
      "=multifuncrs= sweep 3{2}, max_dy: 1.702e+02, erank: 12.7958\n",
      "=multifuncrs= sweep 4{1}, max_dy: 8.009e-01, erank: 14.6401\n",
      "=multifuncrs= sweep 4{2}, max_dy: 8.009e-01, erank: 15.093\n",
      "=multifuncrs= sweep 5{1}, max_dy: 8.293e-02, erank: 15.1976\n",
      "=multifuncrs= sweep 5{2}, max_dy: 2.048e-01, erank: 16.6453\n",
      "=multifuncrs= sweep 6{1}, max_dy: 4.215e-02, erank: 17.7933\n",
      "=multifuncrs= sweep 6{2}, max_dy: 7.629e-02, erank: 19.909\n",
      "=multifuncrs= sweep 7{1}, max_dy: 7.721e-02, erank: 21.4639\n",
      "=multifuncrs= sweep 7{2}, max_dy: 1.565e-01, erank: 23.7072\n",
      "=multifuncrs= sweep 8{1}, max_dy: 6.051e-02, erank: 25.5167\n",
      "=multifuncrs= sweep 8{2}, max_dy: 9.287e-02, erank: 29.1296\n",
      "=multifuncrs= sweep 9{1}, max_dy: 4.878e-02, erank: 31.4001\n",
      "=multifuncrs= sweep 9{2}, max_dy: 1.396e-01, erank: 34.9461\n",
      "=multifuncrs= sweep 10{1}, max_dy: 2.864e-02, erank: 37.2017\n",
      "=multifuncrs= sweep 10{2}, max_dy: 4.659e-02, erank: 40.0957\n",
      "=multifuncrs= sweep 11{1}, max_dy: 4.993e-02, erank: 41.8481\n",
      "=multifuncrs= sweep 11{2}, max_dy: 4.993e-02, erank: 44.0038\n",
      "=multifuncrs= sweep 12{1}, max_dy: 4.596e-02, erank: 45.0903\n",
      "=multifuncrs= sweep 12{2}, max_dy: 4.184e-01, erank: 45.7777\n",
      "=multifuncrs= sweep 13{1}, max_dy: 4.341e-01, erank: 45.8861\n",
      "=multifuncrs= sweep 13{2}, max_dy: 4.341e-01, erank: 45.9975\n",
      "=multifuncrs= sweep 14{1}, max_dy: 3.448e-01, erank: 46.0659\n",
      "=multifuncrs= sweep 14{2}, max_dy: 3.448e-01, erank: 45.3567\n",
      "=multifuncrs= sweep 15{1}, max_dy: 5.119e-02, erank: 45.6392\n",
      "=multifuncrs= sweep 15{2}, max_dy: 2.137e-01, erank: 45.7304\n",
      "=multifuncrs= sweep 16{1}, max_dy: 2.166e-01, erank: 45.6505\n",
      "=multifuncrs= sweep 16{2}, max_dy: 2.166e-01, erank: 45.4195\n",
      "=multifuncrs= sweep 17{1}, max_dy: 2.257e-02, erank: 45.6607\n",
      "=multifuncrs= sweep 17{2}, max_dy: 3.802e-02, erank: 45.7384\n",
      "=multifuncrs= sweep 18{1}, max_dy: 3.805e-02, erank: 44.7791\n",
      "=multifuncrs= sweep 18{2}, max_dy: 3.805e-02, erank: 44.7735\n",
      "=multifuncrs= sweep 19{1}, max_dy: 2.808e-02, erank: 44.7448\n",
      "=multifuncrs= sweep 19{2}, max_dy: 2.808e-02, erank: 43.934\n",
      "=multifuncrs= sweep 20{1}, max_dy: 9.880e-03, erank: 44.3133\n",
      "=multifuncrs= sweep 20{2}, max_dy: 3.816e-02, erank: 44.1916\n",
      "=multifuncrs= sweep 21{1}, max_dy: 3.820e-02, erank: 44.0159\n",
      "None\n",
      "=multifuncrs= sweep 1{2}, max_dy: inf, erank: 5.8554\n",
      "=multifuncrs= sweep 2{1}, max_dy: 4.146e+00, erank: 8.07819\n",
      "=multifuncrs= sweep 2{2}, max_dy: 4.146e+00, erank: 10.8153\n",
      "=multifuncrs= sweep 3{1}, max_dy: 1.950e+01, erank: 8.71124\n",
      "=multifuncrs= sweep 3{2}, max_dy: 1.950e+01, erank: 9.97282\n",
      "=multifuncrs= sweep 4{1}, max_dy: 1.507e+00, erank: 11.4005\n",
      "=multifuncrs= sweep 4{2}, max_dy: 1.507e+00, erank: 12.2171\n",
      "=multifuncrs= sweep 5{1}, max_dy: 4.167e-02, erank: 13.1812\n",
      "=multifuncrs= sweep 5{2}, max_dy: 2.670e-01, erank: 14.6375\n",
      "=multifuncrs= sweep 6{1}, max_dy: 2.301e-02, erank: 15.515\n",
      "=multifuncrs= sweep 6{2}, max_dy: 3.135e-01, erank: 17.9897\n",
      "=multifuncrs= sweep 7{1}, max_dy: 3.548e-02, erank: 18.7868\n",
      "=multifuncrs= sweep 7{2}, max_dy: 2.641e-01, erank: 21.9056\n",
      "=multifuncrs= sweep 8{1}, max_dy: 6.430e-02, erank: 23.3116\n",
      "=multifuncrs= sweep 8{2}, max_dy: 6.430e-02, erank: 26.1938\n",
      "=multifuncrs= sweep 9{1}, max_dy: 4.839e-02, erank: 28.0296\n",
      "=multifuncrs= sweep 9{2}, max_dy: 4.839e-02, erank: 30.9123\n",
      "=multifuncrs= sweep 10{1}, max_dy: 3.599e-02, erank: 32.5537\n",
      "=multifuncrs= sweep 10{2}, max_dy: 1.127e-01, erank: 35.359\n",
      "=multifuncrs= sweep 11{1}, max_dy: 5.259e-02, erank: 36.8344\n",
      "=multifuncrs= sweep 11{2}, max_dy: 5.259e-02, erank: 39.1933\n",
      "=multifuncrs= sweep 12{1}, max_dy: 2.048e-02, erank: 40.3697\n",
      "=multifuncrs= sweep 12{2}, max_dy: 2.251e-02, erank: 42.049\n",
      "=multifuncrs= sweep 13{1}, max_dy: 2.257e-02, erank: 43.2022\n",
      "=multifuncrs= sweep 13{2}, max_dy: 2.257e-02, erank: 44.3306\n",
      "=multifuncrs= sweep 14{1}, max_dy: 2.177e-02, erank: 45.0314\n",
      "=multifuncrs= sweep 14{2}, max_dy: 4.049e-02, erank: 45.2413\n",
      "=multifuncrs= sweep 15{1}, max_dy: 4.056e-02, erank: 45.4237\n",
      "=multifuncrs= sweep 15{2}, max_dy: 4.056e-02, erank: 45.0282\n",
      "=multifuncrs= sweep 16{1}, max_dy: 3.385e-02, erank: 45.1796\n",
      "=multifuncrs= sweep 16{2}, max_dy: 3.385e-02, erank: 45.8603\n",
      "=multifuncrs= sweep 17{1}, max_dy: 7.889e-02, erank: 45.7577\n",
      "=multifuncrs= sweep 17{2}, max_dy: 7.889e-02, erank: 45.5876\n",
      "=multifuncrs= sweep 18{1}, max_dy: 2.192e-02, erank: 45.4152\n",
      "=multifuncrs= sweep 18{2}, max_dy: 2.192e-02, erank: 45.6534\n",
      "=multifuncrs= sweep 19{1}, max_dy: 1.986e-02, erank: 45.6396\n",
      "=multifuncrs= sweep 19{2}, max_dy: 2.407e-02, erank: 42.2117\n",
      "=multifuncrs= sweep 20{1}, max_dy: 5.294e-02, erank: 42.3927\n",
      "=multifuncrs= sweep 20{2}, max_dy: 5.294e-02, erank: 43.5011\n",
      "=multifuncrs= sweep 21{1}, max_dy: 2.198e-02, erank: 44.3238\n",
      "None\n",
      "=multifuncrs= sweep 1{2}, max_dy: 2.411e+18, erank: 5.87367\n",
      "=multifuncrs= sweep 2{1}, max_dy: 1.472e+01, erank: 10.5202\n",
      "=multifuncrs= sweep 2{2}, max_dy: 1.472e+01, erank: 14.2688\n",
      "=multifuncrs= sweep 3{1}, max_dy: 6.259e+01, erank: 8.67179\n",
      "=multifuncrs= sweep 3{2}, max_dy: 6.259e+01, erank: 9.01665\n",
      "=multifuncrs= sweep 4{1}, max_dy: 4.339e-02, erank: 10.9909\n",
      "=multifuncrs= sweep 4{2}, max_dy: 1.955e-01, erank: 12.2311\n",
      "=multifuncrs= sweep 5{1}, max_dy: 3.258e-02, erank: 13.3912\n",
      "=multifuncrs= sweep 5{2}, max_dy: 7.483e-01, erank: 15.0458\n",
      "=multifuncrs= sweep 6{1}, max_dy: 1.837e-01, erank: 15.924\n",
      "=multifuncrs= sweep 6{2}, max_dy: 2.109e-01, erank: 18.2695\n",
      "=multifuncrs= sweep 7{1}, max_dy: 4.781e-02, erank: 19.4609\n",
      "=multifuncrs= sweep 7{2}, max_dy: 1.563e-01, erank: 22.4483\n",
      "=multifuncrs= sweep 8{1}, max_dy: 2.952e-02, erank: 23.7571\n",
      "=multifuncrs= sweep 8{2}, max_dy: 4.765e-02, erank: 27.3093\n",
      "=multifuncrs= sweep 9{1}, max_dy: 5.521e-02, erank: 29.95\n",
      "=multifuncrs= sweep 9{2}, max_dy: 9.613e-02, erank: 33.5097\n",
      "=multifuncrs= sweep 10{1}, max_dy: 4.934e-02, erank: 35.57\n",
      "=multifuncrs= sweep 10{2}, max_dy: 4.934e-02, erank: 38.9137\n",
      "=multifuncrs= sweep 11{1}, max_dy: 5.408e-02, erank: 41.2795\n",
      "=multifuncrs= sweep 11{2}, max_dy: 1.618e-01, erank: 43.6234\n",
      "=multifuncrs= sweep 12{1}, max_dy: 1.770e-01, erank: 44.3483\n",
      "=multifuncrs= sweep 12{2}, max_dy: 2.008e-01, erank: 45.7009\n",
      "=multifuncrs= sweep 13{1}, max_dy: 2.054e-01, erank: 44.3926\n",
      "=multifuncrs= sweep 13{2}, max_dy: 2.054e-01, erank: 44.7649\n",
      "=multifuncrs= sweep 14{1}, max_dy: 1.770e-02, erank: 44.0849\n",
      "=multifuncrs= sweep 14{2}, max_dy: 3.637e-02, erank: 42.4294\n",
      "=multifuncrs= sweep 15{1}, max_dy: 3.617e-02, erank: 42.7554\n",
      "=multifuncrs= sweep 15{2}, max_dy: 3.932e-02, erank: 43.8734\n",
      "=multifuncrs= sweep 16{1}, max_dy: 7.155e-02, erank: 43.0442\n",
      "=multifuncrs= sweep 16{2}, max_dy: 7.155e-02, erank: 42.2525\n",
      "=multifuncrs= sweep 17{1}, max_dy: 2.494e-02, erank: 41.4394\n",
      "=multifuncrs= sweep 17{2}, max_dy: 4.082e-02, erank: 41.0904\n",
      "=multifuncrs= sweep 18{1}, max_dy: 4.098e-02, erank: 41.2608\n",
      "=multifuncrs= sweep 18{2}, max_dy: 4.098e-02, erank: 42.0009\n",
      "=multifuncrs= sweep 19{1}, max_dy: 1.219e-02, erank: 42.49\n",
      "=multifuncrs= sweep 19{2}, max_dy: 2.641e-02, erank: 42.2149\n",
      "=multifuncrs= sweep 20{1}, max_dy: 2.670e-02, erank: 42.2572\n",
      "=multifuncrs= sweep 20{2}, max_dy: 3.568e-02, erank: 43.1306\n",
      "=multifuncrs= sweep 21{1}, max_dy: 3.478e-02, erank: 43.4232\n"
     ]
    }
   ],
   "source": [
    "ds = np.arange(5, 45, 5)\n",
    "anses = []\n",
    "a = 2.0\n",
    "b = 0.5\n",
    "for d in tqdm.notebook.tqdm(ds):\n",
    "    target = sirt.Funnel1(a, b)\n",
    "    dots = [(-17., 17.)] * d\n",
    "    dots[0] = (-6., 6.)\n",
    "    steps = [100] *d\n",
    "    cross, grids = sirt.TT_cross_density(target, dots, steps, d, sirt.make_meshgrids_lin)\n",
    "    lists = cross.to_list(cross)\n",
    "    ans, pdfs = sirt.SIRT_sampling(cross.to_list(cross), np.random.uniform(size=(1000, d)),\n",
    "                            grids)\n",
    "    anses.append(ans)"
   ]
  },
  {
   "cell_type": "code",
   "execution_count": 49,
   "id": "fe07dc3c-efe1-49a4-8262-47bfb7bd714f",
   "metadata": {},
   "outputs": [
    {
     "data": {
      "application/vnd.jupyter.widget-view+json": {
       "model_id": "836aa782f8804cd7b7a830d7bd2f6787",
       "version_major": 2,
       "version_minor": 0
      },
      "text/plain": [
       "  0%|          | 0/8 [00:00<?, ?it/s]"
      ]
     },
     "metadata": {},
     "output_type": "display_data"
    },
    {
     "name": "stdout",
     "output_type": "stream",
     "text": [
      "torch.Size([1, 5])\n"
     ]
    },
    {
     "name": "stderr",
     "output_type": "stream",
     "text": [
      "Sample: 100%|█| 1500/1500 [00:09, 165.90it/s, step size=2.29e-01, acc. prob=0.83\n"
     ]
    },
    {
     "name": "stdout",
     "output_type": "stream",
     "text": [
      "torch.Size([1, 10])\n"
     ]
    },
    {
     "name": "stderr",
     "output_type": "stream",
     "text": [
      "Sample: 100%|█| 1500/1500 [00:22, 66.87it/s, step size=3.04e-01, acc. prob=0.867\n"
     ]
    },
    {
     "name": "stdout",
     "output_type": "stream",
     "text": [
      "torch.Size([1, 15])\n"
     ]
    },
    {
     "name": "stderr",
     "output_type": "stream",
     "text": [
      "Sample: 100%|█| 1500/1500 [00:21, 71.40it/s, step size=1.37e-01, acc. prob=0.860\n"
     ]
    },
    {
     "name": "stdout",
     "output_type": "stream",
     "text": [
      "torch.Size([1, 20])\n"
     ]
    },
    {
     "name": "stderr",
     "output_type": "stream",
     "text": [
      "Sample: 100%|█| 1500/1500 [00:15, 98.54it/s, step size=3.00e-01, acc. prob=0.716\n"
     ]
    },
    {
     "name": "stdout",
     "output_type": "stream",
     "text": [
      "torch.Size([1, 25])\n"
     ]
    },
    {
     "name": "stderr",
     "output_type": "stream",
     "text": [
      "Sample: 100%|█| 1500/1500 [01:05, 22.74it/s, step size=4.47e-02, acc. prob=0.992\n"
     ]
    },
    {
     "name": "stdout",
     "output_type": "stream",
     "text": [
      "torch.Size([1, 30])\n"
     ]
    },
    {
     "name": "stderr",
     "output_type": "stream",
     "text": [
      "Sample: 100%|█| 1500/1500 [00:22, 65.28it/s, step size=1.80e-01, acc. prob=0.879\n"
     ]
    },
    {
     "name": "stdout",
     "output_type": "stream",
     "text": [
      "torch.Size([1, 35])\n"
     ]
    },
    {
     "name": "stderr",
     "output_type": "stream",
     "text": [
      "Sample: 100%|█| 1500/1500 [00:17, 85.17it/s, step size=1.14e-01, acc. prob=0.853\n"
     ]
    },
    {
     "name": "stdout",
     "output_type": "stream",
     "text": [
      "torch.Size([1, 40])\n"
     ]
    },
    {
     "name": "stderr",
     "output_type": "stream",
     "text": [
      "Sample: 100%|█| 1500/1500 [00:20, 74.83it/s, step size=1.72e-01, acc. prob=0.817\n"
     ]
    }
   ],
   "source": [
    "nutses = []\n",
    "a = 2.0\n",
    "b = 0.5\n",
    "for dim in tqdm.notebook.tqdm(ds):\n",
    "    target = Funnel(\n",
    "                dim=dim,\n",
    "                device=device,\n",
    "                a = a,\n",
    "                b = b,\n",
    "                #b = b\n",
    "                #**dist_params.dict,\n",
    "    )\n",
    "\n",
    "    loc_proposal = torch.zeros(dim).to(device)\n",
    "    scale_proposal = 1.\n",
    "    scale_proposal = scale_proposal * torch.ones(dim).to(device)\n",
    "    \n",
    "    proposal = IndependentNormal(\n",
    "        dim=dim,\n",
    "        loc=loc_proposal,\n",
    "        scale=scale_proposal,\n",
    "        device=device,\n",
    "    )\n",
    "    time_nuts, sample_nuts_ref = sample_nuts(\n",
    "                target,\n",
    "                proposal,\n",
    "                device,\n",
    "                num_samples=trunc_chain_len,\n",
    "                batch_size=nuts_batch,\n",
    "                burn_in=nuts_burn_in,\n",
    "                rand_seed = rand_seed\n",
    "    )\n",
    "    nutses.append(sample_nuts_ref)"
   ]
  },
  {
   "cell_type": "code",
   "execution_count": 51,
   "id": "dd4f153f-054e-42ab-85f8-5ccb45c4c267",
   "metadata": {},
   "outputs": [
    {
     "data": {
      "application/vnd.jupyter.widget-view+json": {
       "model_id": "1ddd22c69c304df097fb8731ac9be5b9",
       "version_major": 2,
       "version_minor": 0
      },
      "text/plain": [
       "  0%|          | 0/8 [00:00<?, ?it/s]"
      ]
     },
     "metadata": {},
     "output_type": "display_data"
    }
   ],
   "source": [
    "trues = []\n",
    "\n",
    "for dim in tqdm.notebook.tqdm(ds):\n",
    "    N_samples = 1*10**3\n",
    "    np.random.seed(43)\n",
    "    True_samples = np.random.randn(N_samples,dim)\n",
    "    True_samples[:,0] *= a \n",
    "    for k in range(1,dim):\n",
    "        True_samples[:,k] *= np.exp(True_samples[:,0]/2) \n",
    "    trues.append(True_samples)\n"
   ]
  },
  {
   "cell_type": "code",
   "execution_count": 52,
   "id": "8649a093-5ef5-4afb-8f8d-db640eb51905",
   "metadata": {},
   "outputs": [
    {
     "name": "stdout",
     "output_type": "stream",
     "text": [
      "(1000, 5)\n",
      "(1000, 1, 5)\n"
     ]
    },
    {
     "data": {
      "application/vnd.jupyter.widget-view+json": {
       "model_id": "",
       "version_major": 2,
       "version_minor": 0
      },
      "text/plain": [
       "  0%|          | 0/25 [00:00<?, ?it/s]"
      ]
     },
     "metadata": {},
     "output_type": "display_data"
    },
    {
     "name": "stdout",
     "output_type": "stream",
     "text": [
      "====TT====\n",
      "TV distance. Mean: 0.067, Std: 0.019. \n",
      "ESS: 0.529 \n",
      "EMD: 12.903\n",
      "(1000, 5)\n",
      "(1000, 1, 5)\n"
     ]
    },
    {
     "data": {
      "application/vnd.jupyter.widget-view+json": {
       "model_id": "",
       "version_major": 2,
       "version_minor": 0
      },
      "text/plain": [
       "  0%|          | 0/25 [00:00<?, ?it/s]"
      ]
     },
     "metadata": {},
     "output_type": "display_data"
    },
    {
     "name": "stdout",
     "output_type": "stream",
     "text": [
      "====NUTS====\n",
      "TV distance. Mean: 0.066, Std: 0.018. \n",
      "ESS: 0.300 \n",
      "EMD: 15.169\n",
      "(1000, 10)\n",
      "(1000, 1, 10)\n"
     ]
    },
    {
     "data": {
      "application/vnd.jupyter.widget-view+json": {
       "model_id": "",
       "version_major": 2,
       "version_minor": 0
      },
      "text/plain": [
       "  0%|          | 0/25 [00:00<?, ?it/s]"
      ]
     },
     "metadata": {},
     "output_type": "display_data"
    },
    {
     "name": "stdout",
     "output_type": "stream",
     "text": [
      "====TT====\n",
      "TV distance. Mean: 0.068, Std: 0.018. \n",
      "ESS: 0.519 \n",
      "EMD: 48.267\n",
      "(1000, 10)\n",
      "(1000, 1, 10)\n"
     ]
    },
    {
     "data": {
      "application/vnd.jupyter.widget-view+json": {
       "model_id": "",
       "version_major": 2,
       "version_minor": 0
      },
      "text/plain": [
       "  0%|          | 0/25 [00:00<?, ?it/s]"
      ]
     },
     "metadata": {},
     "output_type": "display_data"
    },
    {
     "name": "stdout",
     "output_type": "stream",
     "text": [
      "====NUTS====\n",
      "TV distance. Mean: 0.077, Std: 0.013. \n",
      "ESS: 0.466 \n",
      "EMD: 65.733\n",
      "(1000, 15)\n",
      "(1000, 1, 15)\n"
     ]
    },
    {
     "data": {
      "application/vnd.jupyter.widget-view+json": {
       "model_id": "",
       "version_major": 2,
       "version_minor": 0
      },
      "text/plain": [
       "  0%|          | 0/25 [00:00<?, ?it/s]"
      ]
     },
     "metadata": {},
     "output_type": "display_data"
    },
    {
     "name": "stdout",
     "output_type": "stream",
     "text": [
      "====TT====\n",
      "TV distance. Mean: 0.083, Std: 0.023. \n",
      "ESS: 0.508 \n",
      "EMD: 102.479\n",
      "(1000, 15)\n",
      "(1000, 1, 15)\n"
     ]
    },
    {
     "data": {
      "application/vnd.jupyter.widget-view+json": {
       "model_id": "",
       "version_major": 2,
       "version_minor": 0
      },
      "text/plain": [
       "  0%|          | 0/25 [00:00<?, ?it/s]"
      ]
     },
     "metadata": {},
     "output_type": "display_data"
    },
    {
     "name": "stdout",
     "output_type": "stream",
     "text": [
      "====NUTS====\n",
      "TV distance. Mean: 0.062, Std: 0.014. \n",
      "ESS: 0.351 \n",
      "EMD: 142.413\n",
      "(1000, 20)\n",
      "(1000, 1, 20)\n"
     ]
    },
    {
     "data": {
      "application/vnd.jupyter.widget-view+json": {
       "model_id": "",
       "version_major": 2,
       "version_minor": 0
      },
      "text/plain": [
       "  0%|          | 0/25 [00:00<?, ?it/s]"
      ]
     },
     "metadata": {},
     "output_type": "display_data"
    },
    {
     "name": "stdout",
     "output_type": "stream",
     "text": [
      "====TT====\n",
      "TV distance. Mean: 0.086, Std: 0.015. \n",
      "ESS: 0.498 \n",
      "EMD: 133.005\n",
      "(1000, 20)\n",
      "(1000, 1, 20)\n"
     ]
    },
    {
     "data": {
      "application/vnd.jupyter.widget-view+json": {
       "model_id": "",
       "version_major": 2,
       "version_minor": 0
      },
      "text/plain": [
       "  0%|          | 0/25 [00:00<?, ?it/s]"
      ]
     },
     "metadata": {},
     "output_type": "display_data"
    },
    {
     "name": "stdout",
     "output_type": "stream",
     "text": [
      "====NUTS====\n",
      "TV distance. Mean: 0.089, Std: 0.026. \n",
      "ESS: 0.344 \n",
      "EMD: 170.239\n",
      "(1000, 25)\n",
      "(1000, 1, 25)\n"
     ]
    },
    {
     "data": {
      "application/vnd.jupyter.widget-view+json": {
       "model_id": "",
       "version_major": 2,
       "version_minor": 0
      },
      "text/plain": [
       "  0%|          | 0/25 [00:00<?, ?it/s]"
      ]
     },
     "metadata": {},
     "output_type": "display_data"
    },
    {
     "name": "stdout",
     "output_type": "stream",
     "text": [
      "====TT====\n",
      "TV distance. Mean: 0.133, Std: 0.019. \n",
      "ESS: 0.457 \n",
      "EMD: 140.298\n",
      "(1000, 25)\n",
      "(1000, 1, 25)\n"
     ]
    },
    {
     "data": {
      "application/vnd.jupyter.widget-view+json": {
       "model_id": "",
       "version_major": 2,
       "version_minor": 0
      },
      "text/plain": [
       "  0%|          | 0/25 [00:00<?, ?it/s]"
      ]
     },
     "metadata": {},
     "output_type": "display_data"
    },
    {
     "name": "stdout",
     "output_type": "stream",
     "text": [
      "====NUTS====\n",
      "TV distance. Mean: 0.047, Std: 0.011. \n",
      "ESS: 0.226 \n",
      "EMD: 239.499\n",
      "(1000, 30)\n",
      "(1000, 1, 30)\n"
     ]
    },
    {
     "data": {
      "application/vnd.jupyter.widget-view+json": {
       "model_id": "",
       "version_major": 2,
       "version_minor": 0
      },
      "text/plain": [
       "  0%|          | 0/25 [00:00<?, ?it/s]"
      ]
     },
     "metadata": {},
     "output_type": "display_data"
    },
    {
     "name": "stdout",
     "output_type": "stream",
     "text": [
      "====TT====\n",
      "TV distance. Mean: 0.213, Std: 0.021. \n",
      "ESS: 0.463 \n",
      "EMD: 174.159\n",
      "(1000, 30)\n",
      "(1000, 1, 30)\n"
     ]
    },
    {
     "data": {
      "application/vnd.jupyter.widget-view+json": {
       "model_id": "",
       "version_major": 2,
       "version_minor": 0
      },
      "text/plain": [
       "  0%|          | 0/25 [00:00<?, ?it/s]"
      ]
     },
     "metadata": {},
     "output_type": "display_data"
    },
    {
     "name": "stdout",
     "output_type": "stream",
     "text": [
      "====NUTS====\n",
      "TV distance. Mean: 0.106, Std: 0.024. \n",
      "ESS: 0.372 \n",
      "EMD: 264.833\n",
      "(1000, 35)\n",
      "(1000, 1, 35)\n"
     ]
    },
    {
     "data": {
      "application/vnd.jupyter.widget-view+json": {
       "model_id": "",
       "version_major": 2,
       "version_minor": 0
      },
      "text/plain": [
       "  0%|          | 0/25 [00:00<?, ?it/s]"
      ]
     },
     "metadata": {},
     "output_type": "display_data"
    },
    {
     "name": "stdout",
     "output_type": "stream",
     "text": [
      "====TT====\n",
      "TV distance. Mean: 0.253, Std: 0.021. \n",
      "ESS: 0.492 \n",
      "EMD: 179.827\n",
      "(1000, 35)\n",
      "(1000, 1, 35)\n"
     ]
    },
    {
     "data": {
      "application/vnd.jupyter.widget-view+json": {
       "model_id": "",
       "version_major": 2,
       "version_minor": 0
      },
      "text/plain": [
       "  0%|          | 0/25 [00:00<?, ?it/s]"
      ]
     },
     "metadata": {},
     "output_type": "display_data"
    },
    {
     "name": "stdout",
     "output_type": "stream",
     "text": [
      "====NUTS====\n",
      "TV distance. Mean: 0.097, Std: 0.026. \n",
      "ESS: 0.400 \n",
      "EMD: 229.760\n",
      "(1000, 40)\n",
      "(1000, 1, 40)\n"
     ]
    },
    {
     "data": {
      "application/vnd.jupyter.widget-view+json": {
       "model_id": "",
       "version_major": 2,
       "version_minor": 0
      },
      "text/plain": [
       "  0%|          | 0/25 [00:00<?, ?it/s]"
      ]
     },
     "metadata": {},
     "output_type": "display_data"
    },
    {
     "name": "stdout",
     "output_type": "stream",
     "text": [
      "====TT====\n",
      "TV distance. Mean: 0.339, Std: 0.025. \n",
      "ESS: 0.465 \n",
      "EMD: 314.041\n",
      "(1000, 40)\n",
      "(1000, 1, 40)\n"
     ]
    },
    {
     "data": {
      "application/vnd.jupyter.widget-view+json": {
       "model_id": "",
       "version_major": 2,
       "version_minor": 0
      },
      "text/plain": [
       "  0%|          | 0/25 [00:00<?, ?it/s]"
      ]
     },
     "metadata": {},
     "output_type": "display_data"
    },
    {
     "name": "stdout",
     "output_type": "stream",
     "text": [
      "====NUTS====\n",
      "TV distance. Mean: 0.133, Std: 0.023. \n",
      "ESS: 0.405 \n",
      "EMD: 325.451\n"
     ]
    }
   ],
   "source": [
    "nuts_tv, tt_tv = [], []\n",
    "for i in range(len(ds)):\n",
    "    metrics_tt = compute_metrics(\n",
    "                    trues[i],\n",
    "                    anses[i].reshape(1000, 1, ds[i]),\n",
    "                    name=\"TT\",\n",
    "                    trunc_chain_len=trunc_chain_len,\n",
    "                    ess_rar=1,\n",
    "    )\n",
    "    tt_tv.append(metrics_tt['tv_mean'].item())\n",
    "    metrics_nuts = compute_metrics(\n",
    "                    trues[i],\n",
    "                    nutses[i],\n",
    "                    name=\"NUTS\",\n",
    "                    trunc_chain_len=trunc_chain_len,\n",
    "                    ess_rar=1,\n",
    "    )\n",
    "    nuts_tv.append(metrics_nuts['tv_mean'].item())"
   ]
  },
  {
   "cell_type": "code",
   "execution_count": 53,
   "id": "51b1ff51-11ad-457f-b610-c95adcd84d5f",
   "metadata": {},
   "outputs": [
    {
     "data": {
      "image/png": "[encoded data removed]",
      "text/plain": [
       "<Figure size 640x480 with 1 Axes>"
      ]
     },
     "metadata": {},
     "output_type": "display_data"
    }
   ],
   "source": [
    "plt.plot(ds, nuts_tv, label='NUTS')\n",
    "plt.plot(ds, tt_tv, label='TT')\n",
    "plt.legend()\n",
    "plt.title(\"TV distance\")\n",
    "plt.xlabel(\"ds\")\n",
    "plt.ylabel(\"TV distance\")\n",
    "plt.show()"
   ]
  },
  {
   "cell_type": "code",
   "execution_count": null,
   "id": "73f337b9-8d78-4652-bb39-ce5f7ccf586a",
   "metadata": {},
   "outputs": [],
   "source": []
  }
 ],
 "metadata": {
  "accelerator": "GPU",
  "colab": {
   "collapsed_sections": [],
   "name": "Копия блокнота \"Копия блокнота \"Копия блокнота \"sample_funnel_distribution.ipynb\"\"\"",
   "provenance": []
  },
  "kernelspec": {
   "display_name": "Python 3 (ipykernel)",
   "language": "python",
   "name": "python3"
  },
  "language_info": {
   "codemirror_mode": {
    "name": "ipython",
    "version": 3
   },
   "file_extension": ".py",
   "mimetype": "text/x-python",
   "name": "python",
   "nbconvert_exporter": "python",
   "pygments_lexer": "ipython3",
   "version": "3.10.10"
  },
  "widgets": {
   "application/vnd.jupyter.widget-state+json": {
    "190f7afbb2b94a479b1bb81b06ac4dce": {
     "model_module": "@jupyter-widgets/controls",
     "model_module_version": "1.5.0",
     "model_name": "HTMLModel",
     "state": {
      "_dom_classes": [],
      "_model_module": "@jupyter-widgets/controls",
      "_model_module_version": "1.5.0",
      "_model_name": "HTMLModel",
      "_view_count": null,
      "_view_module": "@jupyter-widgets/controls",
      "_view_module_version": "1.5.0",
      "_view_name": "HTMLView",
      "description": "",
      "description_tooltip": null,
      "layout": "IPY_MODEL_3733841a2779415c8c76ae3a4b4450a1",
      "placeholder": "​",
      "style": "IPY_MODEL_c8f66e77cfcd4560b9fccf48f3eed9bc",
      "value": " 25/25 [00:02&lt;00:00,  9.69it/s]"
     }
    },
    "1ce1080c688a4d99b3b74213de62ff86": {
     "model_module": "@jupyter-widgets/controls",
     "model_module_version": "1.5.0",
     "model_name": "HBoxModel",
     "state": {
      "_dom_classes": [],
      "_model_module": "@jupyter-widgets/controls",
      "_model_module_version": "1.5.0",
      "_model_name": "HBoxModel",
      "_view_count": null,
      "_view_module": "@jupyter-widgets/controls",
      "_view_module_version": "1.5.0",
      "_view_name": "HBoxView",
      "box_style": "",
      "children": [
       "IPY_MODEL_8605fd14ffd64e1dbe051837d460ce1e",
       "IPY_MODEL_4ecc02fdd870427e89170d0f5cce0e4f",
       "IPY_MODEL_190f7afbb2b94a479b1bb81b06ac4dce"
      ],
      "layout": "IPY_MODEL_562e3c94ef4a40e1a5544d3876cd2e5e"
     }
    },
    "3733841a2779415c8c76ae3a4b4450a1": {
     "model_module": "@jupyter-widgets/base",
     "model_module_version": "1.2.0",
     "model_name": "LayoutModel",
     "state": {
      "_model_module": "@jupyter-widgets/base",
      "_model_module_version": "1.2.0",
      "_model_name": "LayoutModel",
      "_view_count": null,
      "_view_module": "@jupyter-widgets/base",
      "_view_module_version": "1.2.0",
      "_view_name": "LayoutView",
      "align_content": null,
      "align_items": null,
      "align_self": null,
      "border": null,
      "bottom": null,
      "display": null,
      "flex": null,
      "flex_flow": null,
      "grid_area": null,
      "grid_auto_columns": null,
      "grid_auto_flow": null,
      "grid_auto_rows": null,
      "grid_column": null,
      "grid_gap": null,
      "grid_row": null,
      "grid_template_areas": null,
      "grid_template_columns": null,
      "grid_template_rows": null,
      "height": null,
      "justify_content": null,
      "justify_items": null,
      "left": null,
      "margin": null,
      "max_height": null,
      "max_width": null,
      "min_height": null,
      "min_width": null,
      "object_fit": null,
      "object_position": null,
      "order": null,
      "overflow": null,
      "overflow_x": null,
      "overflow_y": null,
      "padding": null,
      "right": null,
      "top": null,
      "visibility": null,
      "width": null
     }
    },
    "39eb723490fa4a579f43c98ee0be6103": {
     "model_module": "@jupyter-widgets/controls",
     "model_module_version": "1.5.0",
     "model_name": "HTMLModel",
     "state": {
      "_dom_classes": [],
      "_model_module": "@jupyter-widgets/controls",
      "_model_module_version": "1.5.0",
      "_model_name": "HTMLModel",
      "_view_count": null,
      "_view_module": "@jupyter-widgets/controls",
      "_view_module_version": "1.5.0",
      "_view_name": "HTMLView",
      "description": "",
      "description_tooltip": null,
      "layout": "IPY_MODEL_6e422439139b4ed3b063b97703f04ec7",
      "placeholder": "​",
      "style": "IPY_MODEL_9664039d84644907a81f0eb71b50d321",
      "value": "100%"
     }
    },
    "46afcb48b5f84dfa95c985a5c212f1d1": {
     "model_module": "@jupyter-widgets/base",
     "model_module_version": "1.2.0",
     "model_name": "LayoutModel",
     "state": {
      "_model_module": "@jupyter-widgets/base",
      "_model_module_version": "1.2.0",
      "_model_name": "LayoutModel",
      "_view_count": null,
      "_view_module": "@jupyter-widgets/base",
      "_view_module_version": "1.2.0",
      "_view_name": "LayoutView",
      "align_content": null,
      "align_items": null,
      "align_self": null,
      "border": null,
      "bottom": null,
      "display": null,
      "flex": null,
      "flex_flow": null,
      "grid_area": null,
      "grid_auto_columns": null,
      "grid_auto_flow": null,
      "grid_auto_rows": null,
      "grid_column": null,
      "grid_gap": null,
      "grid_row": null,
      "grid_template_areas": null,
      "grid_template_columns": null,
      "grid_template_rows": null,
      "height": null,
      "justify_content": null,
      "justify_items": null,
      "left": null,
      "margin": null,
      "max_height": null,
      "max_width": null,
      "min_height": null,
      "min_width": null,
      "object_fit": null,
      "object_position": null,
      "order": null,
      "overflow": null,
      "overflow_x": null,
      "overflow_y": null,
      "padding": null,
      "right": null,
      "top": null,
      "visibility": null,
      "width": null
     }
    },
    "482864453f6443a2ade10d43e54e4307": {
     "model_module": "@jupyter-widgets/controls",
     "model_module_version": "1.5.0",
     "model_name": "HBoxModel",
     "state": {
      "_dom_classes": [],
      "_model_module": "@jupyter-widgets/controls",
      "_model_module_version": "1.5.0",
      "_model_name": "HBoxModel",
      "_view_count": null,
      "_view_module": "@jupyter-widgets/controls",
      "_view_module_version": "1.5.0",
      "_view_name": "HBoxView",
      "box_style": "",
      "children": [
       "IPY_MODEL_39eb723490fa4a579f43c98ee0be6103",
       "IPY_MODEL_d55f0d8ebce741a594cfd634894c57fe",
       "IPY_MODEL_c694fe9d883949d39b4ddea13f81c0cf"
      ],
      "layout": "IPY_MODEL_5286abafd77c493ab86275ae0288a773"
     }
    },
    "4b67eb1cfedf49b2aab57c53eb257af6": {
     "model_module": "@jupyter-widgets/controls",
     "model_module_version": "1.5.0",
     "model_name": "DescriptionStyleModel",
     "state": {
      "_model_module": "@jupyter-widgets/controls",
      "_model_module_version": "1.5.0",
      "_model_name": "DescriptionStyleModel",
      "_view_count": null,
      "_view_module": "@jupyter-widgets/base",
      "_view_module_version": "1.2.0",
      "_view_name": "StyleView",
      "description_width": ""
     }
    },
    "4ecc02fdd870427e89170d0f5cce0e4f": {
     "model_module": "@jupyter-widgets/controls",
     "model_module_version": "1.5.0",
     "model_name": "FloatProgressModel",
     "state": {
      "_dom_classes": [],
      "_model_module": "@jupyter-widgets/controls",
      "_model_module_version": "1.5.0",
      "_model_name": "FloatProgressModel",
      "_view_count": null,
      "_view_module": "@jupyter-widgets/controls",
      "_view_module_version": "1.5.0",
      "_view_name": "ProgressView",
      "bar_style": "",
      "description": "",
      "description_tooltip": null,
      "layout": "IPY_MODEL_ad76e1f16b6c4cb3b7fd68a0bd9748e1",
      "max": 25,
      "min": 0,
      "orientation": "horizontal",
      "style": "IPY_MODEL_ad86f6bf15824a018b2193bbbe990001",
      "value": 25
     }
    },
    "5286abafd77c493ab86275ae0288a773": {
     "model_module": "@jupyter-widgets/base",
     "model_module_version": "1.2.0",
     "model_name": "LayoutModel",
     "state": {
      "_model_module": "@jupyter-widgets/base",
      "_model_module_version": "1.2.0",
      "_model_name": "LayoutModel",
      "_view_count": null,
      "_view_module": "@jupyter-widgets/base",
      "_view_module_version": "1.2.0",
      "_view_name": "LayoutView",
      "align_content": null,
      "align_items": null,
      "align_self": null,
      "border": null,
      "bottom": null,
      "display": null,
      "flex": null,
      "flex_flow": null,
      "grid_area": null,
      "grid_auto_columns": null,
      "grid_auto_flow": null,
      "grid_auto_rows": null,
      "grid_column": null,
      "grid_gap": null,
      "grid_row": null,
      "grid_template_areas": null,
      "grid_template_columns": null,
      "grid_template_rows": null,
      "height": null,
      "justify_content": null,
      "justify_items": null,
      "left": null,
      "margin": null,
      "max_height": null,
      "max_width": null,
      "min_height": null,
      "min_width": null,
      "object_fit": null,
      "object_position": null,
      "order": null,
      "overflow": null,
      "overflow_x": null,
      "overflow_y": null,
      "padding": null,
      "right": null,
      "top": null,
      "visibility": null,
      "width": null
     }
    },
    "562e3c94ef4a40e1a5544d3876cd2e5e": {
     "model_module": "@jupyter-widgets/base",
     "model_module_version": "1.2.0",
     "model_name": "LayoutModel",
     "state": {
      "_model_module": "@jupyter-widgets/base",
      "_model_module_version": "1.2.0",
      "_model_name": "LayoutModel",
      "_view_count": null,
      "_view_module": "@jupyter-widgets/base",
      "_view_module_version": "1.2.0",
      "_view_name": "LayoutView",
      "align_content": null,
      "align_items": null,
      "align_self": null,
      "border": null,
      "bottom": null,
      "display": null,
      "flex": null,
      "flex_flow": null,
      "grid_area": null,
      "grid_auto_columns": null,
      "grid_auto_flow": null,
      "grid_auto_rows": null,
      "grid_column": null,
      "grid_gap": null,
      "grid_row": null,
      "grid_template_areas": null,
      "grid_template_columns": null,
      "grid_template_rows": null,
      "height": null,
      "justify_content": null,
      "justify_items": null,
      "left": null,
      "margin": null,
      "max_height": null,
      "max_width": null,
      "min_height": null,
      "min_width": null,
      "object_fit": null,
      "object_position": null,
      "order": null,
      "overflow": null,
      "overflow_x": null,
      "overflow_y": null,
      "padding": null,
      "right": null,
      "top": null,
      "visibility": null,
      "width": null
     }
    },
    "59da96e3060444e2a69b91fb140f051c": {
     "model_module": "@jupyter-widgets/controls",
     "model_module_version": "1.5.0",
     "model_name": "FloatProgressModel",
     "state": {
      "_dom_classes": [],
      "_model_module": "@jupyter-widgets/controls",
      "_model_module_version": "1.5.0",
      "_model_name": "FloatProgressModel",
      "_view_count": null,
      "_view_module": "@jupyter-widgets/controls",
      "_view_module_version": "1.5.0",
      "_view_name": "ProgressView",
      "bar_style": "",
      "description": "",
      "description_tooltip": null,
      "layout": "IPY_MODEL_f910ea282d8b436b8ce0b544d3a0264a",
      "max": 25,
      "min": 0,
      "orientation": "horizontal",
      "style": "IPY_MODEL_716d52d6df2b4860bdbce7f2392911bf",
      "value": 25
     }
    },
    "6e422439139b4ed3b063b97703f04ec7": {
     "model_module": "@jupyter-widgets/base",
     "model_module_version": "1.2.0",
     "model_name": "LayoutModel",
     "state": {
      "_model_module": "@jupyter-widgets/base",
      "_model_module_version": "1.2.0",
      "_model_name": "LayoutModel",
      "_view_count": null,
      "_view_module": "@jupyter-widgets/base",
      "_view_module_version": "1.2.0",
      "_view_name": "LayoutView",
      "align_content": null,
      "align_items": null,
      "align_self": null,
      "border": null,
      "bottom": null,
      "display": null,
      "flex": null,
      "flex_flow": null,
      "grid_area": null,
      "grid_auto_columns": null,
      "grid_auto_flow": null,
      "grid_auto_rows": null,
      "grid_column": null,
      "grid_gap": null,
      "grid_row": null,
      "grid_template_areas": null,
      "grid_template_columns": null,
      "grid_template_rows": null,
      "height": null,
      "justify_content": null,
      "justify_items": null,
      "left": null,
      "margin": null,
      "max_height": null,
      "max_width": null,
      "min_height": null,
      "min_width": null,
      "object_fit": null,
      "object_position": null,
      "order": null,
      "overflow": null,
      "overflow_x": null,
      "overflow_y": null,
      "padding": null,
      "right": null,
      "top": null,
      "visibility": null,
      "width": null
     }
    },
    "6fdc3d5d7db94780a2cfeffa1bdb0dda": {
     "model_module": "@jupyter-widgets/base",
     "model_module_version": "1.2.0",
     "model_name": "LayoutModel",
     "state": {
      "_model_module": "@jupyter-widgets/base",
      "_model_module_version": "1.2.0",
      "_model_name": "LayoutModel",
      "_view_count": null,
      "_view_module": "@jupyter-widgets/base",
      "_view_module_version": "1.2.0",
      "_view_name": "LayoutView",
      "align_content": null,
      "align_items": null,
      "align_self": null,
      "border": null,
      "bottom": null,
      "display": null,
      "flex": null,
      "flex_flow": null,
      "grid_area": null,
      "grid_auto_columns": null,
      "grid_auto_flow": null,
      "grid_auto_rows": null,
      "grid_column": null,
      "grid_gap": null,
      "grid_row": null,
      "grid_template_areas": null,
      "grid_template_columns": null,
      "grid_template_rows": null,
      "height": null,
      "justify_content": null,
      "justify_items": null,
      "left": null,
      "margin": null,
      "max_height": null,
      "max_width": null,
      "min_height": null,
      "min_width": null,
      "object_fit": null,
      "object_position": null,
      "order": null,
      "overflow": null,
      "overflow_x": null,
      "overflow_y": null,
      "padding": null,
      "right": null,
      "top": null,
      "visibility": null,
      "width": null
     }
    },
    "716d52d6df2b4860bdbce7f2392911bf": {
     "model_module": "@jupyter-widgets/controls",
     "model_module_version": "1.5.0",
     "model_name": "ProgressStyleModel",
     "state": {
      "_model_module": "@jupyter-widgets/controls",
      "_model_module_version": "1.5.0",
      "_model_name": "ProgressStyleModel",
      "_view_count": null,
      "_view_module": "@jupyter-widgets/base",
      "_view_module_version": "1.2.0",
      "_view_name": "StyleView",
      "bar_color": null,
      "description_width": ""
     }
    },
    "7208f2d1c36146f4b05eee298e80d932": {
     "model_module": "@jupyter-widgets/base",
     "model_module_version": "1.2.0",
     "model_name": "LayoutModel",
     "state": {
      "_model_module": "@jupyter-widgets/base",
      "_model_module_version": "1.2.0",
      "_model_name": "LayoutModel",
      "_view_count": null,
      "_view_module": "@jupyter-widgets/base",
      "_view_module_version": "1.2.0",
      "_view_name": "LayoutView",
      "align_content": null,
      "align_items": null,
      "align_self": null,
      "border": null,
      "bottom": null,
      "display": null,
      "flex": null,
      "flex_flow": null,
      "grid_area": null,
      "grid_auto_columns": null,
      "grid_auto_flow": null,
      "grid_auto_rows": null,
      "grid_column": null,
      "grid_gap": null,
      "grid_row": null,
      "grid_template_areas": null,
      "grid_template_columns": null,
      "grid_template_rows": null,
      "height": null,
      "justify_content": null,
      "justify_items": null,
      "left": null,
      "margin": null,
      "max_height": null,
      "max_width": null,
      "min_height": null,
      "min_width": null,
      "object_fit": null,
      "object_position": null,
      "order": null,
      "overflow": null,
      "overflow_x": null,
      "overflow_y": null,
      "padding": null,
      "right": null,
      "top": null,
      "visibility": null,
      "width": null
     }
    },
    "8605fd14ffd64e1dbe051837d460ce1e": {
     "model_module": "@jupyter-widgets/controls",
     "model_module_version": "1.5.0",
     "model_name": "HTMLModel",
     "state": {
      "_dom_classes": [],
      "_model_module": "@jupyter-widgets/controls",
      "_model_module_version": "1.5.0",
      "_model_name": "HTMLModel",
      "_view_count": null,
      "_view_module": "@jupyter-widgets/controls",
      "_view_module_version": "1.5.0",
      "_view_name": "HTMLView",
      "description": "",
      "description_tooltip": null,
      "layout": "IPY_MODEL_8f8359f0b14a4de6aebbb430418165c5",
      "placeholder": "​",
      "style": "IPY_MODEL_f39cede371a54a83ba53a5c477ec4f42",
      "value": "100%"
     }
    },
    "8f8359f0b14a4de6aebbb430418165c5": {
     "model_module": "@jupyter-widgets/base",
     "model_module_version": "1.2.0",
     "model_name": "LayoutModel",
     "state": {
      "_model_module": "@jupyter-widgets/base",
      "_model_module_version": "1.2.0",
      "_model_name": "LayoutModel",
      "_view_count": null,
      "_view_module": "@jupyter-widgets/base",
      "_view_module_version": "1.2.0",
      "_view_name": "LayoutView",
      "align_content": null,
      "align_items": null,
      "align_self": null,
      "border": null,
      "bottom": null,
      "display": null,
      "flex": null,
      "flex_flow": null,
      "grid_area": null,
      "grid_auto_columns": null,
      "grid_auto_flow": null,
      "grid_auto_rows": null,
      "grid_column": null,
      "grid_gap": null,
      "grid_row": null,
      "grid_template_areas": null,
      "grid_template_columns": null,
      "grid_template_rows": null,
      "height": null,
      "justify_content": null,
      "justify_items": null,
      "left": null,
      "margin": null,
      "max_height": null,
      "max_width": null,
      "min_height": null,
      "min_width": null,
      "object_fit": null,
      "object_position": null,
      "order": null,
      "overflow": null,
      "overflow_x": null,
      "overflow_y": null,
      "padding": null,
      "right": null,
      "top": null,
      "visibility": null,
      "width": null
     }
    },
    "9664039d84644907a81f0eb71b50d321": {
     "model_module": "@jupyter-widgets/controls",
     "model_module_version": "1.5.0",
     "model_name": "DescriptionStyleModel",
     "state": {
      "_model_module": "@jupyter-widgets/controls",
      "_model_module_version": "1.5.0",
      "_model_name": "DescriptionStyleModel",
      "_view_count": null,
      "_view_module": "@jupyter-widgets/base",
      "_view_module_version": "1.2.0",
      "_view_name": "StyleView",
      "description_width": ""
     }
    },
    "9adf6c4e07b3444884e8b9e44c90599b": {
     "model_module": "@jupyter-widgets/controls",
     "model_module_version": "1.5.0",
     "model_name": "DescriptionStyleModel",
     "state": {
      "_model_module": "@jupyter-widgets/controls",
      "_model_module_version": "1.5.0",
      "_model_name": "DescriptionStyleModel",
      "_view_count": null,
      "_view_module": "@jupyter-widgets/base",
      "_view_module_version": "1.2.0",
      "_view_name": "StyleView",
      "description_width": ""
     }
    },
    "ad76e1f16b6c4cb3b7fd68a0bd9748e1": {
     "model_module": "@jupyter-widgets/base",
     "model_module_version": "1.2.0",
     "model_name": "LayoutModel",
     "state": {
      "_model_module": "@jupyter-widgets/base",
      "_model_module_version": "1.2.0",
      "_model_name": "LayoutModel",
      "_view_count": null,
      "_view_module": "@jupyter-widgets/base",
      "_view_module_version": "1.2.0",
      "_view_name": "LayoutView",
      "align_content": null,
      "align_items": null,
      "align_self": null,
      "border": null,
      "bottom": null,
      "display": null,
      "flex": null,
      "flex_flow": null,
      "grid_area": null,
      "grid_auto_columns": null,
      "grid_auto_flow": null,
      "grid_auto_rows": null,
      "grid_column": null,
      "grid_gap": null,
      "grid_row": null,
      "grid_template_areas": null,
      "grid_template_columns": null,
      "grid_template_rows": null,
      "height": null,
      "justify_content": null,
      "justify_items": null,
      "left": null,
      "margin": null,
      "max_height": null,
      "max_width": null,
      "min_height": null,
      "min_width": null,
      "object_fit": null,
      "object_position": null,
      "order": null,
      "overflow": null,
      "overflow_x": null,
      "overflow_y": null,
      "padding": null,
      "right": null,
      "top": null,
      "visibility": null,
      "width": null
     }
    },
    "ad86f6bf15824a018b2193bbbe990001": {
     "model_module": "@jupyter-widgets/controls",
     "model_module_version": "1.5.0",
     "model_name": "ProgressStyleModel",
     "state": {
      "_model_module": "@jupyter-widgets/controls",
      "_model_module_version": "1.5.0",
      "_model_name": "ProgressStyleModel",
      "_view_count": null,
      "_view_module": "@jupyter-widgets/base",
      "_view_module_version": "1.2.0",
      "_view_name": "StyleView",
      "bar_color": null,
      "description_width": ""
     }
    },
    "b554819dea774a48b84fcb5fd89fb984": {
     "model_module": "@jupyter-widgets/controls",
     "model_module_version": "1.5.0",
     "model_name": "HTMLModel",
     "state": {
      "_dom_classes": [],
      "_model_module": "@jupyter-widgets/controls",
      "_model_module_version": "1.5.0",
      "_model_name": "HTMLModel",
      "_view_count": null,
      "_view_module": "@jupyter-widgets/controls",
      "_view_module_version": "1.5.0",
      "_view_name": "HTMLView",
      "description": "",
      "description_tooltip": null,
      "layout": "IPY_MODEL_46afcb48b5f84dfa95c985a5c212f1d1",
      "placeholder": "​",
      "style": "IPY_MODEL_4b67eb1cfedf49b2aab57c53eb257af6",
      "value": " 25/25 [00:03&lt;00:00, 10.37it/s]"
     }
    },
    "bb5742bbbe2b4a16ba934289013f480e": {
     "model_module": "@jupyter-widgets/base",
     "model_module_version": "1.2.0",
     "model_name": "LayoutModel",
     "state": {
      "_model_module": "@jupyter-widgets/base",
      "_model_module_version": "1.2.0",
      "_model_name": "LayoutModel",
      "_view_count": null,
      "_view_module": "@jupyter-widgets/base",
      "_view_module_version": "1.2.0",
      "_view_name": "LayoutView",
      "align_content": null,
      "align_items": null,
      "align_self": null,
      "border": null,
      "bottom": null,
      "display": null,
      "flex": null,
      "flex_flow": null,
      "grid_area": null,
      "grid_auto_columns": null,
      "grid_auto_flow": null,
      "grid_auto_rows": null,
      "grid_column": null,
      "grid_gap": null,
      "grid_row": null,
      "grid_template_areas": null,
      "grid_template_columns": null,
      "grid_template_rows": null,
      "height": null,
      "justify_content": null,
      "justify_items": null,
      "left": null,
      "margin": null,
      "max_height": null,
      "max_width": null,
      "min_height": null,
      "min_width": null,
      "object_fit": null,
      "object_position": null,
      "order": null,
      "overflow": null,
      "overflow_x": null,
      "overflow_y": null,
      "padding": null,
      "right": null,
      "top": null,
      "visibility": null,
      "width": null
     }
    },
    "c694fe9d883949d39b4ddea13f81c0cf": {
     "model_module": "@jupyter-widgets/controls",
     "model_module_version": "1.5.0",
     "model_name": "HTMLModel",
     "state": {
      "_dom_classes": [],
      "_model_module": "@jupyter-widgets/controls",
      "_model_module_version": "1.5.0",
      "_model_name": "HTMLModel",
      "_view_count": null,
      "_view_module": "@jupyter-widgets/controls",
      "_view_module_version": "1.5.0",
      "_view_name": "HTMLView",
      "description": "",
      "description_tooltip": null,
      "layout": "IPY_MODEL_bb5742bbbe2b4a16ba934289013f480e",
      "placeholder": "​",
      "style": "IPY_MODEL_9adf6c4e07b3444884e8b9e44c90599b",
      "value": " 25/25 [00:02&lt;00:00,  9.45it/s]"
     }
    },
    "c72281e815934a93904b83ae3788d817": {
     "model_module": "@jupyter-widgets/controls",
     "model_module_version": "1.5.0",
     "model_name": "DescriptionStyleModel",
     "state": {
      "_model_module": "@jupyter-widgets/controls",
      "_model_module_version": "1.5.0",
      "_model_name": "DescriptionStyleModel",
      "_view_count": null,
      "_view_module": "@jupyter-widgets/base",
      "_view_module_version": "1.2.0",
      "_view_name": "StyleView",
      "description_width": ""
     }
    },
    "c8f66e77cfcd4560b9fccf48f3eed9bc": {
     "model_module": "@jupyter-widgets/controls",
     "model_module_version": "1.5.0",
     "model_name": "DescriptionStyleModel",
     "state": {
      "_model_module": "@jupyter-widgets/controls",
      "_model_module_version": "1.5.0",
      "_model_name": "DescriptionStyleModel",
      "_view_count": null,
      "_view_module": "@jupyter-widgets/base",
      "_view_module_version": "1.2.0",
      "_view_name": "StyleView",
      "description_width": ""
     }
    },
    "ce733334049d4a8b85c139f1553e2cd1": {
     "model_module": "@jupyter-widgets/base",
     "model_module_version": "1.2.0",
     "model_name": "LayoutModel",
     "state": {
      "_model_module": "@jupyter-widgets/base",
      "_model_module_version": "1.2.0",
      "_model_name": "LayoutModel",
      "_view_count": null,
      "_view_module": "@jupyter-widgets/base",
      "_view_module_version": "1.2.0",
      "_view_name": "LayoutView",
      "align_content": null,
      "align_items": null,
      "align_self": null,
      "border": null,
      "bottom": null,
      "display": null,
      "flex": null,
      "flex_flow": null,
      "grid_area": null,
      "grid_auto_columns": null,
      "grid_auto_flow": null,
      "grid_auto_rows": null,
      "grid_column": null,
      "grid_gap": null,
      "grid_row": null,
      "grid_template_areas": null,
      "grid_template_columns": null,
      "grid_template_rows": null,
      "height": null,
      "justify_content": null,
      "justify_items": null,
      "left": null,
      "margin": null,
      "max_height": null,
      "max_width": null,
      "min_height": null,
      "min_width": null,
      "object_fit": null,
      "object_position": null,
      "order": null,
      "overflow": null,
      "overflow_x": null,
      "overflow_y": null,
      "padding": null,
      "right": null,
      "top": null,
      "visibility": null,
      "width": null
     }
    },
    "d55f0d8ebce741a594cfd634894c57fe": {
     "model_module": "@jupyter-widgets/controls",
     "model_module_version": "1.5.0",
     "model_name": "FloatProgressModel",
     "state": {
      "_dom_classes": [],
      "_model_module": "@jupyter-widgets/controls",
      "_model_module_version": "1.5.0",
      "_model_name": "FloatProgressModel",
      "_view_count": null,
      "_view_module": "@jupyter-widgets/controls",
      "_view_module_version": "1.5.0",
      "_view_name": "ProgressView",
      "bar_style": "",
      "description": "",
      "description_tooltip": null,
      "layout": "IPY_MODEL_6fdc3d5d7db94780a2cfeffa1bdb0dda",
      "max": 25,
      "min": 0,
      "orientation": "horizontal",
      "style": "IPY_MODEL_e530f320c4004443a02393c97d3133ad",
      "value": 25
     }
    },
    "e07cdc5b251e412b8c5f7379426bd5d5": {
     "model_module": "@jupyter-widgets/controls",
     "model_module_version": "1.5.0",
     "model_name": "HBoxModel",
     "state": {
      "_dom_classes": [],
      "_model_module": "@jupyter-widgets/controls",
      "_model_module_version": "1.5.0",
      "_model_name": "HBoxModel",
      "_view_count": null,
      "_view_module": "@jupyter-widgets/controls",
      "_view_module_version": "1.5.0",
      "_view_name": "HBoxView",
      "box_style": "",
      "children": [
       "IPY_MODEL_ef563d44971b4b39b7c2ede3fce718bc",
       "IPY_MODEL_59da96e3060444e2a69b91fb140f051c",
       "IPY_MODEL_b554819dea774a48b84fcb5fd89fb984"
      ],
      "layout": "IPY_MODEL_7208f2d1c36146f4b05eee298e80d932"
     }
    },
    "e530f320c4004443a02393c97d3133ad": {
     "model_module": "@jupyter-widgets/controls",
     "model_module_version": "1.5.0",
     "model_name": "ProgressStyleModel",
     "state": {
      "_model_module": "@jupyter-widgets/controls",
      "_model_module_version": "1.5.0",
      "_model_name": "ProgressStyleModel",
      "_view_count": null,
      "_view_module": "@jupyter-widgets/base",
      "_view_module_version": "1.2.0",
      "_view_name": "StyleView",
      "bar_color": null,
      "description_width": ""
     }
    },
    "ef563d44971b4b39b7c2ede3fce718bc": {
     "model_module": "@jupyter-widgets/controls",
     "model_module_version": "1.5.0",
     "model_name": "HTMLModel",
     "state": {
      "_dom_classes": [],
      "_model_module": "@jupyter-widgets/controls",
      "_model_module_version": "1.5.0",
      "_model_name": "HTMLModel",
      "_view_count": null,
      "_view_module": "@jupyter-widgets/controls",
      "_view_module_version": "1.5.0",
      "_view_name": "HTMLView",
      "description": "",
      "description_tooltip": null,
      "layout": "IPY_MODEL_ce733334049d4a8b85c139f1553e2cd1",
      "placeholder": "​",
      "style": "IPY_MODEL_c72281e815934a93904b83ae3788d817",
      "value": "100%"
     }
    },
    "f39cede371a54a83ba53a5c477ec4f42": {
     "model_module": "@jupyter-widgets/controls",
     "model_module_version": "1.5.0",
     "model_name": "DescriptionStyleModel",
     "state": {
      "_model_module": "@jupyter-widgets/controls",
      "_model_module_version": "1.5.0",
      "_model_name": "DescriptionStyleModel",
      "_view_count": null,
      "_view_module": "@jupyter-widgets/base",
      "_view_module_version": "1.2.0",
      "_view_name": "StyleView",
      "description_width": ""
     }
    },
    "f910ea282d8b436b8ce0b544d3a0264a": {
     "model_module": "@jupyter-widgets/base",
     "model_module_version": "1.2.0",
     "model_name": "LayoutModel",
     "state": {
      "_model_module": "@jupyter-widgets/base",
      "_model_module_version": "1.2.0",
      "_model_name": "LayoutModel",
      "_view_count": null,
      "_view_module": "@jupyter-widgets/base",
      "_view_module_version": "1.2.0",
      "_view_name": "LayoutView",
      "align_content": null,
      "align_items": null,
      "align_self": null,
      "border": null,
      "bottom": null,
      "display": null,
      "flex": null,
      "flex_flow": null,
      "grid_area": null,
      "grid_auto_columns": null,
      "grid_auto_flow": null,
      "grid_auto_rows": null,
      "grid_column": null,
      "grid_gap": null,
      "grid_row": null,
      "grid_template_areas": null,
      "grid_template_columns": null,
      "grid_template_rows": null,
      "height": null,
      "justify_content": null,
      "justify_items": null,
      "left": null,
      "margin": null,
      "max_height": null,
      "max_width": null,
      "min_height": null,
      "min_width": null,
      "object_fit": null,
      "object_position": null,
      "order": null,
      "overflow": null,
      "overflow_x": null,
      "overflow_y": null,
      "padding": null,
      "right": null,
      "top": null,
      "visibility": null,
      "width": null
     }
    }
   }
  }
 },
 "nbformat": 4,
 "nbformat_minor": 5
}
